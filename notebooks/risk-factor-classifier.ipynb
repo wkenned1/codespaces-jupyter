{
 "cells": [
  {
   "cell_type": "markdown",
   "metadata": {},
   "source": [
    "# Risk Factor Clinical Classifier\n",
    "\n",
    "This classifier takes patient answers to the Lung Space clinical survey and predicts the chance of cancer."
   ]
  },
  {
   "cell_type": "markdown",
   "metadata": {},
   "source": [
    "## Import dataset and build dataframe"
   ]
  },
  {
   "cell_type": "code",
   "execution_count": 98,
   "metadata": {},
   "outputs": [
    {
     "name": "stdout",
     "output_type": "stream",
     "text": [
      "positive:  2058  negative:  51394\n"
     ]
    },
    {
     "name": "stderr",
     "output_type": "stream",
     "text": [
      "/tmp/ipykernel_8696/3375708775.py:8: DtypeWarning: Columns (239,240,348) have mixed types. Specify dtype option on import or set low_memory=False.\n",
      "  df = pd.read_csv('../data/lungspace/package-nlst-1193.2024-02-20/participant_d040722.csv')\n"
     ]
    }
   ],
   "source": [
    "import numpy as np\n",
    "import pandas as pd\n",
    "from sklearn import tree\n",
    "from sklearn.linear_model import LogisticRegression\n",
    "from sklearn.neighbors import KNeighborsClassifier\n",
    "from sklearn.preprocessing import normalize\n",
    "\n",
    "df = pd.read_csv('../data/lungspace/package-nlst-1193.2024-02-20/participant_d040722.csv')\n",
    "\n",
    "\n",
    "# Breakdown of positive and negative sample size\n",
    "print(\"positive: \", len(df['lung_cancer'].loc[df['lung_cancer'] == 1].to_list()), \" negative: \", len(df['lung_cancer'].loc[df['lung_cancer'] == 0].to_list()))\n",
    "\n",
    "# Features\n",
    "features_demographic = ['age', 'weight', 'height', 'gender', 'educat', 'ethnic', 'race']\n",
    "features_smoking = [\"cigar\",\"cigsmok\",\"pipe\",\"pkyr\",\"smokeage\",\"smokeday\",\"smokelive\",\"smokework\",\"smokeyr\"]\n",
    "features_screening = ['num_screens']\n",
    "features_follow_up_procedures = [\"biop0\",\"biop1\",\"biop2\",\"bioplc\",\"invas0\",\"invas1\",\"invas2\",\"invaslc\",\"medcomp0\",\"medcomp1\",\"medcomp2\",\"medcomplc\",\"mra_stat0\",\"mra_stat1\",\"mra_stat2\",\"no_proc_reas0\",\"no_proc_reas1\",\"no_proc_reas2\",\"proc0\",\"proc1\",\"proc2\"]\n",
    "features_work_history = [\"resasbe\",\"resbaki\",\"resbutc\",\"reschem\",\"resfarm\",\"resfire\",\"resflou\",\"resfoun\",\"reshard\",\"respain\",\"ressand\",\"resweld\",\"wrkasbe\",\"wrkbaki\",\"wrkbutc\",\"wrkchem\",\"wrkcoal\",\"wrkcott\",\"wrkfarm\",\"wrkfire\",\"wrkflou\",\"wrkfoun\",\"wrkhard\",\"wrkpain\",\"wrksand\",\"wrkweld\"]\n",
    "features_disease_history = [\"ageadas\",\"ageasbe\",\"agebron\",\"agechas\",\"agechro\",\"agecopd\",\"agediab\",\"ageemph\",\"agehear\",\"agehype\",\"agepneu\",\"agestro\",\"agetube\",\"diagadas\",\"diagasbe\",\"diagbron\",\"diagchas\",\"diagchro\",\"diagcopd\",\"diagdiab\",\"diagemph\",\"diagfibr\",\"diaghear\",\"diaghype\",\"diagpneu\",\"diagsarc\",\"diagsili\",\"diagstro\",\"diagtube\"]\n",
    "features_family_history = [\"fambrother\",\"famchild\",\"famfather\",\"fammother\",\"famsister\"]\n",
    "features_alcohol = [\"acrin_alc_curr\",\"acrin_alc_ever\",\"acrin_drink24hr\",\"acrin_drinknum_curr\",\"acrin_drinknum_form\",\"acrin_drinkyrs_curr\",\"acrin_drinkyrs_form\",\"acrin_lastdrink\",\"lss_alcohol_freq\",\"lss_alcohol_num\"]\n",
    "output_column = ['lung_cancer']\n"
   ]
  },
  {
   "cell_type": "markdown",
   "metadata": {},
   "source": [
    "## Choose features to include"
   ]
  },
  {
   "cell_type": "markdown",
   "metadata": {},
   "source": [
    "### Features: Demographics and Smoking\n",
    "\n",
    "- Random forest (default): 99.8% accuracy\n",
    "- K Nearest Neighbor: 94% accuracy\n",
    "- Logistic Regression: 70% accuracy"
   ]
  },
  {
   "cell_type": "code",
   "execution_count": 99,
   "metadata": {},
   "outputs": [],
   "source": [
    "# dataset_columns = features_demographic + features_smoking + output_column\n"
   ]
  },
  {
   "cell_type": "markdown",
   "metadata": {},
   "source": [
    "### Features: Demographics, Smoking, Work History, Family History, Alcohol\n",
    "\n",
    "- Random forest (default): 99.9% accuracy\n",
    "- K Nearest Neighbor (3 neighbors): 94%\n",
    "- Logistic Regression: 64%"
   ]
  },
  {
   "cell_type": "code",
   "execution_count": 100,
   "metadata": {},
   "outputs": [],
   "source": [
    "dataset_columns = features_demographic + features_smoking + features_work_history + features_family_history + features_alcohol + output_column\n"
   ]
  },
  {
   "cell_type": "markdown",
   "metadata": {},
   "source": [
    "## Remove null values and add weight/height field"
   ]
  },
  {
   "cell_type": "code",
   "execution_count": 101,
   "metadata": {},
   "outputs": [
    {
     "name": "stdout",
     "output_type": "stream",
     "text": [
      "       age  weight  weight_div_height  height  gender  educat  ethnic  race  \\\n",
      "0       70   134.0           1.914286    70.0       1       2       2     1   \n",
      "1       66   175.0           2.573529    68.0       1       3       2     1   \n",
      "2       64   180.0           2.571429    70.0       1       3       2     1   \n",
      "3       60   205.0           2.928571    70.0       1       5       2     1   \n",
      "4       64   220.0           3.283582    67.0       1       2       2     1   \n",
      "...    ...     ...                ...     ...     ...     ...     ...   ...   \n",
      "53447   73   206.0           3.218750    64.0       2       3       2     1   \n",
      "53448   66   175.0           2.464789    71.0       1       2       2     1   \n",
      "53449   56   172.0           2.388889    72.0       1       5       2     1   \n",
      "53450   69   210.0           3.088235    68.0       1       4       2     1   \n",
      "53451   57   220.0           3.188406    69.0       1       7       2     1   \n",
      "\n",
      "       cigar  cigsmok  ...  wrkcott  wrkfarm  wrkfire  wrkflou  wrkfoun  \\\n",
      "0        1.0        1  ...      0.0      1.0      0.0      0.0      0.0   \n",
      "1        0.0        1  ...      0.0      1.0      0.0      0.0      0.0   \n",
      "2        0.0        1  ...      0.0      0.0      0.0      0.0      0.0   \n",
      "3        0.0        0  ...      0.0      1.0      1.0      1.0      0.0   \n",
      "4        0.0        0  ...      0.0      0.0      0.0      0.0      0.0   \n",
      "...      ...      ...  ...      ...      ...      ...      ...      ...   \n",
      "53447    0.0        1  ...      0.0      1.0      0.0      0.0      0.0   \n",
      "53448    0.0        1  ...      0.0      0.0      0.0      0.0      0.0   \n",
      "53449    1.0        0  ...      0.0      0.0      0.0      0.0      0.0   \n",
      "53450    0.0        0  ...      0.0      1.0      0.0      0.0      0.0   \n",
      "53451    0.0        1  ...      0.0      0.0      0.0      0.0      0.0   \n",
      "\n",
      "       wrkhard  wrkpain  wrksand  wrkweld  lung_cancer  \n",
      "0          0.0      0.0      0.0      0.0            0  \n",
      "1          0.0      0.0      0.0      1.0            0  \n",
      "2          0.0      1.0      0.0      0.0            0  \n",
      "3          0.0      0.0      0.0      1.0            0  \n",
      "4          0.0      0.0      0.0      0.0            0  \n",
      "...        ...      ...      ...      ...          ...  \n",
      "53447      0.0      0.0      0.0      0.0            0  \n",
      "53448      0.0      0.0      0.0      0.0            0  \n",
      "53449      0.0      0.0      0.0      0.0            0  \n",
      "53450      0.0      0.0      0.0      0.0            0  \n",
      "53451      0.0      0.0      0.0      0.0            0  \n",
      "\n",
      "[52292 rows x 32 columns]\n"
     ]
    }
   ],
   "source": [
    "# Build dataframe\n",
    "df = df[dataset_columns]\n",
    "for i in dataset_columns[:]:\n",
    "  if df[i].isna().sum() > 500:\n",
    "    df = df.drop(i, axis=1)\n",
    "    dataset_columns.remove(i)\n",
    "\n",
    "# print(df.isnull().sum(axis = 0).sort_values(ascending=False).to_string())\n",
    "\n",
    "df = df.dropna()\n",
    "\n",
    "df.insert(2, 'weight_div_height', df['weight'] / df['height'])\n",
    "\n",
    "print(df)\n"
   ]
  },
  {
   "cell_type": "markdown",
   "metadata": {},
   "source": [
    "## Downsample the negative samples to balance the dataset"
   ]
  },
  {
   "cell_type": "code",
   "execution_count": 102,
   "metadata": {},
   "outputs": [],
   "source": [
    "# # Determines how many negative samples to include in the dataset\n",
    "# # The frac value determines the percent of negative values that are excluded\n",
    "# df = df.drop(df.query('lung_cancer == 0').sample(frac=.95).index)\n",
    "\n",
    "# df = df[df[dataset_columns] >= 0]\n",
    "# # print(df.loc[df.apply(lambda row: all(value < 0 for value in row), axis=1)])\n",
    "# df = df.dropna()\n",
    "# print(df)\n"
   ]
  },
  {
   "cell_type": "markdown",
   "metadata": {},
   "source": [
    "## Duplicate the positive examples to balance the dataset"
   ]
  },
  {
   "cell_type": "code",
   "execution_count": 103,
   "metadata": {},
   "outputs": [
    {
     "name": "stdout",
     "output_type": "stream",
     "text": [
      "       age  weight  weight_div_height  height  gender  educat  ethnic  race  \\\n",
      "11      61   142.0           2.119403    67.0       2       7       2     1   \n",
      "48      74   190.0           2.676056    71.0       2       4       2     1   \n",
      "54      67   165.0           2.357143    70.0       1       6       2     1   \n",
      "157     65   189.0           2.779412    68.0       1       5       2     1   \n",
      "195     65   159.0           2.564516    62.0       2       3       2     1   \n",
      "...    ...     ...                ...     ...     ...     ...     ...   ...   \n",
      "53381   60   169.0           2.600000    65.0       2       4       2     1   \n",
      "53391   69   135.0           2.076923    65.0       2       5       2     1   \n",
      "53395   56   195.0           2.785714    70.0       1       3       2     1   \n",
      "53430   61   190.0           2.638889    72.0       1       4       2     1   \n",
      "53443   57   230.0           3.593750    64.0       2       7       2     1   \n",
      "\n",
      "       cigar  cigsmok  ...  wrkcott  wrkfarm  wrkfire  wrkflou  wrkfoun  \\\n",
      "11       1.0        1  ...      0.0      0.0      0.0      0.0      0.0   \n",
      "48       0.0        1  ...      0.0      0.0      0.0      0.0      0.0   \n",
      "54       0.0        0  ...      0.0      1.0      0.0      0.0      0.0   \n",
      "157      0.0        0  ...      0.0      0.0      0.0      0.0      0.0   \n",
      "195      0.0        1  ...      0.0      0.0      0.0      0.0      0.0   \n",
      "...      ...      ...  ...      ...      ...      ...      ...      ...   \n",
      "53381    0.0        0  ...      0.0      0.0      0.0      0.0      0.0   \n",
      "53391    0.0        1  ...      0.0      0.0      0.0      0.0      0.0   \n",
      "53395    0.0        1  ...      0.0      0.0      0.0      0.0      0.0   \n",
      "53430    0.0        0  ...      0.0      0.0      0.0      0.0      1.0   \n",
      "53443    0.0        0  ...      0.0      0.0      0.0      0.0      0.0   \n",
      "\n",
      "       wrkhard  wrkpain  wrksand  wrkweld  lung_cancer  \n",
      "11         0.0      0.0      0.0      0.0            1  \n",
      "48         0.0      0.0      0.0      0.0            1  \n",
      "54         0.0      0.0      0.0      0.0            1  \n",
      "157        0.0      0.0      0.0      0.0            1  \n",
      "195        0.0      0.0      0.0      0.0            1  \n",
      "...        ...      ...      ...      ...          ...  \n",
      "53381      0.0      0.0      0.0      0.0            1  \n",
      "53391      0.0      0.0      0.0      0.0            1  \n",
      "53395      0.0      1.0      0.0      0.0            1  \n",
      "53430      0.0      0.0      0.0      0.0            1  \n",
      "53443      0.0      0.0      0.0      0.0            1  \n",
      "\n",
      "[2003 rows x 32 columns]\n",
      "2003\n",
      "       age  weight  weight_div_height  height  gender  educat  ethnic  race  \\\n",
      "0       70   134.0           1.914286    70.0       1       2       2     1   \n",
      "1       66   175.0           2.573529    68.0       1       3       2     1   \n",
      "2       64   180.0           2.571429    70.0       1       3       2     1   \n",
      "3       60   205.0           2.928571    70.0       1       5       2     1   \n",
      "4       64   220.0           3.283582    67.0       1       2       2     1   \n",
      "...    ...     ...                ...     ...     ...     ...     ...   ...   \n",
      "53381   60   169.0           2.600000    65.0       2       4       2     1   \n",
      "53391   69   135.0           2.076923    65.0       2       5       2     1   \n",
      "53395   56   195.0           2.785714    70.0       1       3       2     1   \n",
      "53430   61   190.0           2.638889    72.0       1       4       2     1   \n",
      "53443   57   230.0           3.593750    64.0       2       7       2     1   \n",
      "\n",
      "       cigar  cigsmok  ...  wrkcott  wrkfarm  wrkfire  wrkflou  wrkfoun  \\\n",
      "0        1.0        1  ...      0.0      1.0      0.0      0.0      0.0   \n",
      "1        0.0        1  ...      0.0      1.0      0.0      0.0      0.0   \n",
      "2        0.0        1  ...      0.0      0.0      0.0      0.0      0.0   \n",
      "3        0.0        0  ...      0.0      1.0      1.0      1.0      0.0   \n",
      "4        0.0        0  ...      0.0      0.0      0.0      0.0      0.0   \n",
      "...      ...      ...  ...      ...      ...      ...      ...      ...   \n",
      "53381    0.0        0  ...      0.0      0.0      0.0      0.0      0.0   \n",
      "53391    0.0        1  ...      0.0      0.0      0.0      0.0      0.0   \n",
      "53395    0.0        1  ...      0.0      0.0      0.0      0.0      0.0   \n",
      "53430    0.0        0  ...      0.0      0.0      0.0      0.0      1.0   \n",
      "53443    0.0        0  ...      0.0      0.0      0.0      0.0      0.0   \n",
      "\n",
      "       wrkhard  wrkpain  wrksand  wrkweld  lung_cancer  \n",
      "0          0.0      0.0      0.0      0.0            0  \n",
      "1          0.0      0.0      0.0      1.0            0  \n",
      "2          0.0      1.0      0.0      0.0            0  \n",
      "3          0.0      0.0      0.0      1.0            0  \n",
      "4          0.0      0.0      0.0      0.0            0  \n",
      "...        ...      ...      ...      ...          ...  \n",
      "53381      0.0      0.0      0.0      0.0            1  \n",
      "53391      0.0      0.0      0.0      0.0            1  \n",
      "53395      0.0      1.0      0.0      0.0            1  \n",
      "53430      0.0      0.0      0.0      0.0            1  \n",
      "53443      0.0      0.0      0.0      0.0            1  \n",
      "\n",
      "[102367 rows x 32 columns]\n",
      "positive:  52078  negative:  50289\n"
     ]
    }
   ],
   "source": [
    "# Duplicate the positive samples to balance the dataset\n",
    "\n",
    "df_positives = df[df['lung_cancer'] == 1]\n",
    "print(df_positives)\n",
    "print(len(df_positives['lung_cancer'].to_list()))\n",
    "\n",
    "while len(df[df['lung_cancer'] == 1]['lung_cancer'].to_list()) < len(df[df['lung_cancer'] == 0]['lung_cancer'].to_list()):\n",
    "  df = pd.concat([df, df_positives])\n",
    "\n",
    "print(df)\n",
    "print(\"positive: \", len(df['lung_cancer'].loc[df['lung_cancer'] == 1].to_list()), \" negative: \", len(df['lung_cancer'].loc[df['lung_cancer'] == 0].to_list()))\n"
   ]
  },
  {
   "cell_type": "markdown",
   "metadata": {},
   "source": [
    "## Define models"
   ]
  },
  {
   "cell_type": "code",
   "execution_count": 104,
   "metadata": {},
   "outputs": [
    {
     "name": "stdout",
     "output_type": "stream",
     "text": [
      "       lung_cancer\n",
      "22222            0\n",
      "51724            1\n",
      "50240            0\n",
      "32696            0\n",
      "23540            0\n",
      "...            ...\n",
      "6437             0\n",
      "16001            1\n",
      "13541            1\n",
      "885              0\n",
      "16216            0\n",
      "\n",
      "[61420 rows x 1 columns]\n",
      "       lung_cancer\n",
      "2143             1\n",
      "47772            0\n",
      "35291            0\n",
      "47827            0\n",
      "51406            1\n",
      "...            ...\n",
      "50791            1\n",
      "53395            1\n",
      "6817             1\n",
      "7661             0\n",
      "12796            1\n",
      "\n",
      "[40947 rows x 1 columns]\n",
      "positive training sample:  31243\n",
      "negative training sample:  30177\n",
      "positive training sample:  20835\n",
      "negative training sample:  20112\n"
     ]
    }
   ],
   "source": [
    "import matplotlib.pyplot as plt\n",
    "import seaborn as sns\n",
    "import numpy as np\n",
    "from matplotlib.colors import ListedColormap\n",
    "\n",
    "from sklearn.metrics import accuracy_score\n",
    "from sklearn.metrics import confusion_matrix, ConfusionMatrixDisplay\n",
    "\n",
    "from sklearn.datasets import make_circles, make_classification, make_moons\n",
    "from sklearn.discriminant_analysis import QuadraticDiscriminantAnalysis\n",
    "from sklearn.ensemble import AdaBoostClassifier, RandomForestClassifier\n",
    "from sklearn.gaussian_process import GaussianProcessClassifier\n",
    "from sklearn.gaussian_process.kernels import RBF\n",
    "from sklearn.inspection import DecisionBoundaryDisplay\n",
    "from sklearn.model_selection import train_test_split\n",
    "from sklearn.naive_bayes import GaussianNB, MultinomialNB\n",
    "from sklearn.neighbors import KNeighborsClassifier\n",
    "from sklearn.neural_network import MLPClassifier\n",
    "from sklearn.pipeline import make_pipeline\n",
    "from sklearn.preprocessing import StandardScaler\n",
    "from sklearn.svm import SVC\n",
    "from sklearn.tree import DecisionTreeClassifier\n",
    "from sklearn.linear_model import LogisticRegression\n",
    "\n",
    "# Model names\n",
    "names = [\n",
    "    \"Nearest Neighbors\",\n",
    "    \"Linear SVM\",\n",
    "    # \"RBF SVM\",\n",
    "    # \"Gaussian Process\",\n",
    "    \"Decision Tree\",\n",
    "    # \"Random Forest\",\n",
    "    # \"Neural Net\",\n",
    "    # \"AdaBoost\",\n",
    "    \"Naive Bayes\",\n",
    "    \"Logistic Regression\"\n",
    "    # \"QDA\",\n",
    "]\n",
    "\n",
    "# Models\n",
    "classifiers = [\n",
    "    KNeighborsClassifier(3),\n",
    "    SVC(kernel=\"linear\", C=0.025, random_state=42),\n",
    "    # SVC(gamma=2, C=1, random_state=42),\n",
    "    # GaussianProcessClassifier(1.0 * RBF(1.0), random_state=42),\n",
    "    DecisionTreeClassifier(max_depth=5, random_state=42),\n",
    "    # RandomForestClassifier(\n",
    "    #     max_depth=5, n_estimators=10, max_features=1, random_state=42\n",
    "    # ),\n",
    "    # MLPClassifier(alpha=1, max_iter=1000, random_state=42),\n",
    "    # AdaBoostClassifier(algorithm=\"SAMME\", random_state=42),\n",
    "    GaussianNB(),\n",
    "    LogisticRegression(random_state=0)\n",
    "    # QuadraticDiscriminantAnalysis(),\n",
    "]\n",
    "\n",
    "\n",
    "# Use predict lung_cancer column\n",
    "# X = df[['age', 'weight', 'height', \"cigar\",\"cigsmok\",\"pipe\",\"pkyr\",\"smokeage\",\"smokeday\",\"smokelive\",\"smokework\",\"smokeyr\",\"num_screens\"]]\n",
    "X = df[dataset_columns[:-1]]\n",
    "y = df[['lung_cancer']]\n",
    "\n",
    "# Spli training and test sets\n",
    "X_train, X_test, y_train, y_test = train_test_split(\n",
    "    X, y, test_size=0.4, random_state=42\n",
    ")\n",
    "\n",
    "print(y_train)\n",
    "print(y_test)\n",
    "\n",
    "print(\"positive training sample: \", len(list(filter(lambda x: x == 1.0, y_train['lung_cancer'].to_list()))))\n",
    "print(\"negative training sample: \", len(list(filter(lambda x: x == 0.0, y_train['lung_cancer'].to_list()))))\n",
    "print(\"positive training sample: \", len(list(filter(lambda x: x == 1.0, y_test['lung_cancer'].to_list()))))\n",
    "print(\"negative training sample: \", len(list(filter(lambda x: x == 0.0, y_test['lung_cancer'].to_list()))))\n"
   ]
  },
  {
   "cell_type": "markdown",
   "metadata": {},
   "source": [
    "## Test models and plot confusion matrices\n",
    "\n",
    "The goal is to minimize the number of false negative predictions."
   ]
  },
  {
   "cell_type": "code",
   "execution_count": 105,
   "metadata": {},
   "outputs": [],
   "source": [
    "# for name, clf in zip(names, classifiers):\n",
    "#   clf = make_pipeline(StandardScaler(), clf)\n",
    "#   clf.fit(normalize(X_train), y_train)\n",
    "#   y_pred = clf.predict(normalize(X_test))\n",
    "\n",
    "#   score = accuracy_score(y_test, y_pred)\n",
    "#   conf_matrix = confusion_matrix(y_test, y_pred)\n",
    "#   disp = ConfusionMatrixDisplay(confusion_matrix=conf_matrix, display_labels=clf.classes_)\n",
    "#   disp.plot()\n",
    "#   print(\"Model: \", name, \" score: \", score)\n"
   ]
  },
  {
   "cell_type": "markdown",
   "metadata": {},
   "source": [
    "## Get confidence of each prediction with `predict_proba()`"
   ]
  },
  {
   "cell_type": "code",
   "execution_count": 106,
   "metadata": {},
   "outputs": [
    {
     "name": "stderr",
     "output_type": "stream",
     "text": [
      "/home/codespace/.python/current/lib/python3.10/site-packages/sklearn/utils/validation.py:1183: DataConversionWarning: A column-vector y was passed when a 1d array was expected. Please change the shape of y to (n_samples, ), for example using ravel().\n",
      "  y = column_or_1d(y, warn=True)\n",
      "/home/codespace/.python/current/lib/python3.10/site-packages/sklearn/base.py:458: UserWarning: X has feature names, but StandardScaler was fitted without feature names\n",
      "  warnings.warn(\n"
     ]
    },
    {
     "name": "stdout",
     "output_type": "stream",
     "text": [
      "Model:  Logistic Regression  score:  0.6394851881700735\n"
     ]
    },
    {
     "data": {
      "image/png": "[encoded data removed]",
      "text/plain": [
       "<Figure size 640x480 with 2 Axes>"
      ]
     },
     "metadata": {},
     "output_type": "display_data"
    }
   ],
   "source": [
    "# # Fit logistic regression model\n",
    "# model = LogisticRegression(random_state=0)\n",
    "# model.fit(X_train, y_train)\n",
    "\n",
    "# # Get confidence intervals for each prediction\n",
    "# y_pred_prob = model.predict_proba(X_test)\n",
    "# # Get predicted values\n",
    "# y_pred = model.predict(normalize(X_test))\n",
    "\n",
    "# # Get prediction accuracy\n",
    "# score = accuracy_score(y_test, y_pred)\n",
    "# # Get breakdown of false/true positives and false/true negatives\n",
    "# conf_matrix = confusion_matrix(y_test, y_pred)\n",
    "\n",
    "# # Display results\n",
    "# disp = ConfusionMatrixDisplay(confusion_matrix=conf_matrix, display_labels=clf.classes_)\n",
    "# disp.plot()\n",
    "# print(\"Model: \", name, \" score: \", score)\n",
    "\n",
    "clf = m = LogisticRegression(random_state=0)\n",
    "clf = make_pipeline(StandardScaler(), clf)\n",
    "clf.fit(normalize(X_train), y_train)\n",
    "y_pred = clf.predict(normalize(X_test))\n",
    "y_pred_prob = clf.predict_proba(X_test)\n",
    "\n",
    "score = accuracy_score(y_test, y_pred)\n",
    "conf_matrix = confusion_matrix(y_test, y_pred)\n",
    "disp = ConfusionMatrixDisplay(confusion_matrix=conf_matrix, display_labels=clf.classes_)\n",
    "disp.plot()\n",
    "print(\"Model: \", \"Logistic Regression\", \" score: \", score)\n"
   ]
  },
  {
   "cell_type": "markdown",
   "metadata": {},
   "source": [
    "## Rank features used "
   ]
  },
  {
   "cell_type": "code",
   "execution_count": 107,
   "metadata": {},
   "outputs": [
    {
     "name": "stdout",
     "output_type": "stream",
     "text": [
      "[('pkyr', 1.076336675718121), ('weight', 0.5682081182035478), ('age', 0.4733194736276832), ('smokeyr', 0.33650648037735265), ('smokeday', -0.32835363083832764), ('height', -0.17784655808309488), ('gender', -0.15766255220451472), ('cigsmok', 0.10122090001448815), ('ethnic', 0.08285995841024414), ('smokeage', 0.07723360802697858), ('smokework', 0.04120663330253991), ('educat', 0.03913117092518037), ('wrkfire', 0.037742526374111095), ('wrkfoun', 0.03271742735921205), ('wrksand', 0.03253352768084245), ('wrkchem', 0.026568198346441953), ('wrkasbe', 0.024590363025394735), ('wrkpain', -0.01993186297930398), ('wrkbutc', -0.018668119964743424), ('wrkweld', 0.017130929101915784), ('pipe', -0.013741688592480325), ('wrkflou', 0.01128588297326031), ('smokelive', 0.010890209058168614), ('wrkbaki', -0.010783679316261573), ('wrkcoal', 0.010480437812732682), ('wrkfarm', 0.010172767203219824), ('cigar', -0.009537676759398532), ('wrkcott', 0.007220848400958422), ('wrkhard', 0.00635011748805288), ('race', -0.0011095692903710635)]\n"
     ]
    }
   ],
   "source": [
    "# Create lists of feature names and coefficients\n",
    "column_labels = X_train.columns.tolist()\n",
    "coef = m.coef_.squeeze().tolist()\n",
    "\n",
    "# Zip together\n",
    "labels_coef = list(zip(column_labels, coef))\n",
    "# Order by most significant features (positive or negative)\n",
    "feature_ranks = sorted(labels_coef, key=lambda x: abs(x[1]), reverse=True)\n",
    "\n",
    "print(feature_ranks)\n"
   ]
  },
  {
   "cell_type": "markdown",
   "metadata": {},
   "source": [
    "## Compare compare the probabilities of false positives and false negatives to true positives and true negatives"
   ]
  },
  {
   "cell_type": "code",
   "execution_count": 108,
   "metadata": {},
   "outputs": [],
   "source": [
    "true_negative_probs = []\n",
    "false_negative_probs = []\n",
    "true_positive_probs = []\n",
    "false_positive_probs = []\n",
    "\n",
    "y_pred_list = y_pred.tolist()\n",
    "y_pred_prob_list = y_pred_prob.tolist()\n",
    "y_test_list = y_test['lung_cancer'].tolist()\n",
    "\n",
    "for i in range(len(y_test)):\n",
    "  # true negative\n",
    "  if y_pred_list[i] == 0 and y_test_list[i] == 0:\n",
    "    true_negative_probs.append(y_pred_prob_list[i][0])\n",
    "  # false negative\n",
    "  elif y_pred_list[i] == 0 and y_test_list[i] == 1:\n",
    "    false_negative_probs.append(y_pred_prob_list[i][0])\n",
    "  # true positive\n",
    "  elif y_pred_list[i] == 1 and y_test_list[i] == 1:\n",
    "    true_positive_probs.append(y_pred_prob_list[i][1])\n",
    "  # false positive\n",
    "  else:\n",
    "    false_positive_probs.append(y_pred_prob_list[i][1])\n"
   ]
  },
  {
   "cell_type": "markdown",
   "metadata": {},
   "source": [
    "## Plot the confidence intervals that led to the different predictions. "
   ]
  },
  {
   "cell_type": "code",
   "execution_count": 109,
   "metadata": {},
   "outputs": [
    {
     "data": {
      "image/png": "[encoded data removed]",
      "text/plain": [
       "<Figure size 640x480 with 1 Axes>"
      ]
     },
     "metadata": {},
     "output_type": "display_data"
    }
   ],
   "source": [
    "data = {'false negative': false_negative_probs,\n",
    "               'true negative': true_negative_probs,\n",
    "               'false positive': false_positive_probs,\n",
    "               'true positive': true_positive_probs,\n",
    "              }\n",
    "cols = ['false negative', 'true negative', 'false positive', 'true positive']\n",
    "\n",
    "df = pd.DataFrame.from_dict(\n",
    "    data=dict(data),\n",
    "    orient='index',\n",
    ").T\n",
    "\n",
    "fig, ax = plt.subplots()\n",
    "\n",
    "ax = sns.stripplot(data=df)\n",
    "ax.set_ylim(0, 1)\n",
    "\n",
    "plt.show()\n"
   ]
  },
  {
   "cell_type": "code",
   "execution_count": 110,
   "metadata": {},
   "outputs": [
    {
     "name": "stderr",
     "output_type": "stream",
     "text": [
      "/home/codespace/.python/current/lib/python3.10/site-packages/sklearn/neighbors/_classification.py:233: DataConversionWarning: A column-vector y was passed when a 1d array was expected. Please change the shape of y to (n_samples,), for example using ravel().\n",
      "  return self._fit(X, y)\n",
      "/home/codespace/.python/current/lib/python3.10/site-packages/sklearn/base.py:458: UserWarning: X has feature names, but StandardScaler was fitted without feature names\n",
      "  warnings.warn(\n"
     ]
    },
    {
     "name": "stdout",
     "output_type": "stream",
     "text": [
      "Model:  KNN  score:  0.942633159938457\n"
     ]
    },
    {
     "data": {
      "image/png": "[encoded data removed]",
      "text/plain": [
       "<Figure size 640x480 with 2 Axes>"
      ]
     },
     "metadata": {},
     "output_type": "display_data"
    }
   ],
   "source": [
    "clf = KNeighborsClassifier(3)\n",
    "clf = make_pipeline(StandardScaler(), clf)\n",
    "clf.fit(normalize(X_train), y_train)\n",
    "y_pred = clf.predict(normalize(X_test))\n",
    "y_pred_prob = clf.predict_proba(X_test)\n",
    "\n",
    "score = accuracy_score(y_test, y_pred)\n",
    "conf_matrix = confusion_matrix(y_test, y_pred)\n",
    "disp = ConfusionMatrixDisplay(confusion_matrix=conf_matrix, display_labels=clf.classes_)\n",
    "disp.plot()\n",
    "print(\"Model: \", \"KNN\", \" score: \", score)\n",
    "\n",
    "# # Fit logistic regression model\n",
    "# model2 = KNeighborsClassifier(3)\n",
    "# model2.fit(X_train, y_train)\n",
    "\n",
    "# # Get confidence intervals for each prediction\n",
    "# y_pred_prob = model2.predict_proba(X_test)\n",
    "# # Get predicted values\n",
    "# y_pred = model2.predict(normalize(X_test))\n",
    "\n",
    "# # Get prediction accuracy\n",
    "# score = accuracy_score(y_test, y_pred)\n",
    "# # Get breakdown of false/true positives and false/true negatives\n",
    "# conf_matrix = confusion_matrix(y_test, y_pred)\n",
    "\n",
    "# # Display results\n",
    "# disp = ConfusionMatrixDisplay(confusion_matrix=conf_matrix, display_labels=clf.classes_)\n",
    "# disp.plot()\n",
    "# print(\"Model: \", \"KNN\", \" score: \", score)\n"
   ]
  },
  {
   "cell_type": "code",
   "execution_count": 111,
   "metadata": {},
   "outputs": [
    {
     "name": "stderr",
     "output_type": "stream",
     "text": [
      "/home/codespace/.python/current/lib/python3.10/site-packages/sklearn/base.py:1152: DataConversionWarning: A column-vector y was passed when a 1d array was expected. Please change the shape of y to (n_samples,), for example using ravel().\n",
      "  return fit_method(estimator, *args, **kwargs)\n",
      "/home/codespace/.python/current/lib/python3.10/site-packages/sklearn/base.py:458: UserWarning: X has feature names, but StandardScaler was fitted without feature names\n",
      "  warnings.warn(\n"
     ]
    },
    {
     "name": "stdout",
     "output_type": "stream",
     "text": [
      "Model:  Random Forest  score:  0.9988765965760618\n"
     ]
    },
    {
     "data": {
      "image/png": "[encoded data removed]",
      "text/plain": [
       "<Figure size 640x480 with 2 Axes>"
      ]
     },
     "metadata": {},
     "output_type": "display_data"
    }
   ],
   "source": [
    "clf = m = RandomForestClassifier()\n",
    "clf = make_pipeline(StandardScaler(), clf)\n",
    "clf.fit(normalize(X_train), y_train)\n",
    "y_pred = clf.predict(normalize(X_test))\n",
    "y_pred_prob = clf.predict_proba(X_test)\n",
    "\n",
    "score = accuracy_score(y_test, y_pred)\n",
    "conf_matrix = confusion_matrix(y_test, y_pred)\n",
    "disp = ConfusionMatrixDisplay(confusion_matrix=conf_matrix, display_labels=clf.classes_)\n",
    "disp.plot()\n",
    "print(\"Model: \", \"Random Forest\", \" score: \", score)\n"
   ]
  },
  {
   "cell_type": "code",
   "execution_count": 112,
   "metadata": {},
   "outputs": [
    {
     "name": "stdout",
     "output_type": "stream",
     "text": [
      "[('smokeyr', 0.09465706462934864), ('pkyr', 0.09087446895516663), ('weight', 0.08027768986851307), ('educat', 0.0714576698070193), ('age', 0.06983906250637152), ('smokeage', 0.06653593722114717), ('height', 0.06517964023179251), ('smokeday', 0.06468833299291143), ('gender', 0.05572072231243631), ('race', 0.0548756870740988), ('ethnic', 0.05432299195168948), ('smokework', 0.04975729948655026), ('smokelive', 0.04920571129861216), ('cigsmok', 0.036817207241083554), ('pipe', 0.01986662119892438), ('cigar', 0.0178416977614457), ('wrkfarm', 0.012062432001458007), ('wrkchem', 0.007745641672052322), ('wrkpain', 0.00599398627090285), ('wrkasbe', 0.005833788635664651), ('wrkweld', 0.005806876713238058), ('wrkfoun', 0.004952792152607952), ('wrkbutc', 0.0037782173528340865), ('wrkbaki', 0.0033504132441292364), ('wrkfire', 0.0022289303008271714), ('wrksand', 0.0019291325530049605), ('wrkflou', 0.0016749347573823772), ('wrkcott', 0.0010086129967504503), ('wrkhard', 0.0009422436805974994), ('wrkcoal', 0.0007741931314395492)]\n"
     ]
    }
   ],
   "source": [
    "# Create lists of feature names and coefficients\n",
    "column_labels = X_train.columns.tolist()\n",
    "coef = m.feature_importances_\n",
    "\n",
    "# Zip together\n",
    "labels_coef = list(zip(column_labels, coef))\n",
    "# Order by most significant features (positive or negative)\n",
    "feature_ranks = sorted(labels_coef, key=lambda x: abs(x[1]), reverse=True)\n",
    "\n",
    "print(feature_ranks)\n"
   ]
  },
  {
   "cell_type": "code",
   "execution_count": 113,
   "metadata": {},
   "outputs": [],
   "source": [
    "true_negative_probs = []\n",
    "false_negative_probs = []\n",
    "true_positive_probs = []\n",
    "false_positive_probs = []\n",
    "\n",
    "y_pred_list = y_pred.tolist()\n",
    "y_pred_prob_list = y_pred_prob.tolist()\n",
    "y_test_list = y_test['lung_cancer'].tolist()\n",
    "\n",
    "for i in range(len(y_test)):\n",
    "  # true negative\n",
    "  if y_pred_list[i] == 0 and y_test_list[i] == 0:\n",
    "    true_negative_probs.append(y_pred_prob_list[i][0])\n",
    "  # false negative\n",
    "  elif y_pred_list[i] == 0 and y_test_list[i] == 1:\n",
    "    false_negative_probs.append(y_pred_prob_list[i][0])\n",
    "  # true positive\n",
    "  elif y_pred_list[i] == 1 and y_test_list[i] == 1:\n",
    "    true_positive_probs.append(y_pred_prob_list[i][1])\n",
    "  # false positive\n",
    "  else:\n",
    "    false_positive_probs.append(y_pred_prob_list[i][1])\n"
   ]
  },
  {
   "cell_type": "code",
   "execution_count": 114,
   "metadata": {},
   "outputs": [
    {
     "data": {
      "image/png": "[encoded data removed]",
      "text/plain": [
       "<Figure size 640x480 with 1 Axes>"
      ]
     },
     "metadata": {},
     "output_type": "display_data"
    }
   ],
   "source": [
    "data = {'false negative': false_negative_probs,\n",
    "               'true negative': true_negative_probs,\n",
    "               'false positive': false_positive_probs,\n",
    "               'true positive': true_positive_probs,\n",
    "              }\n",
    "cols = ['false negative', 'true negative', 'false positive', 'true positive']\n",
    "\n",
    "df = pd.DataFrame.from_dict(\n",
    "    data=dict(data),\n",
    "    orient='index',\n",
    ").T\n",
    "\n",
    "fig, ax = plt.subplots()\n",
    "\n",
    "ax = sns.stripplot(data=df)\n",
    "ax.set_ylim(0, 1)\n",
    "\n",
    "plt.show()\n"
   ]
  },
  {
   "cell_type": "code",
   "execution_count": 115,
   "metadata": {},
   "outputs": [],
   "source": [
    "# from sklearn.svm import OneClassSVM\n",
    "\n",
    "# clf = OneClassSVM(gamma='auto').fit(X_train)\n",
    "\n",
    "# output = clf.predict(X_train)\n",
    "\n",
    "# print()\n"
   ]
  },
  {
   "cell_type": "code",
   "execution_count": 116,
   "metadata": {},
   "outputs": [],
   "source": [
    "# print(output)\n",
    "\n",
    "# print(len(output))\n",
    "# print(len(y_train))\n",
    "\n",
    "# print(y_train)\n",
    "\n",
    "# false_pos = 0\n",
    "# false_neg = 0\n",
    "# true_pos = 0\n",
    "# true_neg = 0\n",
    "\n",
    "# for i in range(len(output)):\n",
    "#   if output[i] == 1 and y_train.iloc[i]['lung_cancer'] == 0:\n",
    "#     true_neg += 1\n",
    "#   elif output[i] == 1 and y_train.iloc[i]['lung_cancer'] == 1:\n",
    "#     false_neg += 1\n",
    "#   elif output[i] == -1 and y_train.iloc[i]['lung_cancer'] == 0:\n",
    "#     false_pos += 1\n",
    "#   else:\n",
    "#     true_pos += 1\n",
    "\n",
    "# print(\"false_pos: \", false_pos, \" true_pos \", true_pos, \" false_neg \", false_neg, \" true_neg \", true_neg)\n"
   ]
  },
  {
   "cell_type": "code",
   "execution_count": 117,
   "metadata": {},
   "outputs": [],
   "source": [
    "# scores = clf.score_samples(X_train)\n"
   ]
  },
  {
   "cell_type": "code",
   "execution_count": 118,
   "metadata": {},
   "outputs": [],
   "source": [
    "# print(sorted(scores, reverse=True))\n",
    "\n",
    "# new_output = output[:]\n",
    "\n",
    "# for i in range(len(new_output)):\n",
    "#   if scores[i] < 2 and new_output[i] == -1:\n",
    "#     new_output[i] = 1\n",
    "#   elif scores[i] >= 2 and new_output[i] == 1:\n",
    "#     new_output[i] = -1\n",
    "\n",
    "# false_pos = 0\n",
    "# false_neg = 0\n",
    "# true_pos = 0\n",
    "# true_neg = 0\n",
    "\n",
    "# for i in range(len(output)):\n",
    "#   if new_output[i] == 1 and y_train.iloc[i]['lung_cancer'] == 0:\n",
    "#     true_neg += 1\n",
    "#   elif new_output[i] == 1 and y_train.iloc[i]['lung_cancer'] == 1:\n",
    "#     false_neg += 1\n",
    "#   elif new_output[i] == -1 and y_train.iloc[i]['lung_cancer'] == 0:\n",
    "#     false_pos += 1\n",
    "#   else:\n",
    "#     true_pos += 1\n",
    "\n",
    "# print(\"false_pos: \", false_pos, \" true_pos \", true_pos, \" false_neg \", false_neg, \" true_neg \", true_neg)\n"
   ]
  }
 ],
 "metadata": {
  "kernelspec": {
   "display_name": "Python 3 (ipykernel)",
   "language": "python",
   "name": "python3"
  },
  "language_info": {
   "codemirror_mode": {
    "name": "ipython",
    "version": 3
   },
   "file_extension": ".py",
   "mimetype": "text/x-python",
   "name": "python",
   "nbconvert_exporter": "python",
   "pygments_lexer": "ipython3",
   "version": "3.10.13"
  }
 },
 "nbformat": 4,
 "nbformat_minor": 2
}
