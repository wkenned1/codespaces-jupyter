{
 "cells": [
  {
   "cell_type": "markdown",
   "metadata": {},
   "source": [
    "# Risk Factor Clinical Classifier\n",
    "\n",
    "This classifier takes patient answers to the Lung Space clinical survey and predicts the chance of cancer."
   ]
  },
  {
   "cell_type": "markdown",
   "metadata": {},
   "source": [
    "## Import dataset and build dataframe"
   ]
  },
  {
   "cell_type": "code",
   "execution_count": 57,
   "metadata": {},
   "outputs": [
    {
     "name": "stdout",
     "output_type": "stream",
     "text": [
      "positive:  2058  negative:  51394\n"
     ]
    },
    {
     "name": "stderr",
     "output_type": "stream",
     "text": [
      "/tmp/ipykernel_3585/2963445995.py:8: DtypeWarning: Columns (239,240,348) have mixed types. Specify dtype option on import or set low_memory=False.\n",
      "  df = pd.read_csv('../data/lungspace/package-nlst-1193.2024-02-20/participant_d040722.csv')\n"
     ]
    }
   ],
   "source": [
    "import numpy as np\n",
    "import pandas as pd\n",
    "from sklearn import tree\n",
    "from sklearn.linear_model import LogisticRegression\n",
    "from sklearn.neighbors import KNeighborsClassifier\n",
    "from sklearn.preprocessing import normalize\n",
    "\n",
    "df = pd.read_csv('../data/lungspace/package-nlst-1193.2024-02-20/participant_d040722.csv')\n",
    "\n",
    "\n",
    "# Breakdown of positive and negative sample size\n",
    "print(\"positive: \", len(df['lung_cancer'].loc[df['lung_cancer'] == 1].to_list()), \" negative: \", len(df['lung_cancer'].loc[df['lung_cancer'] == 0].to_list()))\n",
    "\n",
    "# Features\n",
    "features_demographic = ['age', 'weight', 'height', 'gender', 'educat', 'ethnic', 'race']\n",
    "# features_smoking = [\"cigar\",\"cigsmok\",\"pipe\",\"pkyr\",\"smokeage\",\"smokeday\",\"smokelive\",\"smokework\",\"smokeyr\"]\n",
    "features_smoking = [\"cigar\",\"cigsmok\",\"pipe\",\"pkyr\",\"smokelive\",\"smokework\",\"smokeyr\"]\n",
    "features_screening = ['num_screens']\n",
    "features_follow_up_procedures = [\"biop0\",\"biop1\",\"biop2\",\"bioplc\",\"invas0\",\"invas1\",\"invas2\",\"invaslc\",\"medcomp0\",\"medcomp1\",\"medcomp2\",\"medcomplc\",\"mra_stat0\",\"mra_stat1\",\"mra_stat2\",\"no_proc_reas0\",\"no_proc_reas1\",\"no_proc_reas2\",\"proc0\",\"proc1\",\"proc2\"]\n",
    "features_work_history = [\"resasbe\",\"resbaki\",\"resbutc\",\"reschem\",\"resfarm\",\"resfire\",\"resflou\",\"resfoun\",\"reshard\",\"respain\",\"ressand\",\"resweld\",\"wrkasbe\",\"wrkbaki\",\"wrkbutc\",\"wrkchem\",\"wrkcoal\",\"wrkcott\",\"wrkfarm\",\"wrkfire\",\"wrkflou\",\"wrkfoun\",\"wrkhard\",\"wrkpain\",\"wrksand\",\"wrkweld\"]\n",
    "features_disease_history = [\"ageadas\",\"ageasbe\",\"agebron\",\"agechas\",\"agechro\",\"agecopd\",\"agediab\",\"ageemph\",\"agehear\",\"agehype\",\"agepneu\",\"agestro\",\"agetube\",\"diagadas\",\"diagasbe\",\"diagbron\",\"diagchas\",\"diagchro\",\"diagcopd\",\"diagdiab\",\"diagemph\",\"diagfibr\",\"diaghear\",\"diaghype\",\"diagpneu\",\"diagsarc\",\"diagsili\",\"diagstro\",\"diagtube\"]\n",
    "features_family_history = [\"fambrother\",\"famchild\",\"famfather\",\"fammother\",\"famsister\"]\n",
    "features_alcohol = [\"acrin_alc_curr\",\"acrin_alc_ever\",\"acrin_drink24hr\",\"acrin_drinknum_curr\",\"acrin_drinknum_form\",\"acrin_drinkyrs_curr\",\"acrin_drinkyrs_form\",\"acrin_lastdrink\",\"lss_alcohol_freq\",\"lss_alcohol_num\"]\n",
    "output_column = ['lung_cancer']\n"
   ]
  },
  {
   "cell_type": "markdown",
   "metadata": {},
   "source": [
    "## Choose features to include"
   ]
  },
  {
   "cell_type": "markdown",
   "metadata": {},
   "source": [
    "### Features: Demographics and Smoking\n",
    "\n",
    "- Random forest (default): 99.8% accuracy\n",
    "- K Nearest Neighbor: 94% accuracy\n",
    "- Logistic Regression: 70% accuracy"
   ]
  },
  {
   "cell_type": "code",
   "execution_count": 58,
   "metadata": {},
   "outputs": [],
   "source": [
    "# dataset_columns = features_demographic + features_smoking + output_column\n"
   ]
  },
  {
   "cell_type": "markdown",
   "metadata": {},
   "source": [
    "### Features: Demographics, Smoking, Work History, Family History, Alcohol\n",
    "\n",
    "- Random forest (default): 99.9% accuracy\n",
    "- K Nearest Neighbor (3 neighbors): 94%\n",
    "- Logistic Regression: 64%"
   ]
  },
  {
   "cell_type": "code",
   "execution_count": 59,
   "metadata": {},
   "outputs": [],
   "source": [
    "# dataset_columns = features_demographic + features_smoking + features_work_history + features_disease_history + features_family_history + features_alcohol + output_column\n",
    "dataset_columns = features_demographic + features_smoking + features_work_history + features_disease_history + output_column\n"
   ]
  },
  {
   "cell_type": "markdown",
   "metadata": {},
   "source": [
    "### Features: Demographics, Work History, Family History, Alcohol\n",
    "\n",
    "- Random forest (default): 98% accuracy\n",
    "- KNN (3 neighbors): 93% accuracy\n",
    "- Logistic Regression: 59% accuracy"
   ]
  },
  {
   "cell_type": "code",
   "execution_count": 60,
   "metadata": {},
   "outputs": [],
   "source": [
    "# dataset_columns = features_demographic + features_work_history + features_family_history + features_alcohol + output_column\n"
   ]
  },
  {
   "cell_type": "markdown",
   "metadata": {},
   "source": [
    "## Remove null values and add weight/height field"
   ]
  },
  {
   "cell_type": "code",
   "execution_count": 61,
   "metadata": {},
   "outputs": [
    {
     "name": "stdout",
     "output_type": "stream",
     "text": [
      "       age  weight  height  gender  educat  ethnic  race  cigar  cigsmok  \\\n",
      "0       70   134.0    70.0       1       2       2     1    1.0        1   \n",
      "1       66   175.0    68.0       1       3       2     1    0.0        1   \n",
      "2       64   180.0    70.0       1       3       2     1    0.0        1   \n",
      "3       60   205.0    70.0       1       5       2     1    0.0        0   \n",
      "4       64   220.0    67.0       1       2       2     1    0.0        0   \n",
      "...    ...     ...     ...     ...     ...     ...   ...    ...      ...   \n",
      "53446   64   146.0    67.0       2       5       2     1    0.0        1   \n",
      "53447   73   206.0    64.0       2       3       2     1    0.0        1   \n",
      "53448   66   175.0    71.0       1       2       2     1    0.0        1   \n",
      "53449   56   172.0    72.0       1       5       2     1    1.0        0   \n",
      "53451   57   220.0    69.0       1       7       2     1    0.0        1   \n",
      "\n",
      "       pipe  ...  diagemph  diagfibr  diaghear  diaghype  diagpneu  diagsarc  \\\n",
      "0       1.0  ...       0.0       0.0       0.0       0.0       0.0       0.0   \n",
      "1       0.0  ...       0.0       0.0       0.0       0.0       0.0       0.0   \n",
      "2       0.0  ...       0.0       0.0       0.0       0.0       0.0       0.0   \n",
      "3       1.0  ...       0.0       0.0       0.0       1.0       0.0       0.0   \n",
      "4       0.0  ...       0.0       0.0       1.0       1.0       1.0       0.0   \n",
      "...     ...  ...       ...       ...       ...       ...       ...       ...   \n",
      "53446   0.0  ...       0.0       0.0       0.0       0.0       0.0       0.0   \n",
      "53447   0.0  ...       0.0       0.0       0.0       0.0       1.0       0.0   \n",
      "53448   0.0  ...       0.0       0.0       0.0       0.0       0.0       0.0   \n",
      "53449   0.0  ...       0.0       0.0       0.0       0.0       0.0       0.0   \n",
      "53451   0.0  ...       0.0       0.0       0.0       1.0       0.0       0.0   \n",
      "\n",
      "       diagsili  diagstro  diagtube  lung_cancer  \n",
      "0           0.0       0.0       0.0            0  \n",
      "1           0.0       0.0       0.0            0  \n",
      "2           0.0       0.0       0.0            0  \n",
      "3           0.0       0.0       0.0            0  \n",
      "4           0.0       0.0       0.0            0  \n",
      "...         ...       ...       ...          ...  \n",
      "53446       0.0       0.0       0.0            0  \n",
      "53447       0.0       0.0       0.0            0  \n",
      "53448       0.0       0.0       0.0            0  \n",
      "53449       0.0       0.0       0.0            0  \n",
      "53451       0.0       0.0       0.0            0  \n",
      "\n",
      "[51567 rows x 45 columns]\n"
     ]
    }
   ],
   "source": [
    "# Build dataframe\n",
    "df = df[dataset_columns]\n",
    "for i in dataset_columns[:]:\n",
    "  if df[i].isna().sum() > 2000:\n",
    "    df = df.drop(i, axis=1)\n",
    "    dataset_columns.remove(i)\n",
    "\n",
    "# print(df.isnull().sum(axis = 0).sort_values(ascending=False).to_string())\n",
    "\n",
    "df = df.dropna()\n",
    "\n",
    "# df.insert(2, 'weight_div_height', df['weight'] / df['height'])\n",
    "\n",
    "print(df)\n"
   ]
  },
  {
   "cell_type": "markdown",
   "metadata": {},
   "source": [
    "## Downsample the negative samples to balance the dataset"
   ]
  },
  {
   "cell_type": "code",
   "execution_count": 62,
   "metadata": {},
   "outputs": [],
   "source": [
    "# # Determines how many negative samples to include in the dataset\n",
    "# # The frac value determines the percent of negative values that are excluded\n",
    "# print(df)\n",
    "# df = df.drop(df.query('lung_cancer == 0').sample(frac=.95).index)\n",
    "# print(df)\n",
    "\n",
    "# df = df[df[dataset_columns] >= 0]\n",
    "# print(\"##############\")\n",
    "# print(df)\n",
    "\n",
    "# print(\"!!!!!!!!!!!!!!!!!!!!!\")\n",
    "\n",
    "# for i in df.columns.to_list():\n",
    "#   if df[i].isna().sum() > 500:\n",
    "#     print(i)\n",
    "\n",
    "# print(\"$$$$$$$$$$$$$\")\n",
    "\n",
    "# df = df.dropna()\n",
    "# print(df)\n"
   ]
  },
  {
   "cell_type": "markdown",
   "metadata": {},
   "source": [
    "## Duplicate the positive examples to balance the dataset"
   ]
  },
  {
   "cell_type": "code",
   "execution_count": 63,
   "metadata": {},
   "outputs": [],
   "source": [
    "# Duplicate the positive samples to balance the dataset\n",
    "\n",
    "# df_positives = df[df['lung_cancer'] == 1]\n",
    "# print(df_positives)\n",
    "# print(len(df_positives['lung_cancer'].to_list()))\n",
    "\n",
    "# while len(df[df['lung_cancer'] == 1]['lung_cancer'].to_list()) < len(df[df['lung_cancer'] == 0]['lung_cancer'].to_list()):\n",
    "#   df = pd.concat([df, df_positives])\n",
    "\n",
    "# print(df)\n",
    "# print(\"positive: \", len(df['lung_cancer'].loc[df['lung_cancer'] == 1].to_list()), \" negative: \", len(df['lung_cancer'].loc[df['lung_cancer'] == 0].to_list()))\n"
   ]
  },
  {
   "cell_type": "markdown",
   "metadata": {},
   "source": [
    "## Define models"
   ]
  },
  {
   "cell_type": "code",
   "execution_count": 64,
   "metadata": {},
   "outputs": [],
   "source": [
    "from imblearn.over_sampling import RandomOverSampler\n"
   ]
  },
  {
   "cell_type": "code",
   "execution_count": 65,
   "metadata": {},
   "outputs": [],
   "source": [
    "import matplotlib.pyplot as plt\n",
    "import seaborn as sns\n",
    "import numpy as np\n",
    "from matplotlib.colors import ListedColormap\n",
    "\n",
    "from sklearn.metrics import accuracy_score\n",
    "from sklearn.metrics import confusion_matrix, ConfusionMatrixDisplay\n",
    "\n",
    "from sklearn.datasets import make_circles, make_classification, make_moons\n",
    "from sklearn.discriminant_analysis import QuadraticDiscriminantAnalysis\n",
    "from sklearn.ensemble import AdaBoostClassifier, RandomForestClassifier\n",
    "from sklearn.gaussian_process import GaussianProcessClassifier\n",
    "from sklearn.gaussian_process.kernels import RBF\n",
    "from sklearn.inspection import DecisionBoundaryDisplay\n",
    "from sklearn.model_selection import train_test_split\n",
    "from sklearn.naive_bayes import GaussianNB, MultinomialNB\n",
    "from sklearn.neighbors import KNeighborsClassifier\n",
    "from sklearn.neural_network import MLPClassifier\n",
    "from sklearn.pipeline import make_pipeline\n",
    "from sklearn.preprocessing import StandardScaler\n",
    "from sklearn.svm import SVC\n",
    "from sklearn.tree import DecisionTreeClassifier\n",
    "from sklearn.linear_model import LogisticRegression\n",
    "\n",
    "# Model names\n",
    "names = [\n",
    "    \"Nearest Neighbors\",\n",
    "    \"Linear SVM\",\n",
    "    # \"RBF SVM\",\n",
    "    # \"Gaussian Process\",\n",
    "    \"Decision Tree\",\n",
    "    # \"Random Forest\",\n",
    "    # \"Neural Net\",\n",
    "    # \"AdaBoost\",\n",
    "    \"Naive Bayes\",\n",
    "    \"Logistic Regression\"\n",
    "    # \"QDA\",\n",
    "]\n",
    "\n",
    "# Models\n",
    "classifiers = [\n",
    "    KNeighborsClassifier(3),\n",
    "    SVC(kernel=\"linear\", C=0.025, random_state=42),\n",
    "    # SVC(gamma=2, C=1, random_state=42),\n",
    "    # GaussianProcessClassifier(1.0 * RBF(1.0), random_state=42),\n",
    "    DecisionTreeClassifier(max_depth=5, random_state=42),\n",
    "    # RandomForestClassifier(\n",
    "    #     max_depth=5, n_estimators=10, max_features=1, random_state=42\n",
    "    # ),\n",
    "    # MLPClassifier(alpha=1, max_iter=1000, random_state=42),\n",
    "    # AdaBoostClassifier(algorithm=\"SAMME\", random_state=42),\n",
    "    GaussianNB(),\n",
    "    LogisticRegression(random_state=0)\n",
    "    # QuadraticDiscriminantAnalysis(),\n",
    "]\n"
   ]
  },
  {
   "cell_type": "markdown",
   "metadata": {},
   "source": [
    "## Build training and test sets"
   ]
  },
  {
   "cell_type": "code",
   "execution_count": 66,
   "metadata": {},
   "outputs": [
    {
     "name": "stdout",
     "output_type": "stream",
     "text": [
      "['age', 'weight', 'height', 'gender', 'educat', 'ethnic', 'race', 'cigar', 'cigsmok', 'pipe', 'pkyr', 'smokelive', 'smokework', 'smokeyr', 'wrkasbe', 'wrkbaki', 'wrkbutc', 'wrkchem', 'wrkcoal', 'wrkcott', 'wrkfarm', 'wrkfire', 'wrkflou', 'wrkfoun', 'wrkhard', 'wrkpain', 'wrksand', 'wrkweld', 'diagadas', 'diagasbe', 'diagbron', 'diagchas', 'diagchro', 'diagcopd', 'diagdiab', 'diagemph', 'diagfibr', 'diaghear', 'diaghype', 'diagpneu', 'diagsarc', 'diagsili', 'diagstro', 'diagtube']\n",
      "age           70.0\n",
      "weight       134.0\n",
      "height        70.0\n",
      "gender         1.0\n",
      "educat         2.0\n",
      "ethnic         2.0\n",
      "race           1.0\n",
      "cigar          1.0\n",
      "cigsmok        1.0\n",
      "pipe           1.0\n",
      "pkyr          99.0\n",
      "smokelive      1.0\n",
      "smokework      1.0\n",
      "smokeyr       66.0\n",
      "wrkasbe        0.0\n",
      "wrkbaki        0.0\n",
      "wrkbutc        0.0\n",
      "wrkchem        0.0\n",
      "wrkcoal        0.0\n",
      "wrkcott        0.0\n",
      "wrkfarm        1.0\n",
      "wrkfire        0.0\n",
      "wrkflou        0.0\n",
      "wrkfoun        0.0\n",
      "wrkhard        0.0\n",
      "wrkpain        0.0\n",
      "wrksand        0.0\n",
      "wrkweld        0.0\n",
      "diagadas       0.0\n",
      "diagasbe       0.0\n",
      "diagbron       0.0\n",
      "diagchas       0.0\n",
      "diagchro       0.0\n",
      "diagcopd       0.0\n",
      "diagdiab       0.0\n",
      "diagemph       0.0\n",
      "diagfibr       0.0\n",
      "diaghear       0.0\n",
      "diaghype       0.0\n",
      "diagpneu       0.0\n",
      "diagsarc       0.0\n",
      "diagsili       0.0\n",
      "diagstro       0.0\n",
      "diagtube       0.0\n",
      "Name: 0, dtype: float64\n"
     ]
    }
   ],
   "source": [
    "# Use predict lung_cancer column\n",
    "# X = df[['age', 'weight', 'height', \"cigar\",\"cigsmok\",\"pipe\",\"pkyr\",\"smokeage\",\"smokeday\",\"smokelive\",\"smokework\",\"smokeyr\",\"num_screens\"]]\n",
    "X = df[dataset_columns[:-1]]\n",
    "y = df[['lung_cancer']]\n",
    "\n",
    "# Split training and test sets\n",
    "X_train, X_test, y_train, y_test = train_test_split(\n",
    "    X, y, test_size=0.4, random_state=42\n",
    ")\n",
    "\n",
    "print(X.columns.to_list())\n",
    "with pd.option_context('display.max_rows', None, 'display.max_columns', None):  # more options can be specified also\n",
    "  print(X.iloc[0])\n"
   ]
  },
  {
   "cell_type": "markdown",
   "metadata": {},
   "source": [
    "## Balance the dataset to improve positive accuracy"
   ]
  },
  {
   "cell_type": "markdown",
   "metadata": {},
   "source": [
    "### Oversample the imbalanced data with imbalance-learn library"
   ]
  },
  {
   "cell_type": "code",
   "execution_count": 67,
   "metadata": {},
   "outputs": [],
   "source": [
    "# ros = RandomOverSampler(random_state=0)\n",
    "# X_train, y_train = ros.fit_resample(X_train, y_train)\n",
    "\n",
    "# from imblearn.over_sampling import SMOTE, ADASYN\n",
    "# # X_train, y_train = SMOTE().fit_resample(X_train, y_train)\n",
    "# # X_train, y_train = ADASYN().fit_resample(X_train, y_train)\n"
   ]
  },
  {
   "cell_type": "markdown",
   "metadata": {},
   "source": [
    "### Or oversample positive samples manually by duplicating them in the training set"
   ]
  },
  {
   "cell_type": "code",
   "execution_count": 68,
   "metadata": {},
   "outputs": [],
   "source": [
    "# X_train_positives = []\n",
    "# X_test_positives = []\n",
    "# y_train_positives = []\n",
    "# y_test_positives = []\n",
    "\n",
    "# train_temp = pd.concat([X_train, y_train['lung_cancer']], axis=1)\n",
    "# test_temp = pd.concat([X_test, y_test['lung_cancer']], axis=1)\n",
    "\n",
    "# df_train_positives = train_temp[train_temp['lung_cancer'] == 1]\n",
    "# print(df_train_positives)\n",
    "# print(len(df_train_positives['lung_cancer'].to_list()))\n",
    "\n",
    "# while len(train_temp[train_temp['lung_cancer'] == 1]['lung_cancer'].to_list()) < len(train_temp[train_temp['lung_cancer'] == 0]['lung_cancer'].to_list()):\n",
    "#   train_temp = pd.concat([train_temp, df_train_positives])\n",
    "\n",
    "# print(train_temp)\n",
    "# print(\"positive: \", len(train_temp['lung_cancer'].loc[train_temp['lung_cancer'] == 1].to_list()), \" negative: \", len(train_temp['lung_cancer'].loc[train_temp['lung_cancer'] == 0].to_list()))\n",
    "\n",
    "# ##########\n",
    "\n",
    "# df_test_positives = test_temp[test_temp['lung_cancer'] == 1]\n",
    "# print(df_test_positives)\n",
    "# print(len(df_test_positives['lung_cancer'].to_list()))\n",
    "\n",
    "# while len(test_temp[test_temp['lung_cancer'] == 1]['lung_cancer'].to_list()) < len(test_temp[test_temp['lung_cancer'] == 0]['lung_cancer'].to_list()):\n",
    "#   test_temp = pd.concat([test_temp, df_test_positives])\n",
    "\n",
    "# print(test_temp)\n",
    "# print(\"positive: \", len(test_temp['lung_cancer'].loc[test_temp['lung_cancer'] == 1].to_list()), \" negative: \", len(test_temp['lung_cancer'].loc[test_temp['lung_cancer'] == 0].to_list()))\n",
    "\n",
    "\n",
    "# y_train = pd.DataFrame({'lung_cancer': train_temp['lung_cancer']})\n",
    "\n",
    "# print(\"TRAIN TEMP\")\n",
    "# print(train_temp)\n",
    "# train_temp = train_temp.drop('lung_cancer', axis=1)\n",
    "# X_train = train_temp\n",
    "\n",
    "# y_test = pd.DataFrame({'lung_cancer': test_temp['lung_cancer']})\n",
    "\n",
    "# test_temp = test_temp.drop('lung_cancer', axis=1)\n",
    "# X_test = test_temp\n"
   ]
  },
  {
   "cell_type": "code",
   "execution_count": 69,
   "metadata": {},
   "outputs": [
    {
     "name": "stdout",
     "output_type": "stream",
     "text": [
      "       lung_cancer\n",
      "18485            0\n",
      "10166            0\n",
      "6957             0\n",
      "30417            0\n",
      "16615            0\n",
      "...            ...\n",
      "11596            0\n",
      "46258            0\n",
      "39347            0\n",
      "885              0\n",
      "16219            0\n",
      "\n",
      "[30940 rows x 1 columns]\n",
      "       lung_cancer\n",
      "33091            0\n",
      "49092            0\n",
      "49872            0\n",
      "48571            0\n",
      "22310            0\n",
      "...            ...\n",
      "22691            0\n",
      "4632             0\n",
      "13891            0\n",
      "7365             0\n",
      "46374            0\n",
      "\n",
      "[20627 rows x 1 columns]\n",
      "positive training sample:  1189\n",
      "negative training sample:  29751\n",
      "positive training sample:  781\n",
      "negative training sample:  19846\n"
     ]
    }
   ],
   "source": [
    "print(y_train)\n",
    "print(y_test)\n",
    "\n",
    "print(\"positive training sample: \", len(list(filter(lambda x: x == 1.0, y_train['lung_cancer'].to_list()))))\n",
    "print(\"negative training sample: \", len(list(filter(lambda x: x == 0.0, y_train['lung_cancer'].to_list()))))\n",
    "print(\"positive training sample: \", len(list(filter(lambda x: x == 1.0, y_test['lung_cancer'].to_list()))))\n",
    "print(\"negative training sample: \", len(list(filter(lambda x: x == 0.0, y_test['lung_cancer'].to_list()))))\n"
   ]
  },
  {
   "cell_type": "markdown",
   "metadata": {},
   "source": [
    "## Test models and plot confusion matrices\n",
    "\n",
    "The goal is to minimize the number of false negative predictions."
   ]
  },
  {
   "cell_type": "code",
   "execution_count": 70,
   "metadata": {},
   "outputs": [],
   "source": [
    "# for name, clf in zip(names, classifiers):\n",
    "#   clf = make_pipeline(StandardScaler(), clf)\n",
    "#   clf.fit(normalize(X_train), y_train)\n",
    "#   y_pred = clf.predict(normalize(X_test))\n",
    "\n",
    "#   score = accuracy_score(y_test, y_pred)\n",
    "#   conf_matrix = confusion_matrix(y_test, y_pred)\n",
    "#   disp = ConfusionMatrixDisplay(confusion_matrix=conf_matrix, display_labels=clf.classes_)\n",
    "#   disp.plot()\n",
    "#   print(\"Model: \", name, \" score: \", score)\n",
    "\n",
    "\n",
    "\n",
    "# for name, m in zip(names, classifiers):\n",
    "#   # clf = m = SVC(kernel=\"linear\", C=0.025, random_state=42, probability=True)\n",
    "#   clf = make_pipeline(StandardScaler(), m)\n",
    "#   clf.fit(normalize(X_train), y_train)\n",
    "#   y_pred = clf.predict(normalize(X_test))\n",
    "#   # y_pred_prob = clf.predict_proba(X_test)\n",
    "\n",
    "#   print(name)\n",
    "#   # print(y_pred_prob)\n",
    "\n",
    "#   score = accuracy_score(y_test, y_pred)\n",
    "#   conf_matrix = confusion_matrix(y_test, y_pred)\n",
    "#   print(conf_matrix)\n",
    "#   print(f\"Accuracy on positive samples: {conf_matrix[1][1] / (conf_matrix[1][0] + conf_matrix[1][1])}\")\n",
    "#   print(f\"Accuracy on negative samples: {conf_matrix[0][0] / (conf_matrix[0][0] + conf_matrix[0][1])}\")\n",
    "#   disp = ConfusionMatrixDisplay(confusion_matrix=conf_matrix, display_labels=clf.classes_)\n",
    "#   disp.plot()\n",
    "#   print(\"Model: \", name, \" score: \", score)\n"
   ]
  },
  {
   "cell_type": "markdown",
   "metadata": {},
   "source": [
    "## Get confidence of each prediction with `predict_proba()`"
   ]
  },
  {
   "cell_type": "code",
   "execution_count": 71,
   "metadata": {},
   "outputs": [
    {
     "name": "stderr",
     "output_type": "stream",
     "text": [
      "/home/codespace/.python/current/lib/python3.10/site-packages/sklearn/cluster/_kmeans.py:1416: FutureWarning: The default value of `n_init` will change from 10 to 'auto' in 1.4. Set the value of `n_init` explicitly to suppress the warning\n",
      "  super()._check_params_vs_input(X, default_n_init=10)\n",
      "/home/codespace/.python/current/lib/python3.10/site-packages/sklearn/utils/validation.py:1183: DataConversionWarning: A column-vector y was passed when a 1d array was expected. Please change the shape of y to (n_samples, ), for example using ravel().\n",
      "  y = column_or_1d(y, warn=True)\n"
     ]
    },
    {
     "name": "stdout",
     "output_type": "stream",
     "text": [
      "[[0.45204965 0.54795035]\n",
      " [0.57987569 0.42012431]\n",
      " [0.53003363 0.46996637]\n",
      " ...\n",
      " [0.47907068 0.52092932]\n",
      " [0.44523829 0.55476171]\n",
      " [0.48466158 0.51533842]]\n",
      "[[ 6649 13197]\n",
      " [   95   686]]\n",
      "Accuracy on positive samples: 0.8783610755441741\n",
      "Accuracy on negative samples: 0.3350297289126272\n",
      "Model:  Logistic Regression  score:  0.35560188102971835\n"
     ]
    },
    {
     "data": {
      "image/png": "[encoded data removed]",
      "text/plain": [
       "<Figure size 640x480 with 2 Axes>"
      ]
     },
     "metadata": {},
     "output_type": "display_data"
    }
   ],
   "source": [
    "from imblearn.pipeline import make_pipeline\n",
    "from imblearn.under_sampling import RandomUnderSampler\n",
    "from imblearn.over_sampling import SMOTE, ADASYN\n",
    "from imblearn.under_sampling import ClusterCentroids\n",
    "from imblearn.under_sampling import RandomUnderSampler\n",
    "from imblearn.under_sampling import NearMiss\n",
    "import pickle\n",
    "\n",
    "# # X_train, y_train = SMOTE().fit_resample(X_train, y_train)\n",
    "# # X_train, y_train = ADASYN().fit_resample(X_train, y_train)\n",
    "m = LogisticRegression(random_state=0)\n",
    "clf = make_pipeline(\n",
    "    ClusterCentroids(random_state=0), # good\n",
    "    # SMOTE(), # good\n",
    "    # ADASYN(),\n",
    "    m\n",
    ")\n",
    "\n",
    "# clf = m = SVC(kernel=\"linear\", C=0.025, random_state=42, probability=True)\n",
    "# clf = make_pipeline(StandardScaler(), clf)\n",
    "clf.fit(normalize(X_train), y_train)\n",
    "\n",
    "with open('screening_classifier.pkl','wb') as f:\n",
    "  pickle.dump(clf,f)\n",
    "\n",
    "y_pred = clf.predict(normalize(X_test))\n",
    "y_pred_prob = clf.predict_proba(normalize(X_test))\n",
    "\n",
    "print(y_pred_prob)\n",
    "\n",
    "# skew results\n",
    "for i in range(len(y_pred)):\n",
    "  if y_pred[i] == 0 and y_pred_prob[i][0] <= 0.53:\n",
    "    y_pred[i] = 1\n",
    "\n",
    "# for i in range(len(y_pred)):\n",
    "#   if y_pred[i] == 1 and y_pred_prob[i][1] <= 0.53:\n",
    "#     y_pred[i] = 0\n",
    "\n",
    "score = accuracy_score(y_test, y_pred)\n",
    "conf_matrix = confusion_matrix(y_test, y_pred)\n",
    "print(conf_matrix)\n",
    "print(f\"Accuracy on positive samples: {conf_matrix[1][1] / (conf_matrix[1][0] + conf_matrix[1][1])}\")\n",
    "print(f\"Accuracy on negative samples: {conf_matrix[0][0] / (conf_matrix[0][0] + conf_matrix[0][1])}\")\n",
    "disp = ConfusionMatrixDisplay(confusion_matrix=conf_matrix, display_labels=clf.classes_)\n",
    "disp.plot()\n",
    "print(\"Model: \", \"Logistic Regression\", \" score: \", score)\n"
   ]
  },
  {
   "cell_type": "markdown",
   "metadata": {},
   "source": [
    "## Rank features used "
   ]
  },
  {
   "cell_type": "code",
   "execution_count": 72,
   "metadata": {},
   "outputs": [
    {
     "name": "stdout",
     "output_type": "stream",
     "text": [
      "[('smokeyr', 5.4551235063327725), ('weight', 2.4874866977093286), ('educat', -1.8285906307986122), ('ethnic', -1.6985714977382398), ('race', -1.604095184729565), ('pkyr', 1.4975406676569079), ('gender', -0.2865961027355572), ('age', 0.2761580285109689), ('cigsmok', 0.23478050040574164), ('height', -0.2201290273912186), ('diagemph', 0.1270818382221358), ('diagcopd', 0.09796513869603761), ('diaghear', 0.08047818995500954), ('pipe', 0.07668801965559108), ('wrkweld', 0.045405727493032365), ('wrkasbe', 0.033602854621604304), ('smokework', 0.03177257503599211), ('wrkchem', 0.031759301458581926), ('wrkfire', 0.027539731667597284), ('diagpneu', 0.02403138647243265), ('diagadas', -0.022383760131401965), ('diagasbe', 0.021929177783913303), ('cigar', 0.021705934836639774), ('diagdiab', -0.01911394885725779), ('diaghype', -0.018701357138044387), ('smokelive', -0.018561708764767378), ('wrkfoun', 0.01592172422111506), ('wrkpain', 0.014447122679855352), ('diagtube', 0.013747733247207123), ('diagstro', -0.013552382066811933), ('wrksand', 0.012858420519839445), ('wrkcoal', 0.011297926020039345), ('wrkfarm', 0.0071723106136541755), ('diagchas', 0.006100751377697959), ('diagbron', 0.005996196799479935), ('wrkflou', 0.005894929013170759), ('diagchro', 0.004923117321756912), ('wrkbaki', -0.0033068053200440415), ('wrkhard', -0.002759618746377921), ('wrkbutc', 0.0013718156969206373), ('diagsarc', 0.0012751675241174727), ('diagfibr', -0.0012598398188616974), ('wrkcott', -0.0011395493141474653), ('diagsili', 0.0010457211481531411)]\n"
     ]
    }
   ],
   "source": [
    "# Create lists of feature names and coefficients\n",
    "column_labels = X_train.columns.tolist()\n",
    "coef = m.coef_.squeeze().tolist()\n",
    "\n",
    "# Zip together\n",
    "labels_coef = list(zip(column_labels, coef))\n",
    "# Order by most significant features (positive or negative)\n",
    "feature_ranks = sorted(labels_coef, key=lambda x: abs(x[1]), reverse=True)\n",
    "\n",
    "print(feature_ranks)\n"
   ]
  },
  {
   "cell_type": "markdown",
   "metadata": {},
   "source": [
    "## Compare compare the probabilities of false positives and false negatives to true positives and true negatives"
   ]
  },
  {
   "cell_type": "code",
   "execution_count": 73,
   "metadata": {},
   "outputs": [],
   "source": [
    "true_negative_probs = []\n",
    "false_negative_probs = []\n",
    "true_positive_probs = []\n",
    "false_positive_probs = []\n",
    "\n",
    "y_pred_list = y_pred.tolist()\n",
    "y_pred_prob_list = y_pred_prob.tolist()\n",
    "y_test_list = y_test['lung_cancer'].tolist()\n",
    "\n",
    "for i in range(len(y_test)):\n",
    "  # true negative\n",
    "  if y_pred_list[i] == 0 and y_test_list[i] == 0:\n",
    "    true_negative_probs.append(y_pred_prob_list[i][0])\n",
    "  # false negative\n",
    "  elif y_pred_list[i] == 0 and y_test_list[i] == 1:\n",
    "    false_negative_probs.append(y_pred_prob_list[i][0])\n",
    "  # true positive\n",
    "  elif y_pred_list[i] == 1 and y_test_list[i] == 1:\n",
    "    true_positive_probs.append(y_pred_prob_list[i][1])\n",
    "  # false positive\n",
    "  else:\n",
    "    false_positive_probs.append(y_pred_prob_list[i][1])\n"
   ]
  },
  {
   "cell_type": "markdown",
   "metadata": {},
   "source": [
    "## Plot the confidence intervals that led to the different predictions. "
   ]
  },
  {
   "cell_type": "code",
   "execution_count": 74,
   "metadata": {},
   "outputs": [
    {
     "data": {
      "image/png": "[encoded data removed]",
      "text/plain": [
       "<Figure size 640x480 with 1 Axes>"
      ]
     },
     "metadata": {},
     "output_type": "display_data"
    }
   ],
   "source": [
    "data = {'false negative': false_negative_probs,\n",
    "               'true negative': true_negative_probs,\n",
    "               'false positive': false_positive_probs,\n",
    "               'true positive': true_positive_probs,\n",
    "              }\n",
    "cols = ['false negative', 'true negative', 'false positive', 'true positive']\n",
    "\n",
    "df = pd.DataFrame.from_dict(\n",
    "    data=dict(data),\n",
    "    orient='index',\n",
    ").T\n",
    "\n",
    "fig, ax = plt.subplots()\n",
    "\n",
    "ax = sns.stripplot(data=df)\n",
    "ax.set_ylim(0, 1)\n",
    "\n",
    "plt.show()\n"
   ]
  },
  {
   "cell_type": "code",
   "execution_count": 75,
   "metadata": {},
   "outputs": [
    {
     "name": "stderr",
     "output_type": "stream",
     "text": [
      "/home/codespace/.python/current/lib/python3.10/site-packages/sklearn/neighbors/_classification.py:233: DataConversionWarning: A column-vector y was passed when a 1d array was expected. Please change the shape of y to (n_samples,), for example using ravel().\n",
      "  return self._fit(X, y)\n"
     ]
    },
    {
     "name": "stdout",
     "output_type": "stream",
     "text": [
      "Model:  KNN  score:  0.572599020701023\n"
     ]
    },
    {
     "data": {
      "image/png": "[encoded data removed]",
      "text/plain": [
       "<Figure size 640x480 with 2 Axes>"
      ]
     },
     "metadata": {},
     "output_type": "display_data"
    }
   ],
   "source": [
    "from imblearn.pipeline import make_pipeline\n",
    "from imblearn.under_sampling import RandomUnderSampler\n",
    "from imblearn.over_sampling import SMOTE, ADASYN\n",
    "from imblearn.under_sampling import ClusterCentroids\n",
    "from imblearn.under_sampling import RandomUnderSampler\n",
    "from imblearn.under_sampling import NearMiss\n",
    "\n",
    "m = KNeighborsClassifier(3)\n",
    "clf = make_pipeline(\n",
    "    RandomUnderSampler(random_state=0),\n",
    "    # ClusterCentroids(random_state=0), # good\n",
    "    # NearMiss(version=1),\n",
    "    # SMOTE(), # good\n",
    "    # ADASYN(),\n",
    "    m\n",
    ")\n",
    "# clf = make_pipeline(StandardScaler(), clf)\n",
    "clf.fit(normalize(X_train), y_train)\n",
    "y_pred = clf.predict(normalize(X_test))\n",
    "y_pred_prob = clf.predict_proba(normalize(X_test))\n",
    "\n",
    "score = accuracy_score(y_test, y_pred)\n",
    "conf_matrix = confusion_matrix(y_test, y_pred)\n",
    "disp = ConfusionMatrixDisplay(confusion_matrix=conf_matrix, display_labels=clf.classes_)\n",
    "disp.plot()\n",
    "print(\"Model: \", \"KNN\", \" score: \", score)\n",
    "\n",
    "# # Fit logistic regression model\n",
    "# model2 = KNeighborsClassifier(3)\n",
    "# model2.fit(X_train, y_train)\n",
    "\n",
    "# # Get confidence intervals for each prediction\n",
    "# y_pred_prob = model2.predict_proba(X_test)\n",
    "# # Get predicted values\n",
    "# y_pred = model2.predict(normalize(X_test))\n",
    "\n",
    "# # Get prediction accuracy\n",
    "# score = accuracy_score(y_test, y_pred)\n",
    "# # Get breakdown of false/true positives and false/true negatives\n",
    "# conf_matrix = confusion_matrix(y_test, y_pred)\n",
    "\n",
    "# # Display results\n",
    "# disp = ConfusionMatrixDisplay(confusion_matrix=conf_matrix, display_labels=clf.classes_)\n",
    "# disp.plot()\n",
    "# print(\"Model: \", \"KNN\", \" score: \", score)\n"
   ]
  },
  {
   "cell_type": "code",
   "execution_count": 76,
   "metadata": {},
   "outputs": [
    {
     "name": "stderr",
     "output_type": "stream",
     "text": [
      "/home/codespace/.python/current/lib/python3.10/site-packages/sklearn/base.py:1152: DataConversionWarning: A column-vector y was passed when a 1d array was expected. Please change the shape of y to (n_samples,), for example using ravel().\n",
      "  return fit_method(estimator, *args, **kwargs)\n"
     ]
    },
    {
     "name": "stdout",
     "output_type": "stream",
     "text": [
      "Model:  Random Forest  score:  0.6283027100402385\n"
     ]
    },
    {
     "data": {
      "image/png": "[encoded data removed]",
      "text/plain": [
       "<Figure size 640x480 with 2 Axes>"
      ]
     },
     "metadata": {},
     "output_type": "display_data"
    }
   ],
   "source": [
    "m = RandomForestClassifier()\n",
    "clf = make_pipeline(\n",
    "    RandomUnderSampler(random_state=0),\n",
    "    # ClusterCentroids(random_state=0), # good\n",
    "    # NearMiss(version=1),\n",
    "    # SMOTE(), # good\n",
    "    # ADASYN(),\n",
    "    m\n",
    ")\n",
    "# clf = make_pipeline(StandardScaler(), clf)\n",
    "clf.fit(normalize(X_train), y_train)\n",
    "y_pred = clf.predict(normalize(X_test))\n",
    "y_pred_prob = clf.predict_proba(normalize(X_test))\n",
    "\n",
    "score = accuracy_score(y_test, y_pred)\n",
    "conf_matrix = confusion_matrix(y_test, y_pred)\n",
    "disp = ConfusionMatrixDisplay(confusion_matrix=conf_matrix, display_labels=clf.classes_)\n",
    "disp.plot()\n",
    "print(\"Model: \", \"Random Forest\", \" score: \", score)\n"
   ]
  },
  {
   "cell_type": "code",
   "execution_count": 77,
   "metadata": {},
   "outputs": [
    {
     "name": "stdout",
     "output_type": "stream",
     "text": [
      "[('weight', 0.08769114740796496), ('pkyr', 0.08742628477081225), ('smokeyr', 0.08516307779928065), ('educat', 0.06725552301515456), ('age', 0.06633048201759216), ('height', 0.06056703956967108), ('gender', 0.057541973519101515), ('race', 0.05598702195290635), ('ethnic', 0.05351478037274947), ('smokework', 0.051059655209930305), ('smokelive', 0.050786998826318236), ('cigsmok', 0.03979097438744786), ('diaghype', 0.029357951516171817), ('diagpneu', 0.020986220647810097), ('pipe', 0.02013332125560993), ('cigar', 0.01895568459724263), ('diaghear', 0.016722791849901046), ('diagemph', 0.01465533500434548), ('diagcopd', 0.011526465156101971), ('wrkfarm', 0.011329220833322969), ('diagchro', 0.010745276939546904), ('diagdiab', 0.009027393293914488), ('wrkchem', 0.007916770026771831), ('diagadas', 0.0068995108883037745), ('wrkweld', 0.00679851408720325), ('diagbron', 0.006169226428007858), ('wrkpain', 0.006061023779914207), ('wrkasbe', 0.006019526810347846), ('wrkfoun', 0.00513322178329916), ('diagchas', 0.005058166475538233), ('diagstro', 0.004102124000408876), ('wrkbutc', 0.0029504720355522374), ('wrkbaki', 0.0027683978109496947), ('wrksand', 0.0027105964929800834), ('wrkfire', 0.002532857526419453), ('diagtube', 0.0018125952265007847), ('diagasbe', 0.0017247388107191827), ('wrkflou', 0.0014066080720037944), ('wrkcoal', 0.001151601484674934), ('wrkcott', 0.0010682248939229758), ('wrkhard', 0.0006307851774267538), ('diagsarc', 0.0002806732341992872), ('diagfibr', 0.0002497450119591379), ('diagsili', 0.0)]\n"
     ]
    }
   ],
   "source": [
    "# Create lists of feature names and coefficients\n",
    "column_labels = X_train.columns.tolist()\n",
    "coef = m.feature_importances_\n",
    "\n",
    "# Zip together\n",
    "labels_coef = list(zip(column_labels, coef))\n",
    "# Order by most significant features (positive or negative)\n",
    "feature_ranks = sorted(labels_coef, key=lambda x: abs(x[1]), reverse=True)\n",
    "\n",
    "print(feature_ranks)\n"
   ]
  },
  {
   "cell_type": "code",
   "execution_count": 78,
   "metadata": {},
   "outputs": [],
   "source": [
    "true_negative_probs = []\n",
    "false_negative_probs = []\n",
    "true_positive_probs = []\n",
    "false_positive_probs = []\n",
    "\n",
    "y_pred_list = y_pred.tolist()\n",
    "y_pred_prob_list = y_pred_prob.tolist()\n",
    "y_test_list = y_test['lung_cancer'].tolist()\n",
    "\n",
    "for i in range(len(y_test)):\n",
    "  # true negative\n",
    "  if y_pred_list[i] == 0 and y_test_list[i] == 0:\n",
    "    true_negative_probs.append(y_pred_prob_list[i][0])\n",
    "  # false negative\n",
    "  elif y_pred_list[i] == 0 and y_test_list[i] == 1:\n",
    "    false_negative_probs.append(y_pred_prob_list[i][0])\n",
    "  # true positive\n",
    "  elif y_pred_list[i] == 1 and y_test_list[i] == 1:\n",
    "    true_positive_probs.append(y_pred_prob_list[i][1])\n",
    "  # false positive\n",
    "  else:\n",
    "    false_positive_probs.append(y_pred_prob_list[i][1])\n"
   ]
  },
  {
   "cell_type": "code",
   "execution_count": 79,
   "metadata": {},
   "outputs": [
    {
     "data": {
      "image/png": "[encoded data removed]",
      "text/plain": [
       "<Figure size 640x480 with 1 Axes>"
      ]
     },
     "metadata": {},
     "output_type": "display_data"
    }
   ],
   "source": [
    "data = {'false negative': false_negative_probs,\n",
    "               'true negative': true_negative_probs,\n",
    "               'false positive': false_positive_probs,\n",
    "               'true positive': true_positive_probs,\n",
    "              }\n",
    "cols = ['false negative', 'true negative', 'false positive', 'true positive']\n",
    "\n",
    "df = pd.DataFrame.from_dict(\n",
    "    data=dict(data),\n",
    "    orient='index',\n",
    ").T\n",
    "\n",
    "fig, ax = plt.subplots()\n",
    "\n",
    "ax = sns.stripplot(data=df)\n",
    "ax.set_ylim(0, 1)\n",
    "\n",
    "plt.show()\n"
   ]
  },
  {
   "cell_type": "code",
   "execution_count": 80,
   "metadata": {},
   "outputs": [],
   "source": [
    "# from sklearn.model_selection import cross_val_score\n",
    "# scores = cross_val_score(clf, X, y, cv=10)\n",
    "# print(scores)\n"
   ]
  },
  {
   "cell_type": "code",
   "execution_count": null,
   "metadata": {},
   "outputs": [],
   "source": []
  },
  {
   "cell_type": "code",
   "execution_count": 81,
   "metadata": {},
   "outputs": [],
   "source": [
    "# from sklearn.svm import OneClassSVM\n",
    "\n",
    "# clf = OneClassSVM(gamma='auto').fit(X_train)\n",
    "\n",
    "# output = clf.predict(X_train)\n",
    "\n",
    "# print()\n"
   ]
  },
  {
   "cell_type": "code",
   "execution_count": 82,
   "metadata": {},
   "outputs": [],
   "source": [
    "# print(output)\n",
    "\n",
    "# print(len(output))\n",
    "# print(len(y_train))\n",
    "\n",
    "# print(y_train)\n",
    "\n",
    "# false_pos = 0\n",
    "# false_neg = 0\n",
    "# true_pos = 0\n",
    "# true_neg = 0\n",
    "\n",
    "# for i in range(len(output)):\n",
    "#   if output[i] == 1 and y_train.iloc[i]['lung_cancer'] == 0:\n",
    "#     true_neg += 1\n",
    "#   elif output[i] == 1 and y_train.iloc[i]['lung_cancer'] == 1:\n",
    "#     false_neg += 1\n",
    "#   elif output[i] == -1 and y_train.iloc[i]['lung_cancer'] == 0:\n",
    "#     false_pos += 1\n",
    "#   else:\n",
    "#     true_pos += 1\n",
    "\n",
    "# print(\"false_pos: \", false_pos, \" true_pos \", true_pos, \" false_neg \", false_neg, \" true_neg \", true_neg)\n"
   ]
  },
  {
   "cell_type": "code",
   "execution_count": 83,
   "metadata": {},
   "outputs": [],
   "source": [
    "# scores = clf.score_samples(X_train)\n"
   ]
  },
  {
   "cell_type": "code",
   "execution_count": 84,
   "metadata": {},
   "outputs": [],
   "source": [
    "# print(sorted(scores, reverse=True))\n",
    "\n",
    "# new_output = output[:]\n",
    "\n",
    "# for i in range(len(new_output)):\n",
    "#   if scores[i] < 2 and new_output[i] == -1:\n",
    "#     new_output[i] = 1\n",
    "#   elif scores[i] >= 2 and new_output[i] == 1:\n",
    "#     new_output[i] = -1\n",
    "\n",
    "# false_pos = 0\n",
    "# false_neg = 0\n",
    "# true_pos = 0\n",
    "# true_neg = 0\n",
    "\n",
    "# for i in range(len(output)):\n",
    "#   if new_output[i] == 1 and y_train.iloc[i]['lung_cancer'] == 0:\n",
    "#     true_neg += 1\n",
    "#   elif new_output[i] == 1 and y_train.iloc[i]['lung_cancer'] == 1:\n",
    "#     false_neg += 1\n",
    "#   elif new_output[i] == -1 and y_train.iloc[i]['lung_cancer'] == 0:\n",
    "#     false_pos += 1\n",
    "#   else:\n",
    "#     true_pos += 1\n",
    "\n",
    "# print(\"false_pos: \", false_pos, \" true_pos \", true_pos, \" false_neg \", false_neg, \" true_neg \", true_neg)\n"
   ]
  }
 ],
 "metadata": {
  "kernelspec": {
   "display_name": "Python 3 (ipykernel)",
   "language": "python",
   "name": "python3"
  },
  "language_info": {
   "codemirror_mode": {
    "name": "ipython",
    "version": 3
   },
   "file_extension": ".py",
   "mimetype": "text/x-python",
   "name": "python",
   "nbconvert_exporter": "python",
   "pygments_lexer": "ipython3",
   "version": "3.10.13"
  }
 },
 "nbformat": 4,
 "nbformat_minor": 2
}
