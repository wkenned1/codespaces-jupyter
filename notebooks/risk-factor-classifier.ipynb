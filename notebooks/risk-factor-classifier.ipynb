{
 "cells": [
  {
   "cell_type": "markdown",
   "metadata": {},
   "source": [
    "# Risk Factor Clinical Classifier\n",
    "\n",
    "This classifier takes patient answers to the Lung Space clinical survey and predicts the chance of cancer."
   ]
  },
  {
   "cell_type": "markdown",
   "metadata": {},
   "source": [
    "## Import dataset and build dataframe"
   ]
  },
  {
   "cell_type": "code",
   "execution_count": 26,
   "metadata": {},
   "outputs": [
    {
     "name": "stdout",
     "output_type": "stream",
     "text": [
      "positive:  2058  negative:  51394\n"
     ]
    },
    {
     "name": "stderr",
     "output_type": "stream",
     "text": [
      "/tmp/ipykernel_39403/944167057.py:8: DtypeWarning: Columns (239,240,348) have mixed types. Specify dtype option on import or set low_memory=False.\n",
      "  df = pd.read_csv('../data/lungspace/package-nlst-1193.2024-02-20/participant_d040722.csv')\n"
     ]
    }
   ],
   "source": [
    "import numpy as np\n",
    "import pandas as pd\n",
    "from sklearn import tree\n",
    "from sklearn.linear_model import LogisticRegression\n",
    "from sklearn.neighbors import KNeighborsClassifier\n",
    "from sklearn.preprocessing import normalize\n",
    "\n",
    "df = pd.read_csv('../data/lungspace/package-nlst-1193.2024-02-20/participant_d040722.csv')\n",
    "\n",
    "\n",
    "# Breakdown of positive and negative sample size\n",
    "print(\"positive: \", len(df['lung_cancer'].loc[df['lung_cancer'] == 1].to_list()), \" negative: \", len(df['lung_cancer'].loc[df['lung_cancer'] == 0].to_list()))\n",
    "\n",
    "# Features\n",
    "features_demographic = ['age', 'weight', 'height']\n",
    "features_smoking = [\"cigar\",\"cigsmok\",\"pipe\",\"pkyr\",\"smokeage\",\"smokeday\",\"smokelive\",\"smokework\",\"smokeyr\"]\n",
    "features_screening = ['num_screens']\n",
    "features_follow_up_procedures = [\"biop0\",\"biop1\",\"biop2\",\"bioplc\",\"invas0\",\"invas1\",\"invas2\",\"invaslc\",\"medcomp0\",\"medcomp1\",\"medcomp2\",\"medcomplc\",\"mra_stat0\",\"mra_stat1\",\"mra_stat2\",\"no_proc_reas0\",\"no_proc_reas1\",\"no_proc_reas2\",\"proc0\",\"proc1\",\"proc2\"]\n",
    "features_work_history = [\"resasbe\",\"resbaki\",\"resbutc\",\"reschem\",\"resfarm\",\"resfire\",\"resflou\",\"resfoun\",\"reshard\",\"respain\",\"ressand\",\"resweld\",\"wrkasbe\",\"wrkbaki\",\"wrkbutc\",\"wrkchem\",\"wrkcoal\",\"wrkcott\",\"wrkfarm\",\"wrkfire\",\"wrkflou\",\"wrkfoun\",\"wrkhard\",\"wrkpain\",\"wrksand\",\"wrkweld\"]\n",
    "features_disease_history = [\"ageadas\",\"ageasbe\",\"agebron\",\"agechas\",\"agechro\",\"agecopd\",\"agediab\",\"ageemph\",\"agehear\",\"agehype\",\"agepneu\",\"agestro\",\"agetube\",\"diagadas\",\"diagasbe\",\"diagbron\",\"diagchas\",\"diagchro\",\"diagcopd\",\"diagdiab\",\"diagemph\",\"diagfibr\",\"diaghear\",\"diaghype\",\"diagpneu\",\"diagsarc\",\"diagsili\",\"diagstro\",\"diagtube\"]\n",
    "features_family_history = [\"fambrother\",\"famchild\",\"famfather\",\"fammother\",\"famsister\"]\n",
    "features_alcohol = [\"acrin_alc_curr\",\"acrin_alc_ever\",\"acrin_drink24hr\",\"acrin_drinknum_curr\",\"acrin_drinknum_form\",\"acrin_drinkyrs_curr\",\"acrin_drinkyrs_form\",\"acrin_lastdrink\",\"lss_alcohol_freq\",\"lss_alcohol_num\"]\n",
    "output_column = ['lung_cancer']\n",
    "\n",
    "# All columns to\n",
    "# dataset_columns = features_demographic + features_smoking + features_screening + features_work_history + features_disease_history + features_family_history + features_alcohol + output_column\n",
    "dataset_columns = features_demographic + features_smoking + features_screening + output_column\n",
    "\n",
    "# Build dataframe\n",
    "df = df[dataset_columns]\n",
    "for i in dataset_columns[:]:\n",
    "  if df[i].isna().sum() > 500:\n",
    "    df = df.drop(i, axis=1)\n",
    "    dataset_columns.remove(i)\n",
    "\n",
    "# print(df.isnull().sum(axis = 0).sort_values(ascending=False).to_string())\n",
    "\n",
    "df = df.dropna()\n"
   ]
  },
  {
   "cell_type": "code",
   "execution_count": 27,
   "metadata": {},
   "outputs": [],
   "source": [
    "# # Determines how many negative samples to include in the dataset\n",
    "# # The frac value determines the percent of negative values that are excluded\n",
    "# df = df.drop(df.query('lung_cancer == 0').sample(frac=.95).index)\n",
    "\n",
    "# df = df[df[dataset_columns] >= 0]\n",
    "# # print(df.loc[df.apply(lambda row: all(value < 0 for value in row), axis=1)])\n",
    "# df = df.dropna()\n",
    "# print(df)\n"
   ]
  },
  {
   "cell_type": "code",
   "execution_count": 28,
   "metadata": {},
   "outputs": [],
   "source": [
    "# df_positives = df[df['lung_cancer'] == 1]\n",
    "# print(df_positives)\n",
    "# print(len(df_positives['lung_cancer'].to_list()))\n",
    "\n",
    "# while len(df[df['lung_cancer'] == 1]['lung_cancer'].to_list()) < len(df[df['lung_cancer'] == 0]['lung_cancer'].to_list()):\n",
    "#   df = pd.concat([df, df_positives])\n",
    "\n",
    "# print(df)\n",
    "# print(\"positive: \", len(df['lung_cancer'].loc[df['lung_cancer'] == 1].to_list()), \" negative: \", len(df['lung_cancer'].loc[df['lung_cancer'] == 0].to_list()))\n"
   ]
  },
  {
   "cell_type": "markdown",
   "metadata": {},
   "source": [
    "## Define models"
   ]
  },
  {
   "cell_type": "code",
   "execution_count": 29,
   "metadata": {},
   "outputs": [
    {
     "name": "stdout",
     "output_type": "stream",
     "text": [
      "       lung_cancer\n",
      "51854            0\n",
      "35076            0\n",
      "36220            0\n",
      "6705             0\n",
      "8778             0\n",
      "...            ...\n",
      "11593            0\n",
      "45689            0\n",
      "39096            0\n",
      "885              0\n",
      "16216            0\n",
      "\n",
      "[31477 rows x 1 columns]\n",
      "       lung_cancer\n",
      "50140            0\n",
      "41594            0\n",
      "3946             0\n",
      "50750            0\n",
      "17332            0\n",
      "...            ...\n",
      "32917            0\n",
      "39621            0\n",
      "17681            0\n",
      "34648            0\n",
      "2624             0\n",
      "\n",
      "[20986 rows x 1 columns]\n",
      "positive training sample:  1198\n",
      "negative training sample:  30279\n",
      "positive training sample:  810\n",
      "negative training sample:  20176\n"
     ]
    }
   ],
   "source": [
    "import matplotlib.pyplot as plt\n",
    "import seaborn as sns\n",
    "import numpy as np\n",
    "from matplotlib.colors import ListedColormap\n",
    "\n",
    "from sklearn.metrics import accuracy_score\n",
    "from sklearn.metrics import confusion_matrix, ConfusionMatrixDisplay\n",
    "\n",
    "from sklearn.datasets import make_circles, make_classification, make_moons\n",
    "from sklearn.discriminant_analysis import QuadraticDiscriminantAnalysis\n",
    "from sklearn.ensemble import AdaBoostClassifier, RandomForestClassifier\n",
    "from sklearn.gaussian_process import GaussianProcessClassifier\n",
    "from sklearn.gaussian_process.kernels import RBF\n",
    "from sklearn.inspection import DecisionBoundaryDisplay\n",
    "from sklearn.model_selection import train_test_split\n",
    "from sklearn.naive_bayes import GaussianNB, MultinomialNB\n",
    "from sklearn.neighbors import KNeighborsClassifier\n",
    "from sklearn.neural_network import MLPClassifier\n",
    "from sklearn.pipeline import make_pipeline\n",
    "from sklearn.preprocessing import StandardScaler\n",
    "from sklearn.svm import SVC\n",
    "from sklearn.tree import DecisionTreeClassifier\n",
    "from sklearn.linear_model import LogisticRegression\n",
    "\n",
    "# Model names\n",
    "names = [\n",
    "    \"Nearest Neighbors\",\n",
    "    \"Linear SVM\",\n",
    "    # \"RBF SVM\",\n",
    "    # \"Gaussian Process\",\n",
    "    \"Decision Tree\",\n",
    "    # \"Random Forest\",\n",
    "    # \"Neural Net\",\n",
    "    # \"AdaBoost\",\n",
    "    \"Naive Bayes\",\n",
    "    \"Logistic Regression\"\n",
    "    # \"QDA\",\n",
    "]\n",
    "\n",
    "# Models\n",
    "classifiers = [\n",
    "    KNeighborsClassifier(3),\n",
    "    SVC(kernel=\"linear\", C=0.025, random_state=42),\n",
    "    # SVC(gamma=2, C=1, random_state=42),\n",
    "    # GaussianProcessClassifier(1.0 * RBF(1.0), random_state=42),\n",
    "    DecisionTreeClassifier(max_depth=5, random_state=42),\n",
    "    # RandomForestClassifier(\n",
    "    #     max_depth=5, n_estimators=10, max_features=1, random_state=42\n",
    "    # ),\n",
    "    # MLPClassifier(alpha=1, max_iter=1000, random_state=42),\n",
    "    # AdaBoostClassifier(algorithm=\"SAMME\", random_state=42),\n",
    "    GaussianNB(),\n",
    "    LogisticRegression(random_state=0)\n",
    "    # QuadraticDiscriminantAnalysis(),\n",
    "]\n",
    "\n",
    "\n",
    "# Use predict lung_cancer column\n",
    "# X = df[['age', 'weight', 'height', \"cigar\",\"cigsmok\",\"pipe\",\"pkyr\",\"smokeage\",\"smokeday\",\"smokelive\",\"smokework\",\"smokeyr\",\"num_screens\"]]\n",
    "X = df[dataset_columns[:-1]]\n",
    "y = df[['lung_cancer']]\n",
    "\n",
    "# Spli training and test sets\n",
    "X_train, X_test, y_train, y_test = train_test_split(\n",
    "    X, y, test_size=0.4, random_state=42\n",
    ")\n",
    "\n",
    "print(y_train)\n",
    "print(y_test)\n",
    "\n",
    "print(\"positive training sample: \", len(list(filter(lambda x: x == 1.0, y_train['lung_cancer'].to_list()))))\n",
    "print(\"negative training sample: \", len(list(filter(lambda x: x == 0.0, y_train['lung_cancer'].to_list()))))\n",
    "print(\"positive training sample: \", len(list(filter(lambda x: x == 1.0, y_test['lung_cancer'].to_list()))))\n",
    "print(\"negative training sample: \", len(list(filter(lambda x: x == 0.0, y_test['lung_cancer'].to_list()))))\n"
   ]
  },
  {
   "cell_type": "markdown",
   "metadata": {},
   "source": [
    "## Test models and plot confusion matrices\n",
    "\n",
    "The goal is to minimize the number of false negative predictions."
   ]
  },
  {
   "cell_type": "code",
   "execution_count": 30,
   "metadata": {},
   "outputs": [],
   "source": [
    "# for name, clf in zip(names, classifiers):\n",
    "#   clf = make_pipeline(StandardScaler(), clf)\n",
    "#   clf.fit(normalize(X_train), y_train)\n",
    "#   y_pred = clf.predict(normalize(X_test))\n",
    "\n",
    "#   score = accuracy_score(y_test, y_pred)\n",
    "#   conf_matrix = confusion_matrix(y_test, y_pred)\n",
    "#   disp = ConfusionMatrixDisplay(confusion_matrix=conf_matrix, display_labels=clf.classes_)\n",
    "#   disp.plot()\n",
    "#   print(\"Model: \", name, \" score: \", score)\n"
   ]
  },
  {
   "cell_type": "markdown",
   "metadata": {},
   "source": [
    "## Get confidence of each prediction with `predict_proba()`"
   ]
  },
  {
   "cell_type": "code",
   "execution_count": 31,
   "metadata": {},
   "outputs": [
    {
     "name": "stderr",
     "output_type": "stream",
     "text": [
      "/home/codespace/.python/current/lib/python3.10/site-packages/sklearn/utils/validation.py:1183: DataConversionWarning: A column-vector y was passed when a 1d array was expected. Please change the shape of y to (n_samples, ), for example using ravel().\n",
      "  y = column_or_1d(y, warn=True)\n",
      "/home/codespace/.python/current/lib/python3.10/site-packages/sklearn/base.py:458: UserWarning: X has feature names, but StandardScaler was fitted without feature names\n",
      "  warnings.warn(\n"
     ]
    },
    {
     "name": "stdout",
     "output_type": "stream",
     "text": [
      "Model:  Logistic Regression  score:  0.9611645859144191\n"
     ]
    },
    {
     "data": {
      "image/png": "[encoded data removed]",
      "text/plain": [
       "<Figure size 640x480 with 2 Axes>"
      ]
     },
     "metadata": {},
     "output_type": "display_data"
    }
   ],
   "source": [
    "# # Fit logistic regression model\n",
    "# model = LogisticRegression(random_state=0)\n",
    "# model.fit(X_train, y_train)\n",
    "\n",
    "# # Get confidence intervals for each prediction\n",
    "# y_pred_prob = model.predict_proba(X_test)\n",
    "# # Get predicted values\n",
    "# y_pred = model.predict(normalize(X_test))\n",
    "\n",
    "# # Get prediction accuracy\n",
    "# score = accuracy_score(y_test, y_pred)\n",
    "# # Get breakdown of false/true positives and false/true negatives\n",
    "# conf_matrix = confusion_matrix(y_test, y_pred)\n",
    "\n",
    "# # Display results\n",
    "# disp = ConfusionMatrixDisplay(confusion_matrix=conf_matrix, display_labels=clf.classes_)\n",
    "# disp.plot()\n",
    "# print(\"Model: \", name, \" score: \", score)\n",
    "\n",
    "clf = m = LogisticRegression(random_state=0)\n",
    "clf = make_pipeline(StandardScaler(), clf)\n",
    "clf.fit(normalize(X_train), y_train)\n",
    "y_pred = clf.predict(normalize(X_test))\n",
    "y_pred_prob = clf.predict_proba(X_test)\n",
    "\n",
    "score = accuracy_score(y_test, y_pred)\n",
    "conf_matrix = confusion_matrix(y_test, y_pred)\n",
    "disp = ConfusionMatrixDisplay(confusion_matrix=conf_matrix, display_labels=clf.classes_)\n",
    "disp.plot()\n",
    "print(\"Model: \", \"Logistic Regression\", \" score: \", score)\n"
   ]
  },
  {
   "cell_type": "markdown",
   "metadata": {},
   "source": [
    "## Rank features used "
   ]
  },
  {
   "cell_type": "code",
   "execution_count": 32,
   "metadata": {},
   "outputs": [
    {
     "name": "stdout",
     "output_type": "stream",
     "text": [
      "[('pkyr', 1.1467233574786166), ('weight', 0.7909630100956582), ('num_screens', -0.6013244962281354), ('age', 0.5367751873914961), ('smokeday', -0.3210511309113192), ('smokeyr', 0.3166430985499047), ('height', 0.16877824866572635), ('cigsmok', 0.06289126491769793), ('smokeage', 0.056045030679974496), ('smokework', 0.03942542646439369), ('cigar', 0.037311090563347776), ('smokelive', -0.02780703462643011), ('pipe', -0.007811636715531303)]\n"
     ]
    }
   ],
   "source": [
    "# Create lists of feature names and coefficients\n",
    "column_labels = X_train.columns.tolist()\n",
    "coef = m.coef_.squeeze().tolist()\n",
    "\n",
    "# Zip together\n",
    "labels_coef = list(zip(column_labels, coef))\n",
    "# Order by most significant features (positive or negative)\n",
    "feature_ranks = sorted(labels_coef, key=lambda x: abs(x[1]), reverse=True)\n",
    "\n",
    "print(feature_ranks)\n"
   ]
  },
  {
   "cell_type": "markdown",
   "metadata": {},
   "source": [
    "## Compare compare the probabilities of false positives and false negatives to true positives and true negatives"
   ]
  },
  {
   "cell_type": "code",
   "execution_count": 33,
   "metadata": {},
   "outputs": [],
   "source": [
    "true_negative_probs = []\n",
    "false_negative_probs = []\n",
    "true_positive_probs = []\n",
    "false_positive_probs = []\n",
    "\n",
    "y_pred_list = y_pred.tolist()\n",
    "y_pred_prob_list = y_pred_prob.tolist()\n",
    "y_test_list = y_test['lung_cancer'].tolist()\n",
    "\n",
    "for i in range(len(y_test)):\n",
    "  # true negative\n",
    "  if y_pred_list[i] == 0 and y_test_list[i] == 0:\n",
    "    true_negative_probs.append(y_pred_prob_list[i][0])\n",
    "  # false negative\n",
    "  elif y_pred_list[i] == 0 and y_test_list[i] == 1:\n",
    "    false_negative_probs.append(y_pred_prob_list[i][0])\n",
    "  # true positive\n",
    "  elif y_pred_list[i] == 1 and y_test_list[i] == 1:\n",
    "    true_positive_probs.append(y_pred_prob_list[i][1])\n",
    "  # false positive\n",
    "  else:\n",
    "    false_positive_probs.append(y_pred_prob_list[i][1])\n"
   ]
  },
  {
   "cell_type": "markdown",
   "metadata": {},
   "source": [
    "## Plot the confidence intervals that led to the different predictions. "
   ]
  },
  {
   "cell_type": "code",
   "execution_count": 34,
   "metadata": {},
   "outputs": [
    {
     "data": {
      "image/png": "[encoded data removed]",
      "text/plain": [
       "<Figure size 640x480 with 1 Axes>"
      ]
     },
     "metadata": {},
     "output_type": "display_data"
    }
   ],
   "source": [
    "data = {'false negative': false_negative_probs,\n",
    "               'true negative': true_negative_probs,\n",
    "               'false positive': false_positive_probs,\n",
    "               'true positive': true_positive_probs,\n",
    "              }\n",
    "cols = ['false negative', 'true negative', 'false positive', 'true positive']\n",
    "\n",
    "df = pd.DataFrame.from_dict(\n",
    "    data=dict(data),\n",
    "    orient='index',\n",
    ").T\n",
    "\n",
    "fig, ax = plt.subplots()\n",
    "\n",
    "ax = sns.stripplot(data=df)\n",
    "ax.set_ylim(0, 1)\n",
    "\n",
    "plt.show()\n"
   ]
  },
  {
   "cell_type": "code",
   "execution_count": 35,
   "metadata": {},
   "outputs": [
    {
     "name": "stderr",
     "output_type": "stream",
     "text": [
      "/home/codespace/.python/current/lib/python3.10/site-packages/sklearn/neighbors/_classification.py:233: DataConversionWarning: A column-vector y was passed when a 1d array was expected. Please change the shape of y to (n_samples,), for example using ravel().\n",
      "  return self._fit(X, y)\n",
      "/home/codespace/.python/current/lib/python3.10/site-packages/sklearn/base.py:458: UserWarning: X has feature names, but StandardScaler was fitted without feature names\n",
      "  warnings.warn(\n"
     ]
    },
    {
     "name": "stdout",
     "output_type": "stream",
     "text": [
      "Model:  KNN  score:  0.9552082340608025\n"
     ]
    },
    {
     "data": {
      "image/png": "[encoded data removed]",
      "text/plain": [
       "<Figure size 640x480 with 2 Axes>"
      ]
     },
     "metadata": {},
     "output_type": "display_data"
    }
   ],
   "source": [
    "clf = KNeighborsClassifier(3)\n",
    "clf = make_pipeline(StandardScaler(), clf)\n",
    "clf.fit(normalize(X_train), y_train)\n",
    "y_pred = clf.predict(normalize(X_test))\n",
    "y_pred_prob = clf.predict_proba(X_test)\n",
    "\n",
    "score = accuracy_score(y_test, y_pred)\n",
    "conf_matrix = confusion_matrix(y_test, y_pred)\n",
    "disp = ConfusionMatrixDisplay(confusion_matrix=conf_matrix, display_labels=clf.classes_)\n",
    "disp.plot()\n",
    "print(\"Model: \", \"KNN\", \" score: \", score)\n",
    "\n",
    "# # Fit logistic regression model\n",
    "# model2 = KNeighborsClassifier(3)\n",
    "# model2.fit(X_train, y_train)\n",
    "\n",
    "# # Get confidence intervals for each prediction\n",
    "# y_pred_prob = model2.predict_proba(X_test)\n",
    "# # Get predicted values\n",
    "# y_pred = model2.predict(normalize(X_test))\n",
    "\n",
    "# # Get prediction accuracy\n",
    "# score = accuracy_score(y_test, y_pred)\n",
    "# # Get breakdown of false/true positives and false/true negatives\n",
    "# conf_matrix = confusion_matrix(y_test, y_pred)\n",
    "\n",
    "# # Display results\n",
    "# disp = ConfusionMatrixDisplay(confusion_matrix=conf_matrix, display_labels=clf.classes_)\n",
    "# disp.plot()\n",
    "# print(\"Model: \", \"KNN\", \" score: \", score)\n"
   ]
  },
  {
   "cell_type": "code",
   "execution_count": 36,
   "metadata": {},
   "outputs": [
    {
     "name": "stderr",
     "output_type": "stream",
     "text": [
      "/home/codespace/.python/current/lib/python3.10/site-packages/sklearn/base.py:1152: DataConversionWarning: A column-vector y was passed when a 1d array was expected. Please change the shape of y to (n_samples,), for example using ravel().\n",
      "  return fit_method(estimator, *args, **kwargs)\n",
      "/home/codespace/.python/current/lib/python3.10/site-packages/sklearn/base.py:458: UserWarning: X has feature names, but StandardScaler was fitted without feature names\n",
      "  warnings.warn(\n"
     ]
    },
    {
     "name": "stdout",
     "output_type": "stream",
     "text": [
      "Model:  Random Forest  score:  0.9609739826551034\n"
     ]
    },
    {
     "data": {
      "image/png": "[encoded data removed]",
      "text/plain": [
       "<Figure size 640x480 with 2 Axes>"
      ]
     },
     "metadata": {},
     "output_type": "display_data"
    }
   ],
   "source": [
    "clf = m = RandomForestClassifier()\n",
    "clf = make_pipeline(StandardScaler(), clf)\n",
    "clf.fit(normalize(X_train), y_train)\n",
    "y_pred = clf.predict(normalize(X_test))\n",
    "y_pred_prob = clf.predict_proba(X_test)\n",
    "\n",
    "score = accuracy_score(y_test, y_pred)\n",
    "conf_matrix = confusion_matrix(y_test, y_pred)\n",
    "disp = ConfusionMatrixDisplay(confusion_matrix=conf_matrix, display_labels=clf.classes_)\n",
    "disp.plot()\n",
    "print(\"Model: \", \"Random Forest\", \" score: \", score)\n"
   ]
  },
  {
   "cell_type": "code",
   "execution_count": 37,
   "metadata": {},
   "outputs": [
    {
     "name": "stdout",
     "output_type": "stream",
     "text": [
      "[('num_screens', 0.13497032696182598), ('smokeyr', 0.09419464434988482), ('age', 0.08880420334229155), ('height', 0.08858720180622998), ('smokeage', 0.0866919181489567), ('pkyr', 0.08608294704588511), ('weight', 0.08586585583901497), ('smokeday', 0.08444705520664401), ('smokelive', 0.07439400555775404), ('smokework', 0.07210757369933724), ('cigsmok', 0.05395214645704292), ('pipe', 0.026348237397642867), ('cigar', 0.02355388418748998)]\n"
     ]
    }
   ],
   "source": [
    "# Create lists of feature names and coefficients\n",
    "column_labels = X_train.columns.tolist()\n",
    "coef = m.feature_importances_\n",
    "\n",
    "# Zip together\n",
    "labels_coef = list(zip(column_labels, coef))\n",
    "# Order by most significant features (positive or negative)\n",
    "feature_ranks = sorted(labels_coef, key=lambda x: abs(x[1]), reverse=True)\n",
    "\n",
    "print(feature_ranks)\n"
   ]
  },
  {
   "cell_type": "code",
   "execution_count": 38,
   "metadata": {},
   "outputs": [],
   "source": [
    "true_negative_probs = []\n",
    "false_negative_probs = []\n",
    "true_positive_probs = []\n",
    "false_positive_probs = []\n",
    "\n",
    "y_pred_list = y_pred.tolist()\n",
    "y_pred_prob_list = y_pred_prob.tolist()\n",
    "y_test_list = y_test['lung_cancer'].tolist()\n",
    "\n",
    "for i in range(len(y_test)):\n",
    "  # true negative\n",
    "  if y_pred_list[i] == 0 and y_test_list[i] == 0:\n",
    "    true_negative_probs.append(y_pred_prob_list[i][0])\n",
    "  # false negative\n",
    "  elif y_pred_list[i] == 0 and y_test_list[i] == 1:\n",
    "    false_negative_probs.append(y_pred_prob_list[i][0])\n",
    "  # true positive\n",
    "  elif y_pred_list[i] == 1 and y_test_list[i] == 1:\n",
    "    true_positive_probs.append(y_pred_prob_list[i][1])\n",
    "  # false positive\n",
    "  else:\n",
    "    false_positive_probs.append(y_pred_prob_list[i][1])\n"
   ]
  },
  {
   "cell_type": "code",
   "execution_count": 39,
   "metadata": {},
   "outputs": [
    {
     "data": {
      "image/png": "[encoded data removed]",
      "text/plain": [
       "<Figure size 640x480 with 1 Axes>"
      ]
     },
     "metadata": {},
     "output_type": "display_data"
    }
   ],
   "source": [
    "data = {'false negative': false_negative_probs,\n",
    "               'true negative': true_negative_probs,\n",
    "               'false positive': false_positive_probs,\n",
    "               'true positive': true_positive_probs,\n",
    "              }\n",
    "cols = ['false negative', 'true negative', 'false positive', 'true positive']\n",
    "\n",
    "df = pd.DataFrame.from_dict(\n",
    "    data=dict(data),\n",
    "    orient='index',\n",
    ").T\n",
    "\n",
    "fig, ax = plt.subplots()\n",
    "\n",
    "ax = sns.stripplot(data=df)\n",
    "ax.set_ylim(0, 1)\n",
    "\n",
    "plt.show()\n"
   ]
  },
  {
   "cell_type": "code",
   "execution_count": 40,
   "metadata": {},
   "outputs": [
    {
     "name": "stdout",
     "output_type": "stream",
     "text": [
      "\n"
     ]
    }
   ],
   "source": [
    "from sklearn.svm import OneClassSVM\n",
    "\n",
    "clf = OneClassSVM(gamma='auto').fit(X_train)\n",
    "\n",
    "output = clf.predict(X_train)\n",
    "\n",
    "print()\n"
   ]
  },
  {
   "cell_type": "code",
   "execution_count": 43,
   "metadata": {},
   "outputs": [
    {
     "name": "stdout",
     "output_type": "stream",
     "text": [
      "[-1 -1 -1 ...  1 -1  1]\n",
      "31477\n",
      "31477\n",
      "       lung_cancer\n",
      "51854            0\n",
      "35076            0\n",
      "36220            0\n",
      "6705             0\n",
      "8778             0\n",
      "...            ...\n",
      "11593            0\n",
      "45689            0\n",
      "39096            0\n",
      "885              0\n",
      "16216            0\n",
      "\n",
      "[31477 rows x 1 columns]\n",
      "false_pos:  15502  true_pos  682  false_neg  516  true_neg  14777\n"
     ]
    }
   ],
   "source": [
    "print(output)\n",
    "\n",
    "print(len(output))\n",
    "print(len(y_train))\n",
    "\n",
    "print(y_train)\n",
    "\n",
    "false_pos = 0\n",
    "false_neg = 0\n",
    "true_pos = 0\n",
    "true_neg = 0\n",
    "\n",
    "for i in range(len(output)):\n",
    "  if output[i] == 1 and y_train.iloc[i]['lung_cancer'] == 0:\n",
    "    true_neg += 1\n",
    "  elif output[i] == 1 and y_train.iloc[i]['lung_cancer'] == 1:\n",
    "    false_neg += 1\n",
    "  elif output[i] == -1 and y_train.iloc[i]['lung_cancer'] == 0:\n",
    "    false_pos += 1\n",
    "  else:\n",
    "    true_pos += 1\n",
    "\n",
    "print(\"false_pos: \", false_pos, \" true_pos \", true_pos, \" false_neg \", false_neg, \" true_neg \", true_neg)\n"
   ]
  },
  {
   "cell_type": "code",
   "execution_count": 46,
   "metadata": {},
   "outputs": [
    {
     "ename": "KeyboardInterrupt",
     "evalue": "",
     "output_type": "error",
     "traceback": [
      "\u001b[0;31m---------------------------------------------------------------------------\u001b[0m",
      "\u001b[0;31mKeyboardInterrupt\u001b[0m                         Traceback (most recent call last)",
      "\u001b[1;32m/workspaces/codespaces-jupyter/notebooks/risk-factor-classifier.ipynb Cell 25\u001b[0m line \u001b[0;36m1\n\u001b[0;32m----> <a href='vscode-notebook-cell://codespaces%2Bhumble-bassoon-xrp5wv9666w26vgg/workspaces/codespaces-jupyter/notebooks/risk-factor-classifier.ipynb#X34sdnNjb2RlLXJlbW90ZQ%3D%3D?line=0'>1</a>\u001b[0m scores \u001b[39m=\u001b[39m clf\u001b[39m.\u001b[39;49mscore_samples(X_train)\n\u001b[1;32m      <a href='vscode-notebook-cell://codespaces%2Bhumble-bassoon-xrp5wv9666w26vgg/workspaces/codespaces-jupyter/notebooks/risk-factor-classifier.ipynb#X34sdnNjb2RlLXJlbW90ZQ%3D%3D?line=2'>3</a>\u001b[0m \u001b[39mprint\u001b[39m(\u001b[39msorted\u001b[39m(scores))\n",
      "File \u001b[0;32m~/.python/current/lib/python3.10/site-packages/sklearn/svm/_classes.py:1849\u001b[0m, in \u001b[0;36mOneClassSVM.score_samples\u001b[0;34m(self, X)\u001b[0m\n\u001b[1;32m   1836\u001b[0m \u001b[39mdef\u001b[39;00m \u001b[39mscore_samples\u001b[39m(\u001b[39mself\u001b[39m, X):\n\u001b[1;32m   1837\u001b[0m \u001b[39m    \u001b[39m\u001b[39m\"\"\"Raw scoring function of the samples.\u001b[39;00m\n\u001b[1;32m   1838\u001b[0m \n\u001b[1;32m   1839\u001b[0m \u001b[39m    Parameters\u001b[39;00m\n\u001b[0;32m   (...)\u001b[0m\n\u001b[1;32m   1847\u001b[0m \u001b[39m        Returns the (unshifted) scoring function of the samples.\u001b[39;00m\n\u001b[1;32m   1848\u001b[0m \u001b[39m    \"\"\"\u001b[39;00m\n\u001b[0;32m-> 1849\u001b[0m     \u001b[39mreturn\u001b[39;00m \u001b[39mself\u001b[39;49m\u001b[39m.\u001b[39;49mdecision_function(X) \u001b[39m+\u001b[39m \u001b[39mself\u001b[39m\u001b[39m.\u001b[39moffset_\n",
      "File \u001b[0;32m~/.python/current/lib/python3.10/site-packages/sklearn/svm/_classes.py:1833\u001b[0m, in \u001b[0;36mOneClassSVM.decision_function\u001b[0;34m(self, X)\u001b[0m\n\u001b[1;32m   1818\u001b[0m \u001b[39mdef\u001b[39;00m \u001b[39mdecision_function\u001b[39m(\u001b[39mself\u001b[39m, X):\n\u001b[1;32m   1819\u001b[0m \u001b[39m    \u001b[39m\u001b[39m\"\"\"Signed distance to the separating hyperplane.\u001b[39;00m\n\u001b[1;32m   1820\u001b[0m \n\u001b[1;32m   1821\u001b[0m \u001b[39m    Signed distance is positive for an inlier and negative for an outlier.\u001b[39;00m\n\u001b[0;32m   (...)\u001b[0m\n\u001b[1;32m   1831\u001b[0m \u001b[39m        Returns the decision function of the samples.\u001b[39;00m\n\u001b[1;32m   1832\u001b[0m \u001b[39m    \"\"\"\u001b[39;00m\n\u001b[0;32m-> 1833\u001b[0m     dec \u001b[39m=\u001b[39m \u001b[39mself\u001b[39;49m\u001b[39m.\u001b[39;49m_decision_function(X)\u001b[39m.\u001b[39mravel()\n\u001b[1;32m   1834\u001b[0m     \u001b[39mreturn\u001b[39;00m dec\n",
      "File \u001b[0;32m~/.python/current/lib/python3.10/site-packages/sklearn/svm/_base.py:538\u001b[0m, in \u001b[0;36mBaseLibSVM._decision_function\u001b[0;34m(self, X)\u001b[0m\n\u001b[1;32m    536\u001b[0m     dec_func \u001b[39m=\u001b[39m \u001b[39mself\u001b[39m\u001b[39m.\u001b[39m_sparse_decision_function(X)\n\u001b[1;32m    537\u001b[0m \u001b[39melse\u001b[39;00m:\n\u001b[0;32m--> 538\u001b[0m     dec_func \u001b[39m=\u001b[39m \u001b[39mself\u001b[39;49m\u001b[39m.\u001b[39;49m_dense_decision_function(X)\n\u001b[1;32m    540\u001b[0m \u001b[39m# In binary case, we need to flip the sign of coef, intercept and\u001b[39;00m\n\u001b[1;32m    541\u001b[0m \u001b[39m# decision function.\u001b[39;00m\n\u001b[1;32m    542\u001b[0m \u001b[39mif\u001b[39;00m \u001b[39mself\u001b[39m\u001b[39m.\u001b[39m_impl \u001b[39min\u001b[39;00m [\u001b[39m\"\u001b[39m\u001b[39mc_svc\u001b[39m\u001b[39m\"\u001b[39m, \u001b[39m\"\u001b[39m\u001b[39mnu_svc\u001b[39m\u001b[39m\"\u001b[39m] \u001b[39mand\u001b[39;00m \u001b[39mlen\u001b[39m(\u001b[39mself\u001b[39m\u001b[39m.\u001b[39mclasses_) \u001b[39m==\u001b[39m \u001b[39m2\u001b[39m:\n",
      "File \u001b[0;32m~/.python/current/lib/python3.10/site-packages/sklearn/svm/_base.py:554\u001b[0m, in \u001b[0;36mBaseLibSVM._dense_decision_function\u001b[0;34m(self, X)\u001b[0m\n\u001b[1;32m    551\u001b[0m \u001b[39mif\u001b[39;00m \u001b[39mcallable\u001b[39m(kernel):\n\u001b[1;32m    552\u001b[0m     kernel \u001b[39m=\u001b[39m \u001b[39m\"\u001b[39m\u001b[39mprecomputed\u001b[39m\u001b[39m\"\u001b[39m\n\u001b[0;32m--> 554\u001b[0m \u001b[39mreturn\u001b[39;00m libsvm\u001b[39m.\u001b[39;49mdecision_function(\n\u001b[1;32m    555\u001b[0m     X,\n\u001b[1;32m    556\u001b[0m     \u001b[39mself\u001b[39;49m\u001b[39m.\u001b[39;49msupport_,\n\u001b[1;32m    557\u001b[0m     \u001b[39mself\u001b[39;49m\u001b[39m.\u001b[39;49msupport_vectors_,\n\u001b[1;32m    558\u001b[0m     \u001b[39mself\u001b[39;49m\u001b[39m.\u001b[39;49m_n_support,\n\u001b[1;32m    559\u001b[0m     \u001b[39mself\u001b[39;49m\u001b[39m.\u001b[39;49m_dual_coef_,\n\u001b[1;32m    560\u001b[0m     \u001b[39mself\u001b[39;49m\u001b[39m.\u001b[39;49m_intercept_,\n\u001b[1;32m    561\u001b[0m     \u001b[39mself\u001b[39;49m\u001b[39m.\u001b[39;49m_probA,\n\u001b[1;32m    562\u001b[0m     \u001b[39mself\u001b[39;49m\u001b[39m.\u001b[39;49m_probB,\n\u001b[1;32m    563\u001b[0m     svm_type\u001b[39m=\u001b[39;49mLIBSVM_IMPL\u001b[39m.\u001b[39;49mindex(\u001b[39mself\u001b[39;49m\u001b[39m.\u001b[39;49m_impl),\n\u001b[1;32m    564\u001b[0m     kernel\u001b[39m=\u001b[39;49mkernel,\n\u001b[1;32m    565\u001b[0m     degree\u001b[39m=\u001b[39;49m\u001b[39mself\u001b[39;49m\u001b[39m.\u001b[39;49mdegree,\n\u001b[1;32m    566\u001b[0m     cache_size\u001b[39m=\u001b[39;49m\u001b[39mself\u001b[39;49m\u001b[39m.\u001b[39;49mcache_size,\n\u001b[1;32m    567\u001b[0m     coef0\u001b[39m=\u001b[39;49m\u001b[39mself\u001b[39;49m\u001b[39m.\u001b[39;49mcoef0,\n\u001b[1;32m    568\u001b[0m     gamma\u001b[39m=\u001b[39;49m\u001b[39mself\u001b[39;49m\u001b[39m.\u001b[39;49m_gamma,\n\u001b[1;32m    569\u001b[0m )\n",
      "\u001b[0;31mKeyboardInterrupt\u001b[0m: "
     ]
    }
   ],
   "source": [
    "scores = clf.score_samples(X_train)\n"
   ]
  },
  {
   "cell_type": "code",
   "execution_count": 55,
   "metadata": {},
   "outputs": [
    {
     "name": "stdout",
     "output_type": "stream",
     "text": [
      "false_pos:  0  true_pos  0  false_neg  1198  true_neg  30279\n"
     ]
    }
   ],
   "source": [
    "# print(sorted(scores, reverse=True))\n",
    "\n",
    "new_output = output[:]\n",
    "\n",
    "# for i in range(len(new_output)):\n",
    "#   if scores[i] <= 1 and new_output[i] == -1:\n",
    "#     new_output[i] = 1\n",
    "\n",
    "false_pos = 0\n",
    "false_neg = 0\n",
    "true_pos = 0\n",
    "true_neg = 0\n",
    "\n",
    "for i in range(len(output)):\n",
    "  if new_output[i] == 1 and y_train.iloc[i]['lung_cancer'] == 0:\n",
    "    true_neg += 1\n",
    "  elif new_output[i] == 1 and y_train.iloc[i]['lung_cancer'] == 1:\n",
    "    false_neg += 1\n",
    "  elif new_output[i] == -1 and y_train.iloc[i]['lung_cancer'] == 0:\n",
    "    false_pos += 1\n",
    "  else:\n",
    "    true_pos += 1\n",
    "\n",
    "print(\"false_pos: \", false_pos, \" true_pos \", true_pos, \" false_neg \", false_neg, \" true_neg \", true_neg)\n"
   ]
  }
 ],
 "metadata": {
  "kernelspec": {
   "display_name": "Python 3",
   "language": "python",
   "name": "python3"
  },
  "language_info": {
   "codemirror_mode": {
    "name": "ipython",
    "version": 3
   },
   "file_extension": ".py",
   "mimetype": "text/x-python",
   "name": "python",
   "nbconvert_exporter": "python",
   "pygments_lexer": "ipython3",
   "version": "3.10.13"
  }
 },
 "nbformat": 4,
 "nbformat_minor": 2
}
