{
 "cells": [
  {
   "cell_type": "markdown",
   "metadata": {},
   "source": [
    "# Risk Factor Clinical Classifier\n",
    "\n",
    "This classifier takes patient answers to the Lung Space clinical survey and predicts the chance of cancer."
   ]
  },
  {
   "cell_type": "markdown",
   "metadata": {},
   "source": [
    "## Import dataset and build dataframe"
   ]
  },
  {
   "cell_type": "code",
   "execution_count": 1095,
   "metadata": {},
   "outputs": [
    {
     "name": "stdout",
     "output_type": "stream",
     "text": [
      "positive:  2058  negative:  51394\n"
     ]
    },
    {
     "name": "stderr",
     "output_type": "stream",
     "text": [
      "/tmp/ipykernel_7835/3375708775.py:8: DtypeWarning: Columns (239,240,348) have mixed types. Specify dtype option on import or set low_memory=False.\n",
      "  df = pd.read_csv('../data/lungspace/package-nlst-1193.2024-02-20/participant_d040722.csv')\n"
     ]
    }
   ],
   "source": [
    "import numpy as np\n",
    "import pandas as pd\n",
    "from sklearn import tree\n",
    "from sklearn.linear_model import LogisticRegression\n",
    "from sklearn.neighbors import KNeighborsClassifier\n",
    "from sklearn.preprocessing import normalize\n",
    "\n",
    "df = pd.read_csv('../data/lungspace/package-nlst-1193.2024-02-20/participant_d040722.csv')\n",
    "\n",
    "\n",
    "# Breakdown of positive and negative sample size\n",
    "print(\"positive: \", len(df['lung_cancer'].loc[df['lung_cancer'] == 1].to_list()), \" negative: \", len(df['lung_cancer'].loc[df['lung_cancer'] == 0].to_list()))\n",
    "\n",
    "# Features\n",
    "features_demographic = ['age', 'weight', 'height', 'gender', 'educat', 'ethnic', 'race']\n",
    "features_smoking = [\"cigar\",\"cigsmok\",\"pipe\",\"pkyr\",\"smokeage\",\"smokeday\",\"smokelive\",\"smokework\",\"smokeyr\"]\n",
    "features_screening = ['num_screens']\n",
    "features_follow_up_procedures = [\"biop0\",\"biop1\",\"biop2\",\"bioplc\",\"invas0\",\"invas1\",\"invas2\",\"invaslc\",\"medcomp0\",\"medcomp1\",\"medcomp2\",\"medcomplc\",\"mra_stat0\",\"mra_stat1\",\"mra_stat2\",\"no_proc_reas0\",\"no_proc_reas1\",\"no_proc_reas2\",\"proc0\",\"proc1\",\"proc2\"]\n",
    "features_work_history = [\"resasbe\",\"resbaki\",\"resbutc\",\"reschem\",\"resfarm\",\"resfire\",\"resflou\",\"resfoun\",\"reshard\",\"respain\",\"ressand\",\"resweld\",\"wrkasbe\",\"wrkbaki\",\"wrkbutc\",\"wrkchem\",\"wrkcoal\",\"wrkcott\",\"wrkfarm\",\"wrkfire\",\"wrkflou\",\"wrkfoun\",\"wrkhard\",\"wrkpain\",\"wrksand\",\"wrkweld\"]\n",
    "features_disease_history = [\"ageadas\",\"ageasbe\",\"agebron\",\"agechas\",\"agechro\",\"agecopd\",\"agediab\",\"ageemph\",\"agehear\",\"agehype\",\"agepneu\",\"agestro\",\"agetube\",\"diagadas\",\"diagasbe\",\"diagbron\",\"diagchas\",\"diagchro\",\"diagcopd\",\"diagdiab\",\"diagemph\",\"diagfibr\",\"diaghear\",\"diaghype\",\"diagpneu\",\"diagsarc\",\"diagsili\",\"diagstro\",\"diagtube\"]\n",
    "features_family_history = [\"fambrother\",\"famchild\",\"famfather\",\"fammother\",\"famsister\"]\n",
    "features_alcohol = [\"acrin_alc_curr\",\"acrin_alc_ever\",\"acrin_drink24hr\",\"acrin_drinknum_curr\",\"acrin_drinknum_form\",\"acrin_drinkyrs_curr\",\"acrin_drinkyrs_form\",\"acrin_lastdrink\",\"lss_alcohol_freq\",\"lss_alcohol_num\"]\n",
    "output_column = ['lung_cancer']\n"
   ]
  },
  {
   "cell_type": "markdown",
   "metadata": {},
   "source": [
    "## Choose features to include"
   ]
  },
  {
   "cell_type": "markdown",
   "metadata": {},
   "source": [
    "### Features: Demographics and Smoking\n",
    "\n",
    "- Random forest (default): 99.8% accuracy\n",
    "- K Nearest Neighbor: 94% accuracy\n",
    "- Logistic Regression: 70% accuracy"
   ]
  },
  {
   "cell_type": "code",
   "execution_count": 1096,
   "metadata": {},
   "outputs": [],
   "source": [
    "# dataset_columns = features_demographic + features_smoking + output_column\n"
   ]
  },
  {
   "cell_type": "markdown",
   "metadata": {},
   "source": [
    "### Features: Demographics, Smoking, Work History, Family History, Alcohol\n",
    "\n",
    "- Random forest (default): 99.9% accuracy\n",
    "- K Nearest Neighbor (3 neighbors): 94%\n",
    "- Logistic Regression: 64%"
   ]
  },
  {
   "cell_type": "code",
   "execution_count": 1097,
   "metadata": {},
   "outputs": [],
   "source": [
    "dataset_columns = features_demographic + features_smoking + features_work_history + features_family_history + features_alcohol + output_column\n"
   ]
  },
  {
   "cell_type": "markdown",
   "metadata": {},
   "source": [
    "### Features: Demographics, Work History, Family History, Alcohol\n",
    "\n",
    "- Random forest (default): 98% accuracy\n",
    "- KNN (3 neighbors): 93% accuracy\n",
    "- Logistic Regression: 59% accuracy"
   ]
  },
  {
   "cell_type": "code",
   "execution_count": 1098,
   "metadata": {},
   "outputs": [],
   "source": [
    "# dataset_columns = features_demographic + features_work_history + features_family_history + features_alcohol + output_column\n"
   ]
  },
  {
   "cell_type": "markdown",
   "metadata": {},
   "source": [
    "## Remove null values and add weight/height field"
   ]
  },
  {
   "cell_type": "code",
   "execution_count": 1099,
   "metadata": {},
   "outputs": [
    {
     "name": "stdout",
     "output_type": "stream",
     "text": [
      "       age  weight  height  gender  educat  ethnic  race  cigar  cigsmok  \\\n",
      "0       70   134.0    70.0       1       2       2     1    1.0        1   \n",
      "1       66   175.0    68.0       1       3       2     1    0.0        1   \n",
      "2       64   180.0    70.0       1       3       2     1    0.0        1   \n",
      "3       60   205.0    70.0       1       5       2     1    0.0        0   \n",
      "4       64   220.0    67.0       1       2       2     1    0.0        0   \n",
      "...    ...     ...     ...     ...     ...     ...   ...    ...      ...   \n",
      "53447   73   206.0    64.0       2       3       2     1    0.0        1   \n",
      "53448   66   175.0    71.0       1       2       2     1    0.0        1   \n",
      "53449   56   172.0    72.0       1       5       2     1    1.0        0   \n",
      "53450   69   210.0    68.0       1       4       2     1    0.0        0   \n",
      "53451   57   220.0    69.0       1       7       2     1    0.0        1   \n",
      "\n",
      "       pipe  ...  wrkcott  wrkfarm  wrkfire  wrkflou  wrkfoun  wrkhard  \\\n",
      "0       1.0  ...      0.0      1.0      0.0      0.0      0.0      0.0   \n",
      "1       0.0  ...      0.0      1.0      0.0      0.0      0.0      0.0   \n",
      "2       0.0  ...      0.0      0.0      0.0      0.0      0.0      0.0   \n",
      "3       1.0  ...      0.0      1.0      1.0      1.0      0.0      0.0   \n",
      "4       0.0  ...      0.0      0.0      0.0      0.0      0.0      0.0   \n",
      "...     ...  ...      ...      ...      ...      ...      ...      ...   \n",
      "53447   0.0  ...      0.0      1.0      0.0      0.0      0.0      0.0   \n",
      "53448   0.0  ...      0.0      0.0      0.0      0.0      0.0      0.0   \n",
      "53449   0.0  ...      0.0      0.0      0.0      0.0      0.0      0.0   \n",
      "53450   0.0  ...      0.0      1.0      0.0      0.0      0.0      0.0   \n",
      "53451   0.0  ...      0.0      0.0      0.0      0.0      0.0      0.0   \n",
      "\n",
      "       wrkpain  wrksand  wrkweld  lung_cancer  \n",
      "0          0.0      0.0      0.0            0  \n",
      "1          0.0      0.0      1.0            0  \n",
      "2          1.0      0.0      0.0            0  \n",
      "3          0.0      0.0      1.0            0  \n",
      "4          0.0      0.0      0.0            0  \n",
      "...        ...      ...      ...          ...  \n",
      "53447      0.0      0.0      0.0            0  \n",
      "53448      0.0      0.0      0.0            0  \n",
      "53449      0.0      0.0      0.0            0  \n",
      "53450      0.0      0.0      0.0            0  \n",
      "53451      0.0      0.0      0.0            0  \n",
      "\n",
      "[52292 rows x 31 columns]\n"
     ]
    }
   ],
   "source": [
    "# Build dataframe\n",
    "df = df[dataset_columns]\n",
    "for i in dataset_columns[:]:\n",
    "  if df[i].isna().sum() > 500:\n",
    "    df = df.drop(i, axis=1)\n",
    "    dataset_columns.remove(i)\n",
    "\n",
    "# print(df.isnull().sum(axis = 0).sort_values(ascending=False).to_string())\n",
    "\n",
    "df = df.dropna()\n",
    "\n",
    "# df.insert(2, 'weight_div_height', df['weight'] / df['height'])\n",
    "\n",
    "print(df)\n"
   ]
  },
  {
   "cell_type": "markdown",
   "metadata": {},
   "source": [
    "## Downsample the negative samples to balance the dataset"
   ]
  },
  {
   "cell_type": "code",
   "execution_count": 1100,
   "metadata": {},
   "outputs": [],
   "source": [
    "# # Determines how many negative samples to include in the dataset\n",
    "# # The frac value determines the percent of negative values that are excluded\n",
    "# print(df)\n",
    "# df = df.drop(df.query('lung_cancer == 0').sample(frac=.95).index)\n",
    "# print(df)\n",
    "\n",
    "# df = df[df[dataset_columns] >= 0]\n",
    "# print(\"##############\")\n",
    "# print(df)\n",
    "\n",
    "# print(\"!!!!!!!!!!!!!!!!!!!!!\")\n",
    "\n",
    "# for i in df.columns.to_list():\n",
    "#   if df[i].isna().sum() > 500:\n",
    "#     print(i)\n",
    "\n",
    "# print(\"$$$$$$$$$$$$$\")\n",
    "\n",
    "# df = df.dropna()\n",
    "# print(df)\n"
   ]
  },
  {
   "cell_type": "markdown",
   "metadata": {},
   "source": [
    "## Duplicate the positive examples to balance the dataset"
   ]
  },
  {
   "cell_type": "code",
   "execution_count": 1101,
   "metadata": {},
   "outputs": [],
   "source": [
    "# Duplicate the positive samples to balance the dataset\n",
    "\n",
    "# df_positives = df[df['lung_cancer'] == 1]\n",
    "# print(df_positives)\n",
    "# print(len(df_positives['lung_cancer'].to_list()))\n",
    "\n",
    "# while len(df[df['lung_cancer'] == 1]['lung_cancer'].to_list()) < len(df[df['lung_cancer'] == 0]['lung_cancer'].to_list()):\n",
    "#   df = pd.concat([df, df_positives])\n",
    "\n",
    "# print(df)\n",
    "# print(\"positive: \", len(df['lung_cancer'].loc[df['lung_cancer'] == 1].to_list()), \" negative: \", len(df['lung_cancer'].loc[df['lung_cancer'] == 0].to_list()))\n"
   ]
  },
  {
   "cell_type": "markdown",
   "metadata": {},
   "source": [
    "## Define models"
   ]
  },
  {
   "cell_type": "code",
   "execution_count": 1102,
   "metadata": {},
   "outputs": [],
   "source": [
    "from imblearn.over_sampling import RandomOverSampler\n"
   ]
  },
  {
   "cell_type": "code",
   "execution_count": 1103,
   "metadata": {},
   "outputs": [],
   "source": [
    "import matplotlib.pyplot as plt\n",
    "import seaborn as sns\n",
    "import numpy as np\n",
    "from matplotlib.colors import ListedColormap\n",
    "\n",
    "from sklearn.metrics import accuracy_score\n",
    "from sklearn.metrics import confusion_matrix, ConfusionMatrixDisplay\n",
    "\n",
    "from sklearn.datasets import make_circles, make_classification, make_moons\n",
    "from sklearn.discriminant_analysis import QuadraticDiscriminantAnalysis\n",
    "from sklearn.ensemble import AdaBoostClassifier, RandomForestClassifier\n",
    "from sklearn.gaussian_process import GaussianProcessClassifier\n",
    "from sklearn.gaussian_process.kernels import RBF\n",
    "from sklearn.inspection import DecisionBoundaryDisplay\n",
    "from sklearn.model_selection import train_test_split\n",
    "from sklearn.naive_bayes import GaussianNB, MultinomialNB\n",
    "from sklearn.neighbors import KNeighborsClassifier\n",
    "from sklearn.neural_network import MLPClassifier\n",
    "from sklearn.pipeline import make_pipeline\n",
    "from sklearn.preprocessing import StandardScaler\n",
    "from sklearn.svm import SVC\n",
    "from sklearn.tree import DecisionTreeClassifier\n",
    "from sklearn.linear_model import LogisticRegression\n",
    "\n",
    "# Model names\n",
    "names = [\n",
    "    \"Nearest Neighbors\",\n",
    "    \"Linear SVM\",\n",
    "    # \"RBF SVM\",\n",
    "    # \"Gaussian Process\",\n",
    "    \"Decision Tree\",\n",
    "    # \"Random Forest\",\n",
    "    # \"Neural Net\",\n",
    "    # \"AdaBoost\",\n",
    "    \"Naive Bayes\",\n",
    "    \"Logistic Regression\"\n",
    "    # \"QDA\",\n",
    "]\n",
    "\n",
    "# Models\n",
    "classifiers = [\n",
    "    KNeighborsClassifier(3),\n",
    "    SVC(kernel=\"linear\", C=0.025, random_state=42),\n",
    "    # SVC(gamma=2, C=1, random_state=42),\n",
    "    # GaussianProcessClassifier(1.0 * RBF(1.0), random_state=42),\n",
    "    DecisionTreeClassifier(max_depth=5, random_state=42),\n",
    "    # RandomForestClassifier(\n",
    "    #     max_depth=5, n_estimators=10, max_features=1, random_state=42\n",
    "    # ),\n",
    "    # MLPClassifier(alpha=1, max_iter=1000, random_state=42),\n",
    "    # AdaBoostClassifier(algorithm=\"SAMME\", random_state=42),\n",
    "    GaussianNB(),\n",
    "    LogisticRegression(random_state=0)\n",
    "    # QuadraticDiscriminantAnalysis(),\n",
    "]\n"
   ]
  },
  {
   "cell_type": "markdown",
   "metadata": {},
   "source": [
    "## Build training and test sets"
   ]
  },
  {
   "cell_type": "code",
   "execution_count": 1104,
   "metadata": {},
   "outputs": [],
   "source": [
    "# Use predict lung_cancer column\n",
    "# X = df[['age', 'weight', 'height', \"cigar\",\"cigsmok\",\"pipe\",\"pkyr\",\"smokeage\",\"smokeday\",\"smokelive\",\"smokework\",\"smokeyr\",\"num_screens\"]]\n",
    "X = df[dataset_columns[:-1]]\n",
    "y = df[['lung_cancer']]\n",
    "\n",
    "# Split training and test sets\n",
    "X_train, X_test, y_train, y_test = train_test_split(\n",
    "    X, y, test_size=0.4, random_state=42\n",
    ")\n"
   ]
  },
  {
   "cell_type": "markdown",
   "metadata": {},
   "source": [
    "## Balance the dataset to improve positive accuracy"
   ]
  },
  {
   "cell_type": "markdown",
   "metadata": {},
   "source": [
    "### Oversample the imbalanced data with imbalance-learn library"
   ]
  },
  {
   "cell_type": "code",
   "execution_count": 1105,
   "metadata": {},
   "outputs": [],
   "source": [
    "# ros = RandomOverSampler(random_state=0)\n",
    "# X_train, y_train = ros.fit_resample(X_train, y_train)\n",
    "\n",
    "# from imblearn.over_sampling import SMOTE, ADASYN\n",
    "# # X_train, y_train = SMOTE().fit_resample(X_train, y_train)\n",
    "# # X_train, y_train = ADASYN().fit_resample(X_train, y_train)\n"
   ]
  },
  {
   "cell_type": "markdown",
   "metadata": {},
   "source": [
    "### Or oversample positive samples manually by duplicating them in the training set"
   ]
  },
  {
   "cell_type": "code",
   "execution_count": 1106,
   "metadata": {},
   "outputs": [],
   "source": [
    "# X_train_positives = []\n",
    "# X_test_positives = []\n",
    "# y_train_positives = []\n",
    "# y_test_positives = []\n",
    "\n",
    "# train_temp = pd.concat([X_train, y_train['lung_cancer']], axis=1)\n",
    "# test_temp = pd.concat([X_test, y_test['lung_cancer']], axis=1)\n",
    "\n",
    "# df_train_positives = train_temp[train_temp['lung_cancer'] == 1]\n",
    "# print(df_train_positives)\n",
    "# print(len(df_train_positives['lung_cancer'].to_list()))\n",
    "\n",
    "# while len(train_temp[train_temp['lung_cancer'] == 1]['lung_cancer'].to_list()) < len(train_temp[train_temp['lung_cancer'] == 0]['lung_cancer'].to_list()):\n",
    "#   train_temp = pd.concat([train_temp, df_train_positives])\n",
    "\n",
    "# print(train_temp)\n",
    "# print(\"positive: \", len(train_temp['lung_cancer'].loc[train_temp['lung_cancer'] == 1].to_list()), \" negative: \", len(train_temp['lung_cancer'].loc[train_temp['lung_cancer'] == 0].to_list()))\n",
    "\n",
    "# ##########\n",
    "\n",
    "# df_test_positives = test_temp[test_temp['lung_cancer'] == 1]\n",
    "# print(df_test_positives)\n",
    "# print(len(df_test_positives['lung_cancer'].to_list()))\n",
    "\n",
    "# while len(test_temp[test_temp['lung_cancer'] == 1]['lung_cancer'].to_list()) < len(test_temp[test_temp['lung_cancer'] == 0]['lung_cancer'].to_list()):\n",
    "#   test_temp = pd.concat([test_temp, df_test_positives])\n",
    "\n",
    "# print(test_temp)\n",
    "# print(\"positive: \", len(test_temp['lung_cancer'].loc[test_temp['lung_cancer'] == 1].to_list()), \" negative: \", len(test_temp['lung_cancer'].loc[test_temp['lung_cancer'] == 0].to_list()))\n",
    "\n",
    "\n",
    "# y_train = pd.DataFrame({'lung_cancer': train_temp['lung_cancer']})\n",
    "\n",
    "# print(\"TRAIN TEMP\")\n",
    "# print(train_temp)\n",
    "# train_temp = train_temp.drop('lung_cancer', axis=1)\n",
    "# X_train = train_temp\n",
    "\n",
    "# y_test = pd.DataFrame({'lung_cancer': test_temp['lung_cancer']})\n",
    "\n",
    "# test_temp = test_temp.drop('lung_cancer', axis=1)\n",
    "# X_test = test_temp\n"
   ]
  },
  {
   "cell_type": "code",
   "execution_count": 1107,
   "metadata": {},
   "outputs": [
    {
     "name": "stdout",
     "output_type": "stream",
     "text": [
      "       lung_cancer\n",
      "14844            0\n",
      "564              0\n",
      "18862            0\n",
      "26075            0\n",
      "37952            0\n",
      "...            ...\n",
      "11593            0\n",
      "45785            0\n",
      "39134            0\n",
      "885              0\n",
      "16216            0\n",
      "\n",
      "[31375 rows x 1 columns]\n",
      "       lung_cancer\n",
      "49592            0\n",
      "41771            0\n",
      "35917            0\n",
      "15057            0\n",
      "11201            0\n",
      "...            ...\n",
      "2620             0\n",
      "3695             0\n",
      "16138            0\n",
      "21811            1\n",
      "18824            0\n",
      "\n",
      "[20917 rows x 1 columns]\n",
      "positive training sample:  1168\n",
      "negative training sample:  30207\n",
      "positive training sample:  835\n",
      "negative training sample:  20082\n"
     ]
    }
   ],
   "source": [
    "print(y_train)\n",
    "print(y_test)\n",
    "\n",
    "print(\"positive training sample: \", len(list(filter(lambda x: x == 1.0, y_train['lung_cancer'].to_list()))))\n",
    "print(\"negative training sample: \", len(list(filter(lambda x: x == 0.0, y_train['lung_cancer'].to_list()))))\n",
    "print(\"positive training sample: \", len(list(filter(lambda x: x == 1.0, y_test['lung_cancer'].to_list()))))\n",
    "print(\"negative training sample: \", len(list(filter(lambda x: x == 0.0, y_test['lung_cancer'].to_list()))))\n"
   ]
  },
  {
   "cell_type": "markdown",
   "metadata": {},
   "source": [
    "## Test models and plot confusion matrices\n",
    "\n",
    "The goal is to minimize the number of false negative predictions."
   ]
  },
  {
   "cell_type": "code",
   "execution_count": 1108,
   "metadata": {},
   "outputs": [],
   "source": [
    "# for name, clf in zip(names, classifiers):\n",
    "#   clf = make_pipeline(StandardScaler(), clf)\n",
    "#   clf.fit(normalize(X_train), y_train)\n",
    "#   y_pred = clf.predict(normalize(X_test))\n",
    "\n",
    "#   score = accuracy_score(y_test, y_pred)\n",
    "#   conf_matrix = confusion_matrix(y_test, y_pred)\n",
    "#   disp = ConfusionMatrixDisplay(confusion_matrix=conf_matrix, display_labels=clf.classes_)\n",
    "#   disp.plot()\n",
    "#   print(\"Model: \", name, \" score: \", score)\n",
    "\n",
    "\n",
    "\n",
    "# for name, m in zip(names, classifiers):\n",
    "#   # clf = m = SVC(kernel=\"linear\", C=0.025, random_state=42, probability=True)\n",
    "#   clf = make_pipeline(StandardScaler(), m)\n",
    "#   clf.fit(normalize(X_train), y_train)\n",
    "#   y_pred = clf.predict(normalize(X_test))\n",
    "#   # y_pred_prob = clf.predict_proba(X_test)\n",
    "\n",
    "#   print(name)\n",
    "#   # print(y_pred_prob)\n",
    "\n",
    "#   score = accuracy_score(y_test, y_pred)\n",
    "#   conf_matrix = confusion_matrix(y_test, y_pred)\n",
    "#   print(conf_matrix)\n",
    "#   print(f\"Accuracy on positive samples: {conf_matrix[1][1] / (conf_matrix[1][0] + conf_matrix[1][1])}\")\n",
    "#   print(f\"Accuracy on negative samples: {conf_matrix[0][0] / (conf_matrix[0][0] + conf_matrix[0][1])}\")\n",
    "#   disp = ConfusionMatrixDisplay(confusion_matrix=conf_matrix, display_labels=clf.classes_)\n",
    "#   disp.plot()\n",
    "#   print(\"Model: \", name, \" score: \", score)\n"
   ]
  },
  {
   "cell_type": "markdown",
   "metadata": {},
   "source": [
    "## Get confidence of each prediction with `predict_proba()`"
   ]
  },
  {
   "cell_type": "code",
   "execution_count": 1109,
   "metadata": {},
   "outputs": [
    {
     "name": "stderr",
     "output_type": "stream",
     "text": [
      "/home/codespace/.python/current/lib/python3.10/site-packages/sklearn/utils/validation.py:1183: DataConversionWarning: A column-vector y was passed when a 1d array was expected. Please change the shape of y to (n_samples, ), for example using ravel().\n",
      "  y = column_or_1d(y, warn=True)\n"
     ]
    },
    {
     "name": "stdout",
     "output_type": "stream",
     "text": [
      "[[0.68753726 0.31246274]\n",
      " [0.4699898  0.5300102 ]\n",
      " [0.44082773 0.55917227]\n",
      " ...\n",
      " [0.73117009 0.26882991]\n",
      " [0.20648803 0.79351197]\n",
      " [0.47480675 0.52519325]]\n",
      "[[ 7130 12952]\n",
      " [  128   707]]\n",
      "Accuracy on positive samples: 0.8467065868263473\n",
      "Accuracy on negative samples: 0.35504431829499056\n",
      "Model:  Logistic Regression  score:  0.37467131997896447\n"
     ]
    },
    {
     "data": {
      "image/png": "[encoded data removed]",
      "text/plain": [
       "<Figure size 640x480 with 2 Axes>"
      ]
     },
     "metadata": {},
     "output_type": "display_data"
    }
   ],
   "source": [
    "from imblearn.pipeline import make_pipeline\n",
    "from imblearn.under_sampling import RandomUnderSampler\n",
    "from imblearn.over_sampling import SMOTE, ADASYN\n",
    "from imblearn.under_sampling import ClusterCentroids\n",
    "from imblearn.under_sampling import RandomUnderSampler\n",
    "from imblearn.under_sampling import NearMiss\n",
    "\n",
    "# # X_train, y_train = SMOTE().fit_resample(X_train, y_train)\n",
    "# # X_train, y_train = ADASYN().fit_resample(X_train, y_train)\n",
    "m = LogisticRegression(random_state=0)\n",
    "clf = make_pipeline(\n",
    "    # RandomUnderSampler(random_state=0),\n",
    "    # RandomOverSampler(random_state=0),\n",
    "    # ClusterCentroids(random_state=0), # good\n",
    "    # NearMiss(version=1),\n",
    "    SMOTE(), # good\n",
    "    # ADASYN(),\n",
    "    m\n",
    ")\n",
    "\n",
    "# clf = m = SVC(kernel=\"linear\", C=0.025, random_state=42, probability=True)\n",
    "# clf = make_pipeline(StandardScaler(), clf)\n",
    "clf.fit(normalize(X_train), y_train)\n",
    "y_pred = clf.predict(normalize(X_test))\n",
    "y_pred_prob = clf.predict_proba(normalize(X_test))\n",
    "\n",
    "print(y_pred_prob)\n",
    "\n",
    "# skew results\n",
    "for i in range(len(y_pred)):\n",
    "  if y_pred[i] == 0 and y_pred_prob[i][0] <= 0.62:\n",
    "    y_pred[i] = 1\n",
    "\n",
    "score = accuracy_score(y_test, y_pred)\n",
    "conf_matrix = confusion_matrix(y_test, y_pred)\n",
    "print(conf_matrix)\n",
    "print(f\"Accuracy on positive samples: {conf_matrix[1][1] / (conf_matrix[1][0] + conf_matrix[1][1])}\")\n",
    "print(f\"Accuracy on negative samples: {conf_matrix[0][0] / (conf_matrix[0][0] + conf_matrix[0][1])}\")\n",
    "disp = ConfusionMatrixDisplay(confusion_matrix=conf_matrix, display_labels=clf.classes_)\n",
    "disp.plot()\n",
    "print(\"Model: \", \"Logistic Regression\", \" score: \", score)\n"
   ]
  },
  {
   "cell_type": "markdown",
   "metadata": {},
   "source": [
    "## Rank features used "
   ]
  },
  {
   "cell_type": "code",
   "execution_count": 1110,
   "metadata": {},
   "outputs": [
    {
     "name": "stdout",
     "output_type": "stream",
     "text": [
      "[('pkyr', 10.722806366531161), ('smokeyr', 10.654958757065588), ('smokeday', -8.708865584170281), ('weight', 7.7625831653103505), ('smokeage', 3.0973958694610215), ('age', 3.05755339674893), ('gender', -3.021714076086089), ('race', -2.935098462221484), ('ethnic', 2.9133778383364164), ('height', -1.156915223532337), ('cigsmok', 0.9752979583366691), ('smokework', 0.9373816450776489), ('smokelive', -0.8868359382213625), ('wrkchem', 0.7488955380469722), ('wrkflou', 0.4929205439605467), ('wrkweld', 0.46521553511525104), ('wrkfire', 0.45678446976943365), ('wrkfarm', 0.45390005597656086), ('educat', 0.44888830775860444), ('wrkfoun', 0.4357522512955507), ('pipe', 0.42109203044465565), ('cigar', -0.3010412776781395), ('wrkbutc', -0.17980712357552178), ('wrkpain', 0.1610558563675861), ('wrkbaki', -0.14152580131428585), ('wrksand', 0.1130431517095637), ('wrkasbe', 0.10441314387854062), ('wrkhard', -0.08861299099495618), ('wrkcoal', 0.045312643819883196), ('wrkcott', 0.010092943423134056)]\n"
     ]
    }
   ],
   "source": [
    "# Create lists of feature names and coefficients\n",
    "column_labels = X_train.columns.tolist()\n",
    "coef = m.coef_.squeeze().tolist()\n",
    "\n",
    "# Zip together\n",
    "labels_coef = list(zip(column_labels, coef))\n",
    "# Order by most significant features (positive or negative)\n",
    "feature_ranks = sorted(labels_coef, key=lambda x: abs(x[1]), reverse=True)\n",
    "\n",
    "print(feature_ranks)\n"
   ]
  },
  {
   "cell_type": "markdown",
   "metadata": {},
   "source": [
    "## Compare compare the probabilities of false positives and false negatives to true positives and true negatives"
   ]
  },
  {
   "cell_type": "code",
   "execution_count": 1111,
   "metadata": {},
   "outputs": [],
   "source": [
    "true_negative_probs = []\n",
    "false_negative_probs = []\n",
    "true_positive_probs = []\n",
    "false_positive_probs = []\n",
    "\n",
    "y_pred_list = y_pred.tolist()\n",
    "y_pred_prob_list = y_pred_prob.tolist()\n",
    "y_test_list = y_test['lung_cancer'].tolist()\n",
    "\n",
    "for i in range(len(y_test)):\n",
    "  # true negative\n",
    "  if y_pred_list[i] == 0 and y_test_list[i] == 0:\n",
    "    true_negative_probs.append(y_pred_prob_list[i][0])\n",
    "  # false negative\n",
    "  elif y_pred_list[i] == 0 and y_test_list[i] == 1:\n",
    "    false_negative_probs.append(y_pred_prob_list[i][0])\n",
    "  # true positive\n",
    "  elif y_pred_list[i] == 1 and y_test_list[i] == 1:\n",
    "    true_positive_probs.append(y_pred_prob_list[i][1])\n",
    "  # false positive\n",
    "  else:\n",
    "    false_positive_probs.append(y_pred_prob_list[i][1])\n"
   ]
  },
  {
   "cell_type": "markdown",
   "metadata": {},
   "source": [
    "## Plot the confidence intervals that led to the different predictions. "
   ]
  },
  {
   "cell_type": "code",
   "execution_count": 1112,
   "metadata": {},
   "outputs": [
    {
     "data": {
      "image/png": "[encoded data removed]",
      "text/plain": [
       "<Figure size 640x480 with 1 Axes>"
      ]
     },
     "metadata": {},
     "output_type": "display_data"
    }
   ],
   "source": [
    "data = {'false negative': false_negative_probs,\n",
    "               'true negative': true_negative_probs,\n",
    "               'false positive': false_positive_probs,\n",
    "               'true positive': true_positive_probs,\n",
    "              }\n",
    "cols = ['false negative', 'true negative', 'false positive', 'true positive']\n",
    "\n",
    "df = pd.DataFrame.from_dict(\n",
    "    data=dict(data),\n",
    "    orient='index',\n",
    ").T\n",
    "\n",
    "fig, ax = plt.subplots()\n",
    "\n",
    "ax = sns.stripplot(data=df)\n",
    "ax.set_ylim(0, 1)\n",
    "\n",
    "plt.show()\n"
   ]
  },
  {
   "cell_type": "code",
   "execution_count": 1113,
   "metadata": {},
   "outputs": [
    {
     "name": "stderr",
     "output_type": "stream",
     "text": [
      "/home/codespace/.python/current/lib/python3.10/site-packages/sklearn/neighbors/_classification.py:233: DataConversionWarning: A column-vector y was passed when a 1d array was expected. Please change the shape of y to (n_samples,), for example using ravel().\n",
      "  return self._fit(X, y)\n"
     ]
    },
    {
     "name": "stdout",
     "output_type": "stream",
     "text": [
      "Model:  KNN  score:  0.5675288043218435\n"
     ]
    },
    {
     "data": {
      "image/png": "[encoded data removed]",
      "text/plain": [
       "<Figure size 640x480 with 2 Axes>"
      ]
     },
     "metadata": {},
     "output_type": "display_data"
    }
   ],
   "source": [
    "from imblearn.pipeline import make_pipeline\n",
    "from imblearn.under_sampling import RandomUnderSampler\n",
    "from imblearn.over_sampling import SMOTE, ADASYN\n",
    "from imblearn.under_sampling import ClusterCentroids\n",
    "from imblearn.under_sampling import RandomUnderSampler\n",
    "from imblearn.under_sampling import NearMiss\n",
    "\n",
    "m = KNeighborsClassifier(3)\n",
    "clf = make_pipeline(\n",
    "    RandomUnderSampler(random_state=0),\n",
    "    # ClusterCentroids(random_state=0), # good\n",
    "    # NearMiss(version=1),\n",
    "    # SMOTE(), # good\n",
    "    # ADASYN(),\n",
    "    m\n",
    ")\n",
    "# clf = make_pipeline(StandardScaler(), clf)\n",
    "clf.fit(normalize(X_train), y_train)\n",
    "y_pred = clf.predict(normalize(X_test))\n",
    "y_pred_prob = clf.predict_proba(normalize(X_test))\n",
    "\n",
    "score = accuracy_score(y_test, y_pred)\n",
    "conf_matrix = confusion_matrix(y_test, y_pred)\n",
    "disp = ConfusionMatrixDisplay(confusion_matrix=conf_matrix, display_labels=clf.classes_)\n",
    "disp.plot()\n",
    "print(\"Model: \", \"KNN\", \" score: \", score)\n",
    "\n",
    "# # Fit logistic regression model\n",
    "# model2 = KNeighborsClassifier(3)\n",
    "# model2.fit(X_train, y_train)\n",
    "\n",
    "# # Get confidence intervals for each prediction\n",
    "# y_pred_prob = model2.predict_proba(X_test)\n",
    "# # Get predicted values\n",
    "# y_pred = model2.predict(normalize(X_test))\n",
    "\n",
    "# # Get prediction accuracy\n",
    "# score = accuracy_score(y_test, y_pred)\n",
    "# # Get breakdown of false/true positives and false/true negatives\n",
    "# conf_matrix = confusion_matrix(y_test, y_pred)\n",
    "\n",
    "# # Display results\n",
    "# disp = ConfusionMatrixDisplay(confusion_matrix=conf_matrix, display_labels=clf.classes_)\n",
    "# disp.plot()\n",
    "# print(\"Model: \", \"KNN\", \" score: \", score)\n"
   ]
  },
  {
   "cell_type": "code",
   "execution_count": 1114,
   "metadata": {},
   "outputs": [
    {
     "name": "stderr",
     "output_type": "stream",
     "text": [
      "/home/codespace/.python/current/lib/python3.10/site-packages/sklearn/base.py:1152: DataConversionWarning: A column-vector y was passed when a 1d array was expected. Please change the shape of y to (n_samples,), for example using ravel().\n",
      "  return fit_method(estimator, *args, **kwargs)\n"
     ]
    },
    {
     "name": "stdout",
     "output_type": "stream",
     "text": [
      "Model:  Random Forest  score:  0.6151455753693168\n"
     ]
    },
    {
     "data": {
      "image/png": "[encoded data removed]",
      "text/plain": [
       "<Figure size 640x480 with 2 Axes>"
      ]
     },
     "metadata": {},
     "output_type": "display_data"
    }
   ],
   "source": [
    "m = RandomForestClassifier()\n",
    "clf = make_pipeline(\n",
    "    RandomUnderSampler(random_state=0),\n",
    "    # ClusterCentroids(random_state=0), # good\n",
    "    # NearMiss(version=1),\n",
    "    # SMOTE(), # good\n",
    "    # ADASYN(),\n",
    "    m\n",
    ")\n",
    "# clf = make_pipeline(StandardScaler(), clf)\n",
    "clf.fit(normalize(X_train), y_train)\n",
    "y_pred = clf.predict(normalize(X_test))\n",
    "y_pred_prob = clf.predict_proba(normalize(X_test))\n",
    "\n",
    "score = accuracy_score(y_test, y_pred)\n",
    "conf_matrix = confusion_matrix(y_test, y_pred)\n",
    "disp = ConfusionMatrixDisplay(confusion_matrix=conf_matrix, display_labels=clf.classes_)\n",
    "disp.plot()\n",
    "print(\"Model: \", \"Random Forest\", \" score: \", score)\n"
   ]
  },
  {
   "cell_type": "code",
   "execution_count": 1115,
   "metadata": {},
   "outputs": [
    {
     "name": "stdout",
     "output_type": "stream",
     "text": [
      "[('smokeyr', 0.10083191668679027), ('pkyr', 0.08323868517569455), ('weight', 0.07876945798253945), ('educat', 0.06912541744492737), ('age', 0.06900926605674676), ('smokeage', 0.06823773359231028), ('smokeday', 0.06416241388639317), ('height', 0.05969494001588284), ('race', 0.056672247501494924), ('ethnic', 0.0564367164159113), ('gender', 0.05500213007019787), ('smokelive', 0.05104865402265559), ('smokework', 0.04856159131674845), ('cigsmok', 0.03927260698938432), ('pipe', 0.020408685758947557), ('cigar', 0.01763328190727488), ('wrkfarm', 0.011221743519206007), ('wrkchem', 0.008834989756647553), ('wrkpain', 0.007904857613027685), ('wrkweld', 0.005950852847132775), ('wrkasbe', 0.005818919919012558), ('wrkfoun', 0.004519397472528895), ('wrkbutc', 0.0044590201657580455), ('wrkbaki', 0.004237518988515114), ('wrkfire', 0.0030777987172130763), ('wrkflou', 0.002055058754910822), ('wrksand', 0.0017928360595488922), ('wrkcott', 0.0008384074661047392), ('wrkcoal', 0.0007428863191498167), ('wrkhard', 0.00043996757734425334)]\n"
     ]
    }
   ],
   "source": [
    "# Create lists of feature names and coefficients\n",
    "column_labels = X_train.columns.tolist()\n",
    "coef = m.feature_importances_\n",
    "\n",
    "# Zip together\n",
    "labels_coef = list(zip(column_labels, coef))\n",
    "# Order by most significant features (positive or negative)\n",
    "feature_ranks = sorted(labels_coef, key=lambda x: abs(x[1]), reverse=True)\n",
    "\n",
    "print(feature_ranks)\n"
   ]
  },
  {
   "cell_type": "code",
   "execution_count": 1116,
   "metadata": {},
   "outputs": [],
   "source": [
    "true_negative_probs = []\n",
    "false_negative_probs = []\n",
    "true_positive_probs = []\n",
    "false_positive_probs = []\n",
    "\n",
    "y_pred_list = y_pred.tolist()\n",
    "y_pred_prob_list = y_pred_prob.tolist()\n",
    "y_test_list = y_test['lung_cancer'].tolist()\n",
    "\n",
    "for i in range(len(y_test)):\n",
    "  # true negative\n",
    "  if y_pred_list[i] == 0 and y_test_list[i] == 0:\n",
    "    true_negative_probs.append(y_pred_prob_list[i][0])\n",
    "  # false negative\n",
    "  elif y_pred_list[i] == 0 and y_test_list[i] == 1:\n",
    "    false_negative_probs.append(y_pred_prob_list[i][0])\n",
    "  # true positive\n",
    "  elif y_pred_list[i] == 1 and y_test_list[i] == 1:\n",
    "    true_positive_probs.append(y_pred_prob_list[i][1])\n",
    "  # false positive\n",
    "  else:\n",
    "    false_positive_probs.append(y_pred_prob_list[i][1])\n"
   ]
  },
  {
   "cell_type": "code",
   "execution_count": 1117,
   "metadata": {},
   "outputs": [
    {
     "data": {
      "image/png": "[encoded data removed]",
      "text/plain": [
       "<Figure size 640x480 with 1 Axes>"
      ]
     },
     "metadata": {},
     "output_type": "display_data"
    }
   ],
   "source": [
    "data = {'false negative': false_negative_probs,\n",
    "               'true negative': true_negative_probs,\n",
    "               'false positive': false_positive_probs,\n",
    "               'true positive': true_positive_probs,\n",
    "              }\n",
    "cols = ['false negative', 'true negative', 'false positive', 'true positive']\n",
    "\n",
    "df = pd.DataFrame.from_dict(\n",
    "    data=dict(data),\n",
    "    orient='index',\n",
    ").T\n",
    "\n",
    "fig, ax = plt.subplots()\n",
    "\n",
    "ax = sns.stripplot(data=df)\n",
    "ax.set_ylim(0, 1)\n",
    "\n",
    "plt.show()\n"
   ]
  },
  {
   "cell_type": "code",
   "execution_count": 1118,
   "metadata": {},
   "outputs": [],
   "source": [
    "# from sklearn.model_selection import cross_val_score\n",
    "# scores = cross_val_score(clf, X, y, cv=10)\n",
    "# print(scores)\n"
   ]
  },
  {
   "cell_type": "code",
   "execution_count": null,
   "metadata": {},
   "outputs": [],
   "source": []
  },
  {
   "cell_type": "code",
   "execution_count": 1119,
   "metadata": {},
   "outputs": [],
   "source": [
    "# from sklearn.svm import OneClassSVM\n",
    "\n",
    "# clf = OneClassSVM(gamma='auto').fit(X_train)\n",
    "\n",
    "# output = clf.predict(X_train)\n",
    "\n",
    "# print()\n"
   ]
  },
  {
   "cell_type": "code",
   "execution_count": 1120,
   "metadata": {},
   "outputs": [],
   "source": [
    "# print(output)\n",
    "\n",
    "# print(len(output))\n",
    "# print(len(y_train))\n",
    "\n",
    "# print(y_train)\n",
    "\n",
    "# false_pos = 0\n",
    "# false_neg = 0\n",
    "# true_pos = 0\n",
    "# true_neg = 0\n",
    "\n",
    "# for i in range(len(output)):\n",
    "#   if output[i] == 1 and y_train.iloc[i]['lung_cancer'] == 0:\n",
    "#     true_neg += 1\n",
    "#   elif output[i] == 1 and y_train.iloc[i]['lung_cancer'] == 1:\n",
    "#     false_neg += 1\n",
    "#   elif output[i] == -1 and y_train.iloc[i]['lung_cancer'] == 0:\n",
    "#     false_pos += 1\n",
    "#   else:\n",
    "#     true_pos += 1\n",
    "\n",
    "# print(\"false_pos: \", false_pos, \" true_pos \", true_pos, \" false_neg \", false_neg, \" true_neg \", true_neg)\n"
   ]
  },
  {
   "cell_type": "code",
   "execution_count": 1121,
   "metadata": {},
   "outputs": [],
   "source": [
    "# scores = clf.score_samples(X_train)\n"
   ]
  },
  {
   "cell_type": "code",
   "execution_count": 1122,
   "metadata": {},
   "outputs": [],
   "source": [
    "# print(sorted(scores, reverse=True))\n",
    "\n",
    "# new_output = output[:]\n",
    "\n",
    "# for i in range(len(new_output)):\n",
    "#   if scores[i] < 2 and new_output[i] == -1:\n",
    "#     new_output[i] = 1\n",
    "#   elif scores[i] >= 2 and new_output[i] == 1:\n",
    "#     new_output[i] = -1\n",
    "\n",
    "# false_pos = 0\n",
    "# false_neg = 0\n",
    "# true_pos = 0\n",
    "# true_neg = 0\n",
    "\n",
    "# for i in range(len(output)):\n",
    "#   if new_output[i] == 1 and y_train.iloc[i]['lung_cancer'] == 0:\n",
    "#     true_neg += 1\n",
    "#   elif new_output[i] == 1 and y_train.iloc[i]['lung_cancer'] == 1:\n",
    "#     false_neg += 1\n",
    "#   elif new_output[i] == -1 and y_train.iloc[i]['lung_cancer'] == 0:\n",
    "#     false_pos += 1\n",
    "#   else:\n",
    "#     true_pos += 1\n",
    "\n",
    "# print(\"false_pos: \", false_pos, \" true_pos \", true_pos, \" false_neg \", false_neg, \" true_neg \", true_neg)\n"
   ]
  }
 ],
 "metadata": {
  "kernelspec": {
   "display_name": "Python 3 (ipykernel)",
   "language": "python",
   "name": "python3"
  },
  "language_info": {
   "codemirror_mode": {
    "name": "ipython",
    "version": 3
   },
   "file_extension": ".py",
   "mimetype": "text/x-python",
   "name": "python",
   "nbconvert_exporter": "python",
   "pygments_lexer": "ipython3",
   "version": "3.10.13"
  }
 },
 "nbformat": 4,
 "nbformat_minor": 2
}
