{
 "cells": [
  {
   "cell_type": "markdown",
   "metadata": {},
   "source": [
    "# Risk Factor Clinical Classifier\n",
    "\n",
    "This classifier takes patient answers to the Lung Space clinical survey and predicts the chance of cancer."
   ]
  },
  {
   "cell_type": "code",
   "execution_count": 5,
   "metadata": {},
   "outputs": [
    {
     "name": "stdout",
     "output_type": "stream",
     "text": [
      "positive:  2058  negative:  51394\n"
     ]
    },
    {
     "name": "stderr",
     "output_type": "stream",
     "text": [
      "/tmp/ipykernel_10406/3809338938.py:7: DtypeWarning: Columns (239,240,348) have mixed types. Specify dtype option on import or set low_memory=False.\n",
      "  df = pd.read_csv('../data/lungspace/package-nlst-1193.2024-02-20/participant_d040722.csv')\n"
     ]
    }
   ],
   "source": [
    "import numpy as np\n",
    "import pandas as pd\n",
    "from sklearn import tree\n",
    "from sklearn.linear_model import LogisticRegression\n",
    "from sklearn.neighbors import KNeighborsClassifier\n",
    "\n",
    "df = pd.read_csv('../data/lungspace/package-nlst-1193.2024-02-20/participant_d040722.csv')\n",
    "\n",
    "# Breakdown of positive and negative sample size\n",
    "print(\"positive: \", len(df['lung_cancer'].loc[df['lung_cancer'] == 1].to_list()), \" negative: \", len(df['lung_cancer'].loc[df['lung_cancer'] == 0].to_list()))\n"
   ]
  },
  {
   "cell_type": "code",
   "execution_count": 6,
   "metadata": {},
   "outputs": [
    {
     "name": "stdout",
     "output_type": "stream",
     "text": [
      "['cen', 'dataset_version', 'elig', 'ineligible', 'pid', 'rndgroup', 'study', 'age', 'educat', 'ethnic', 'gender', 'has_bq', 'height', 'marital', 'race', 'weight', 'age_quit', 'cigar', 'cigsmok', 'pipe', 'pkyr', 'smokeage', 'smokeday', 'smokelive', 'smokework', 'smokeyr', 'last_screen_studyyr', 'num_screens', 'scr_days0', 'scr_days1', 'scr_days2', 'scr_group', 'scr_iso0', 'scr_iso1', 'scr_iso2', 'scr_lat0', 'scr_lat1', 'scr_lat2', 'scr_res0', 'scr_res1', 'scr_res2', 'biop0', 'biop1', 'biop2', 'bioplc', 'invas0', 'invas1', 'invas2', 'invaslc', 'medcomp0', 'medcomp1', 'medcomp2', 'medcomplc', 'mra_stat0', 'mra_stat1', 'mra_stat2', 'no_proc_reas0', 'no_proc_reas1', 'no_proc_reas2', 'proc0', 'proc1', 'proc2', 'proclc', 'can_scr', 'canc_free_days', 'canc_rpt_link', 'canc_rpt_source', 'cancyr', 'candx_days', 'conflc', 'de_grade', 'de_stag', 'de_stag_7thed', 'de_type', 'histology_cat', 'lesionsize', 'loccar', 'loclhil', 'loclin', 'locllow', 'loclmsb', 'loclup', 'locmed', 'locoth', 'locrhil', 'locrlow', 'locrmid', 'locrmsb', 'locrup', 'locunk', 'lung_cancer', 'treatlc', 'death_days_2015', 'deathicd_2015', 'finaldeathlc_2015', 'is_dead_2015', 'mortality_exitdays_2015', 'mortality_exitstat_2015', 'resasbe', 'resbaki', 'resbutc', 'reschem', 'rescoal', 'rescott', 'resfarm', 'resfire', 'resflou', 'resfoun', 'reshard', 'respain', 'ressand', 'resweld', 'wrkasbe', 'wrkbaki', 'wrkbutc', 'wrkchem', 'wrkcoal', 'wrkcott', 'wrkfarm', 'wrkfire', 'wrkflou', 'wrkfoun', 'wrkhard', 'wrkpain', 'wrksand', 'wrkweld', 'yrsasbe', 'yrsbaki', 'yrsbutc', 'yrschem', 'yrscoal', 'yrscott', 'yrsfarm', 'yrsfire', 'yrsflou', 'yrsfoun', 'yrshard', 'yrspain', 'yrssand', 'yrsweld', 'ageadas', 'ageasbe', 'agebron', 'agechas', 'agechro', 'agecopd', 'agediab', 'ageemph', 'agefibr', 'agehear', 'agehype', 'agepneu', 'agesarc', 'agesili', 'agestro', 'agetube', 'diagadas', 'diagasbe', 'diagbron', 'diagchas', 'diagchro', 'diagcopd', 'diagdiab', 'diagemph', 'diagfibr', 'diaghear', 'diaghype', 'diagpneu', 'diagsarc', 'diagsili', 'diagstro', 'diagtube', 'ageblad', 'agebrea', 'agecerv', 'agecolo', 'ageesop', 'agekidn', 'agelary', 'agelung', 'agenasa', 'ageoral', 'agepanc', 'agephar', 'agestom', 'agethyr', 'agetran', 'cancblad', 'cancbrea', 'canccerv', 'canccolo', 'cancesop', 'canckidn', 'canclary', 'canclung', 'cancnasa', 'cancoral', 'cancpanc', 'cancphar', 'cancstom', 'cancthyr', 'canctran', 'fambrother', 'famchild', 'famfather', 'fammother', 'famsister', 'acrin_alc_curr', 'acrin_alc_ever', 'acrin_drink24hr', 'acrin_drinknum_curr', 'acrin_drinknum_form', 'acrin_drinkyrs_curr', 'acrin_drinkyrs_form', 'acrin_lastdrink', 'lss_alcohol_freq', 'lss_alcohol_num', 'confirmed_candxdays1', 'confirmed_candxdays2', 'confirmed_candxdays3', 'confirmed_candxdays4', 'confirmed_conforder1', 'confirmed_conforder2', 'confirmed_conforder3', 'confirmed_conforder4', 'confirmed_icd_behav1', 'confirmed_icd_behav2', 'confirmed_icd_behav3', 'confirmed_icd_behav4', 'confirmed_icd_grade1', 'confirmed_icd_grade2', 'confirmed_icd_grade3', 'confirmed_icd_grade4', 'confirmed_icd_morph1', 'confirmed_icd_morph2', 'confirmed_icd_morph3', 'confirmed_icd_morph4', 'confirmed_icd_topog1', 'confirmed_icd_topog2', 'confirmed_icd_topog3', 'confirmed_icd_topog4', 'confirmed_seer1', 'confirmed_seer2', 'confirmed_seer3', 'confirmed_seer4', 'confirmed_seercat1', 'confirmed_seercat2', 'confirmed_seercat3', 'confirmed_seercat4', 'num_confirmed', 'anyscr_has_nodule', 'last_progfree_days', 'prog_days_1st', 'prog_days_2nd', 'prog_days_3rd', 'prog_days_4th', 'prog_days_5th', 'progressed_ever', 'progression_num', 'progsite_adrenal_1st', 'progsite_adrenal_days', 'progsite_adrenal_ever', 'progsite_adrenal_num', 'progsite_bone_1st', 'progsite_bone_days', 'progsite_bone_ever', 'progsite_bone_num', 'progsite_brain_1st', 'progsite_brain_days', 'progsite_brain_ever', 'progsite_brain_num', 'progsite_liver_1st', 'progsite_liver_days', 'progsite_liver_ever', 'progsite_liver_num', 'progsite_lymph_n1_1st', 'progsite_lymph_n1_days', 'progsite_lymph_n1_ever', 'progsite_lymph_n1_num', 'progsite_lymph_n2_1st', 'progsite_lymph_n2_days', 'progsite_lymph_n2_ever', 'progsite_lymph_n2_num', 'progsite_lymph_n3_1st', 'progsite_lymph_n3_days', 'progsite_lymph_n3_ever', 'progsite_lymph_n3_num', 'progsite_mediastinum_1st', 'progsite_mediastinum_days', 'progsite_mediastinum_ever', 'progsite_mediastinum_num', 'progsite_orig_lung_1st', 'progsite_orig_lung_days', 'progsite_orig_lung_ever', 'progsite_orig_lung_num', 'progsite_other_1st', 'progsite_other_days', 'progsite_other_ever', 'progsite_other_lung_1st', 'progsite_other_lung_days', 'progsite_other_lung_ever', 'progsite_other_lung_num', 'progsite_other_num', 'progsite_pleura_1st', 'progsite_pleura_days', 'progsite_pleura_ever', 'progsite_pleura_num', 'progsite_skin_1st', 'progsite_skin_days', 'progsite_skin_ever', 'progsite_skin_num', 'progsite_unk_1st', 'progsite_unk_days', 'progsite_unk_ever', 'progsite_unk_num', 'all_sct_batch', 'all_sct_set', 'has_axial0', 'has_axial1', 'has_axial2', 'has_axial_any', 'num_axial_series0', 'num_axial_series1', 'num_axial_series2', 'num_image_series0', 'num_image_series1', 'num_image_series2', 'num_localizer_series0', 'num_localizer_series1', 'num_localizer_series2', 'scr_group_2021', 'sct_axial_years', 'selected_lc_pop', 'selected_lc_pop_batch', 'selected_lc_pop_set', 'selected_path', 'selected_path_batch', 'selected_path_image_count', 'contactstatus', 'fup_days', 'wdlost', 'dcfdeathlc', 'dcficd', 'death_days', 'deathcutoff', 'deathstat', 'finaldeathlc', 'hasdcf', 'ndicd', 'evp_revr', 'evpcert', 'evpdeath', 'evpdirect', 'evpincomplete', 'evpsel', 'evpsent']\n"
     ]
    }
   ],
   "source": [
    "# List of features\n",
    "print(df.columns.to_list())\n"
   ]
  },
  {
   "cell_type": "code",
   "execution_count": 12,
   "metadata": {},
   "outputs": [
    {
     "name": "stdout",
     "output_type": "stream",
     "text": [
      "       age  weight  height  cigar  cigsmok  pipe    pkyr  smokeage  smokeday  \\\n",
      "32200   63   138.0    62.0    0.0        1   0.0   43.00      18.0        20   \n",
      "40273   63   265.0    75.0    1.0        0   1.0   71.75      10.0        35   \n",
      "36492   70   127.0    67.0    1.0        1   1.0   43.00      27.0        20   \n",
      "21588   55   210.0    66.0    0.0        0   0.0   33.00      20.0        20   \n",
      "10580   58   145.0    67.0    1.0        0   1.0   37.50      20.0        25   \n",
      "...    ...     ...     ...    ...      ...   ...     ...       ...       ...   \n",
      "11284   61   170.0    69.0    1.0        1   0.0   69.00      15.0        30   \n",
      "44732   61   173.0    67.0    1.0        1   1.0   33.00      17.0        15   \n",
      "38158   58   172.0    67.0    1.0        1   1.0   87.50      18.0        50   \n",
      "860     67   170.0    74.0    1.0        0   1.0  117.50      13.0        50   \n",
      "15795   56   168.0    64.0    0.0        0   1.0   54.00      19.0        40   \n",
      "\n",
      "       smokelive  smokework  smokeyr  last_screen_studyyr  num_screens  \n",
      "32200        1.0        1.0       43                  2.0            3  \n",
      "40273        1.0        1.0       41                  2.0            3  \n",
      "36492        1.0        1.0       43                  2.0            3  \n",
      "21588        1.0        1.0       33                  2.0            3  \n",
      "10580        0.0        1.0       30                  1.0            2  \n",
      "...          ...        ...      ...                  ...          ...  \n",
      "11284        0.0        1.0       46                  2.0            3  \n",
      "44732        1.0        1.0       44                  2.0            3  \n",
      "38158        1.0        1.0       35                  2.0            3  \n",
      "860          1.0        1.0       47                  NaN            0  \n",
      "15795        0.0        1.0       27                  0.0            1  \n",
      "\n",
      "[32071 rows x 14 columns]\n",
      "       age  weight  height  cigar  cigsmok  pipe  pkyr  smokeage  smokeday  \\\n",
      "5627    55   165.0    64.0    1.0        1   1.0  76.0      17.0        40   \n",
      "30909   62   150.0    66.0    0.0        1   0.0  48.0      14.0        20   \n",
      "9068    70   103.0    60.0    0.0        0   0.0  46.0      16.0        20   \n",
      "39717   70   200.0    71.0    1.0        1   0.0  90.0      25.0        40   \n",
      "35916   60   220.0    66.0    0.0        1   0.0  40.0      19.0        20   \n",
      "...    ...     ...     ...    ...      ...   ...   ...       ...       ...   \n",
      "1455    55   179.0    62.0    0.0        0   0.0  30.0      14.0        20   \n",
      "49863   68   197.0    65.0    0.0        0   0.0  38.0      19.0        20   \n",
      "48547   62   230.0    72.0    0.0        1   0.0  47.0      15.0        20   \n",
      "29396   57   200.0    72.0    0.0        1   0.0  42.0      15.0        20   \n",
      "34197   55   137.0    66.0    0.0        1   0.0  37.0      18.0        20   \n",
      "\n",
      "       smokelive  smokework  smokeyr  last_screen_studyyr  num_screens  \n",
      "5627         1.0        1.0       38                  2.0            3  \n",
      "30909        1.0        1.0       48                  2.0            3  \n",
      "9068         1.0        1.0       46                  2.0            3  \n",
      "39717        1.0        1.0       45                  2.0            3  \n",
      "35916        1.0        1.0       40                  2.0            3  \n",
      "...          ...        ...      ...                  ...          ...  \n",
      "1455         1.0        1.0       30                  2.0            3  \n",
      "49863        0.0        1.0       38                  2.0            3  \n",
      "48547        1.0        1.0       47                  2.0            3  \n",
      "29396        1.0        1.0       42                  2.0            3  \n",
      "34197        1.0        1.0       37                  2.0            3  \n",
      "\n",
      "[21381 rows x 14 columns]\n",
      "       lung_cancer\n",
      "32200            0\n",
      "40273            0\n",
      "36492            0\n",
      "21588            0\n",
      "10580            0\n",
      "...            ...\n",
      "11284            0\n",
      "44732            0\n",
      "38158            0\n",
      "860              0\n",
      "15795            0\n",
      "\n",
      "[32071 rows x 1 columns]\n",
      "       lung_cancer\n",
      "5627             0\n",
      "30909            0\n",
      "9068             0\n",
      "39717            0\n",
      "35916            0\n",
      "...            ...\n",
      "1455             0\n",
      "49863            0\n",
      "48547            0\n",
      "29396            0\n",
      "34197            0\n",
      "\n",
      "[21381 rows x 1 columns]\n"
     ]
    }
   ],
   "source": [
    "import matplotlib.pyplot as plt\n",
    "import numpy as np\n",
    "from matplotlib.colors import ListedColormap\n",
    "\n",
    "from sklearn.datasets import make_circles, make_classification, make_moons\n",
    "from sklearn.discriminant_analysis import QuadraticDiscriminantAnalysis\n",
    "from sklearn.ensemble import AdaBoostClassifier, RandomForestClassifier\n",
    "from sklearn.gaussian_process import GaussianProcessClassifier\n",
    "from sklearn.gaussian_process.kernels import RBF\n",
    "from sklearn.inspection import DecisionBoundaryDisplay\n",
    "from sklearn.model_selection import train_test_split\n",
    "from sklearn.naive_bayes import GaussianNB\n",
    "from sklearn.neighbors import KNeighborsClassifier\n",
    "from sklearn.neural_network import MLPClassifier\n",
    "from sklearn.pipeline import make_pipeline\n",
    "from sklearn.preprocessing import StandardScaler\n",
    "from sklearn.svm import SVC\n",
    "from sklearn.tree import DecisionTreeClassifier\n",
    "\n",
    "names = [\n",
    "    \"Nearest Neighbors\",\n",
    "    \"Linear SVM\",\n",
    "    \"RBF SVM\",\n",
    "    \"Gaussian Process\",\n",
    "    \"Decision Tree\",\n",
    "    \"Random Forest\",\n",
    "    \"Neural Net\",\n",
    "    \"AdaBoost\",\n",
    "    \"Naive Bayes\",\n",
    "    \"QDA\",\n",
    "]\n",
    "\n",
    "classifiers = [\n",
    "    KNeighborsClassifier(3),\n",
    "    SVC(kernel=\"linear\", C=0.025, random_state=42),\n",
    "    SVC(gamma=2, C=1, random_state=42),\n",
    "    GaussianProcessClassifier(1.0 * RBF(1.0), random_state=42),\n",
    "    DecisionTreeClassifier(max_depth=5, random_state=42),\n",
    "    RandomForestClassifier(\n",
    "        max_depth=5, n_estimators=10, max_features=1, random_state=42\n",
    "    ),\n",
    "    MLPClassifier(alpha=1, max_iter=1000, random_state=42),\n",
    "    AdaBoostClassifier(algorithm=\"SAMME\", random_state=42),\n",
    "    GaussianNB(),\n",
    "    QuadraticDiscriminantAnalysis(),\n",
    "]\n",
    "\n",
    "df = df[['age', 'weight', 'height', \"cigar\",\"cigsmok\",\"pipe\",\"pkyr\",\"smokeage\",\"smokeday\",\"smokelive\",\"smokework\",\"smokeyr\",\"last_screen_studyyr\",\"num_screens\", \"lung_cancer\"]]\n",
    "df.dropna()\n",
    "\n",
    "X = df[['age', 'weight', 'height', \"cigar\",\"cigsmok\",\"pipe\",\"pkyr\",\"smokeage\",\"smokeday\",\"smokelive\",\"smokework\",\"smokeyr\",\"last_screen_studyyr\",\"num_screens\"]]\n",
    "y = df[['lung_cancer']]\n",
    "\n",
    "X_train, X_test, y_train, y_test = train_test_split(\n",
    "    X, y, test_size=0.4, random_state=42\n",
    ")\n",
    "\n",
    "print(X_train)\n",
    "print(X_test)\n",
    "print(y_train)\n",
    "print(y_test)\n"
   ]
  },
  {
   "cell_type": "code",
   "execution_count": 14,
   "metadata": {},
   "outputs": [
    {
     "ename": "InvalidIndexError",
     "evalue": "(slice(None, None, None), 0)",
     "output_type": "error",
     "traceback": [
      "\u001b[0;31m---------------------------------------------------------------------------\u001b[0m",
      "\u001b[0;31mTypeError\u001b[0m                                 Traceback (most recent call last)",
      "File \u001b[0;32m~/.local/lib/python3.10/site-packages/pandas/core/indexes/base.py:3802\u001b[0m, in \u001b[0;36mIndex.get_loc\u001b[0;34m(self, key)\u001b[0m\n\u001b[1;32m   3801\u001b[0m \u001b[39mtry\u001b[39;00m:\n\u001b[0;32m-> 3802\u001b[0m     \u001b[39mreturn\u001b[39;00m \u001b[39mself\u001b[39;49m\u001b[39m.\u001b[39;49m_engine\u001b[39m.\u001b[39;49mget_loc(casted_key)\n\u001b[1;32m   3803\u001b[0m \u001b[39mexcept\u001b[39;00m \u001b[39mKeyError\u001b[39;00m \u001b[39mas\u001b[39;00m err:\n",
      "File \u001b[0;32mindex.pyx:153\u001b[0m, in \u001b[0;36mpandas._libs.index.IndexEngine.get_loc\u001b[0;34m()\u001b[0m\n",
      "File \u001b[0;32mindex.pyx:159\u001b[0m, in \u001b[0;36mpandas._libs.index.IndexEngine.get_loc\u001b[0;34m()\u001b[0m\n",
      "\u001b[0;31mTypeError\u001b[0m: '(slice(None, None, None), 0)' is an invalid key",
      "\nDuring handling of the above exception, another exception occurred:\n",
      "\u001b[0;31mInvalidIndexError\u001b[0m                         Traceback (most recent call last)",
      "\u001b[1;32m/workspaces/codespaces-jupyter/notebooks/risk-factor-classifier.ipynb Cell 5\u001b[0m line \u001b[0;36m1\n\u001b[0;32m----> <a href='vscode-notebook-cell://codespaces%2Bredesigned-waddle-775v9prqj4gcrj5q/workspaces/codespaces-jupyter/notebooks/risk-factor-classifier.ipynb#W4sdnNjb2RlLXJlbW90ZQ%3D%3D?line=0'>1</a>\u001b[0m x_min, x_max \u001b[39m=\u001b[39m X[:, \u001b[39m0\u001b[39;49m]\u001b[39m.\u001b[39mmin() \u001b[39m-\u001b[39m \u001b[39m0.5\u001b[39m, X[:, \u001b[39m0\u001b[39m]\u001b[39m.\u001b[39mmax() \u001b[39m+\u001b[39m \u001b[39m0.5\u001b[39m\n\u001b[1;32m      <a href='vscode-notebook-cell://codespaces%2Bredesigned-waddle-775v9prqj4gcrj5q/workspaces/codespaces-jupyter/notebooks/risk-factor-classifier.ipynb#W4sdnNjb2RlLXJlbW90ZQ%3D%3D?line=1'>2</a>\u001b[0m y_min, y_max \u001b[39m=\u001b[39m X[:, \u001b[39m1\u001b[39m]\u001b[39m.\u001b[39mmin() \u001b[39m-\u001b[39m \u001b[39m0.5\u001b[39m, X[:, \u001b[39m1\u001b[39m]\u001b[39m.\u001b[39mmax() \u001b[39m+\u001b[39m \u001b[39m0.5\u001b[39m\n",
      "File \u001b[0;32m~/.local/lib/python3.10/site-packages/pandas/core/frame.py:4090\u001b[0m, in \u001b[0;36mDataFrame.__getitem__\u001b[0;34m(self, key)\u001b[0m\n\u001b[1;32m   4088\u001b[0m \u001b[39mif\u001b[39;00m \u001b[39mself\u001b[39m\u001b[39m.\u001b[39mcolumns\u001b[39m.\u001b[39mnlevels \u001b[39m>\u001b[39m \u001b[39m1\u001b[39m:\n\u001b[1;32m   4089\u001b[0m     \u001b[39mreturn\u001b[39;00m \u001b[39mself\u001b[39m\u001b[39m.\u001b[39m_getitem_multilevel(key)\n\u001b[0;32m-> 4090\u001b[0m indexer \u001b[39m=\u001b[39m \u001b[39mself\u001b[39;49m\u001b[39m.\u001b[39;49mcolumns\u001b[39m.\u001b[39;49mget_loc(key)\n\u001b[1;32m   4091\u001b[0m \u001b[39mif\u001b[39;00m is_integer(indexer):\n\u001b[1;32m   4092\u001b[0m     indexer \u001b[39m=\u001b[39m [indexer]\n",
      "File \u001b[0;32m~/.local/lib/python3.10/site-packages/pandas/core/indexes/base.py:3814\u001b[0m, in \u001b[0;36mIndex.get_loc\u001b[0;34m(self, key)\u001b[0m\n\u001b[1;32m   3809\u001b[0m     \u001b[39mraise\u001b[39;00m \u001b[39mKeyError\u001b[39;00m(key) \u001b[39mfrom\u001b[39;00m \u001b[39merr\u001b[39;00m\n\u001b[1;32m   3810\u001b[0m \u001b[39mexcept\u001b[39;00m \u001b[39mTypeError\u001b[39;00m:\n\u001b[1;32m   3811\u001b[0m     \u001b[39m# If we have a listlike key, _check_indexing_error will raise\u001b[39;00m\n\u001b[1;32m   3812\u001b[0m     \u001b[39m#  InvalidIndexError. Otherwise we fall through and re-raise\u001b[39;00m\n\u001b[1;32m   3813\u001b[0m     \u001b[39m#  the TypeError.\u001b[39;00m\n\u001b[0;32m-> 3814\u001b[0m     \u001b[39mself\u001b[39;49m\u001b[39m.\u001b[39;49m_check_indexing_error(key)\n\u001b[1;32m   3815\u001b[0m     \u001b[39mraise\u001b[39;00m\n",
      "File \u001b[0;32m~/.local/lib/python3.10/site-packages/pandas/core/indexes/base.py:6058\u001b[0m, in \u001b[0;36mIndex._check_indexing_error\u001b[0;34m(self, key)\u001b[0m\n\u001b[1;32m   6054\u001b[0m \u001b[39mdef\u001b[39;00m \u001b[39m_check_indexing_error\u001b[39m(\u001b[39mself\u001b[39m, key):\n\u001b[1;32m   6055\u001b[0m     \u001b[39mif\u001b[39;00m \u001b[39mnot\u001b[39;00m is_scalar(key):\n\u001b[1;32m   6056\u001b[0m         \u001b[39m# if key is not a scalar, directly raise an error (the code below\u001b[39;00m\n\u001b[1;32m   6057\u001b[0m         \u001b[39m# would convert to numpy arrays and raise later any way) - GH29926\u001b[39;00m\n\u001b[0;32m-> 6058\u001b[0m         \u001b[39mraise\u001b[39;00m InvalidIndexError(key)\n",
      "\u001b[0;31mInvalidIndexError\u001b[0m: (slice(None, None, None), 0)"
     ]
    }
   ],
   "source": [
    "for name, clf in zip(names, classifiers):\n",
    "  clf = make_pipeline(StandardScaler(), clf)\n",
    "  clf.fit(X_train, y_train)\n",
    "  score = clf.score(X_test, y_test)\n"
   ]
  }
 ],
 "metadata": {
  "kernelspec": {
   "display_name": "Python 3",
   "language": "python",
   "name": "python3"
  },
  "language_info": {
   "codemirror_mode": {
    "name": "ipython",
    "version": 3
   },
   "file_extension": ".py",
   "mimetype": "text/x-python",
   "name": "python",
   "nbconvert_exporter": "python",
   "pygments_lexer": "ipython3",
   "version": "3.10.13"
  }
 },
 "nbformat": 4,
 "nbformat_minor": 2
}
