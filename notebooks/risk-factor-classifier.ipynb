{
 "cells": [
  {
   "cell_type": "markdown",
   "metadata": {},
   "source": [
    "# Risk Factor Clinical Classifier\n",
    "\n",
    "This classifier takes patient answers to the Lung Space clinical survey and predicts the chance of cancer."
   ]
  },
  {
   "cell_type": "markdown",
   "metadata": {},
   "source": [
    "## Import dataset and build dataframe"
   ]
  },
  {
   "cell_type": "code",
   "execution_count": 190,
   "metadata": {},
   "outputs": [
    {
     "name": "stdout",
     "output_type": "stream",
     "text": [
      "positive:  2058  negative:  51394\n"
     ]
    },
    {
     "name": "stderr",
     "output_type": "stream",
     "text": [
      "/tmp/ipykernel_6654/3375708775.py:8: DtypeWarning: Columns (239,240,348) have mixed types. Specify dtype option on import or set low_memory=False.\n",
      "  df = pd.read_csv('../data/lungspace/package-nlst-1193.2024-02-20/participant_d040722.csv')\n"
     ]
    }
   ],
   "source": [
    "import numpy as np\n",
    "import pandas as pd\n",
    "from sklearn import tree\n",
    "from sklearn.linear_model import LogisticRegression\n",
    "from sklearn.neighbors import KNeighborsClassifier\n",
    "from sklearn.preprocessing import normalize\n",
    "\n",
    "df = pd.read_csv('../data/lungspace/package-nlst-1193.2024-02-20/participant_d040722.csv')\n",
    "\n",
    "\n",
    "# Breakdown of positive and negative sample size\n",
    "print(\"positive: \", len(df['lung_cancer'].loc[df['lung_cancer'] == 1].to_list()), \" negative: \", len(df['lung_cancer'].loc[df['lung_cancer'] == 0].to_list()))\n",
    "\n",
    "# Features\n",
    "features_demographic = ['age', 'weight', 'height', 'gender', 'educat', 'ethnic', 'race']\n",
    "features_smoking = [\"cigar\",\"cigsmok\",\"pipe\",\"pkyr\",\"smokeage\",\"smokeday\",\"smokelive\",\"smokework\",\"smokeyr\"]\n",
    "features_screening = ['num_screens']\n",
    "features_follow_up_procedures = [\"biop0\",\"biop1\",\"biop2\",\"bioplc\",\"invas0\",\"invas1\",\"invas2\",\"invaslc\",\"medcomp0\",\"medcomp1\",\"medcomp2\",\"medcomplc\",\"mra_stat0\",\"mra_stat1\",\"mra_stat2\",\"no_proc_reas0\",\"no_proc_reas1\",\"no_proc_reas2\",\"proc0\",\"proc1\",\"proc2\"]\n",
    "features_work_history = [\"resasbe\",\"resbaki\",\"resbutc\",\"reschem\",\"resfarm\",\"resfire\",\"resflou\",\"resfoun\",\"reshard\",\"respain\",\"ressand\",\"resweld\",\"wrkasbe\",\"wrkbaki\",\"wrkbutc\",\"wrkchem\",\"wrkcoal\",\"wrkcott\",\"wrkfarm\",\"wrkfire\",\"wrkflou\",\"wrkfoun\",\"wrkhard\",\"wrkpain\",\"wrksand\",\"wrkweld\"]\n",
    "features_disease_history = [\"ageadas\",\"ageasbe\",\"agebron\",\"agechas\",\"agechro\",\"agecopd\",\"agediab\",\"ageemph\",\"agehear\",\"agehype\",\"agepneu\",\"agestro\",\"agetube\",\"diagadas\",\"diagasbe\",\"diagbron\",\"diagchas\",\"diagchro\",\"diagcopd\",\"diagdiab\",\"diagemph\",\"diagfibr\",\"diaghear\",\"diaghype\",\"diagpneu\",\"diagsarc\",\"diagsili\",\"diagstro\",\"diagtube\"]\n",
    "features_family_history = [\"fambrother\",\"famchild\",\"famfather\",\"fammother\",\"famsister\"]\n",
    "features_alcohol = [\"acrin_alc_curr\",\"acrin_alc_ever\",\"acrin_drink24hr\",\"acrin_drinknum_curr\",\"acrin_drinknum_form\",\"acrin_drinkyrs_curr\",\"acrin_drinkyrs_form\",\"acrin_lastdrink\",\"lss_alcohol_freq\",\"lss_alcohol_num\"]\n",
    "output_column = ['lung_cancer']\n"
   ]
  },
  {
   "cell_type": "markdown",
   "metadata": {},
   "source": [
    "## Choose features to include"
   ]
  },
  {
   "cell_type": "markdown",
   "metadata": {},
   "source": [
    "### Features: Demographics and Smoking\n",
    "\n",
    "- Random forest (default): 99.8% accuracy\n",
    "- K Nearest Neighbor: 94% accuracy\n",
    "- Logistic Regression: 70% accuracy"
   ]
  },
  {
   "cell_type": "code",
   "execution_count": 191,
   "metadata": {},
   "outputs": [],
   "source": [
    "# dataset_columns = features_demographic + features_smoking + output_column\n"
   ]
  },
  {
   "cell_type": "markdown",
   "metadata": {},
   "source": [
    "### Features: Demographics, Smoking, Work History, Family History, Alcohol\n",
    "\n",
    "- Random forest (default): 99.9% accuracy\n",
    "- K Nearest Neighbor (3 neighbors): 94%\n",
    "- Logistic Regression: 64%"
   ]
  },
  {
   "cell_type": "code",
   "execution_count": 192,
   "metadata": {},
   "outputs": [],
   "source": [
    "# dataset_columns = features_demographic + features_smoking + features_work_history + features_disease_history + features_family_history + features_alcohol + output_column\n",
    "dataset_columns = features_demographic + features_smoking + features_work_history + features_disease_history + output_column\n"
   ]
  },
  {
   "cell_type": "markdown",
   "metadata": {},
   "source": [
    "### Features: Demographics, Work History, Family History, Alcohol\n",
    "\n",
    "- Random forest (default): 98% accuracy\n",
    "- KNN (3 neighbors): 93% accuracy\n",
    "- Logistic Regression: 59% accuracy"
   ]
  },
  {
   "cell_type": "code",
   "execution_count": 193,
   "metadata": {},
   "outputs": [],
   "source": [
    "# dataset_columns = features_demographic + features_work_history + features_family_history + features_alcohol + output_column\n"
   ]
  },
  {
   "cell_type": "markdown",
   "metadata": {},
   "source": [
    "## Remove null values and add weight/height field"
   ]
  },
  {
   "cell_type": "code",
   "execution_count": 194,
   "metadata": {},
   "outputs": [
    {
     "name": "stdout",
     "output_type": "stream",
     "text": [
      "       age  weight  height  gender  educat  ethnic  race  cigar  cigsmok  \\\n",
      "0       70   134.0    70.0       1       2       2     1    1.0        1   \n",
      "1       66   175.0    68.0       1       3       2     1    0.0        1   \n",
      "2       64   180.0    70.0       1       3       2     1    0.0        1   \n",
      "3       60   205.0    70.0       1       5       2     1    0.0        0   \n",
      "4       64   220.0    67.0       1       2       2     1    0.0        0   \n",
      "...    ...     ...     ...     ...     ...     ...   ...    ...      ...   \n",
      "53446   64   146.0    67.0       2       5       2     1    0.0        1   \n",
      "53447   73   206.0    64.0       2       3       2     1    0.0        1   \n",
      "53448   66   175.0    71.0       1       2       2     1    0.0        1   \n",
      "53449   56   172.0    72.0       1       5       2     1    1.0        0   \n",
      "53451   57   220.0    69.0       1       7       2     1    0.0        1   \n",
      "\n",
      "       pipe  ...  diagemph  diagfibr  diaghear  diaghype  diagpneu  diagsarc  \\\n",
      "0       1.0  ...       0.0       0.0       0.0       0.0       0.0       0.0   \n",
      "1       0.0  ...       0.0       0.0       0.0       0.0       0.0       0.0   \n",
      "2       0.0  ...       0.0       0.0       0.0       0.0       0.0       0.0   \n",
      "3       1.0  ...       0.0       0.0       0.0       1.0       0.0       0.0   \n",
      "4       0.0  ...       0.0       0.0       1.0       1.0       1.0       0.0   \n",
      "...     ...  ...       ...       ...       ...       ...       ...       ...   \n",
      "53446   0.0  ...       0.0       0.0       0.0       0.0       0.0       0.0   \n",
      "53447   0.0  ...       0.0       0.0       0.0       0.0       1.0       0.0   \n",
      "53448   0.0  ...       0.0       0.0       0.0       0.0       0.0       0.0   \n",
      "53449   0.0  ...       0.0       0.0       0.0       0.0       0.0       0.0   \n",
      "53451   0.0  ...       0.0       0.0       0.0       1.0       0.0       0.0   \n",
      "\n",
      "       diagsili  diagstro  diagtube  lung_cancer  \n",
      "0           0.0       0.0       0.0            0  \n",
      "1           0.0       0.0       0.0            0  \n",
      "2           0.0       0.0       0.0            0  \n",
      "3           0.0       0.0       0.0            0  \n",
      "4           0.0       0.0       0.0            0  \n",
      "...         ...       ...       ...          ...  \n",
      "53446       0.0       0.0       0.0            0  \n",
      "53447       0.0       0.0       0.0            0  \n",
      "53448       0.0       0.0       0.0            0  \n",
      "53449       0.0       0.0       0.0            0  \n",
      "53451       0.0       0.0       0.0            0  \n",
      "\n",
      "[51566 rows x 47 columns]\n"
     ]
    }
   ],
   "source": [
    "# Build dataframe\n",
    "df = df[dataset_columns]\n",
    "for i in dataset_columns[:]:\n",
    "  if df[i].isna().sum() > 2000:\n",
    "    df = df.drop(i, axis=1)\n",
    "    dataset_columns.remove(i)\n",
    "\n",
    "# print(df.isnull().sum(axis = 0).sort_values(ascending=False).to_string())\n",
    "\n",
    "df = df.dropna()\n",
    "\n",
    "# df.insert(2, 'weight_div_height', df['weight'] / df['height'])\n",
    "\n",
    "print(df)\n"
   ]
  },
  {
   "cell_type": "code",
   "execution_count": 195,
   "metadata": {},
   "outputs": [
    {
     "name": "stdout",
     "output_type": "stream",
     "text": [
      "!!!!!!!!!!!\n",
      "diagadas\n",
      "0.0    48443\n",
      "1.0     3123\n",
      "Name: count, dtype: int64\n",
      "!!!!!!!!!!!\n",
      "diagasbe\n",
      "0.0    51056\n",
      "1.0      510\n",
      "Name: count, dtype: int64\n",
      "!!!!!!!!!!!\n",
      "diagbron\n",
      "0.0    49899\n",
      "1.0     1667\n",
      "Name: count, dtype: int64\n",
      "!!!!!!!!!!!\n",
      "diagchas\n",
      "0.0    49723\n",
      "1.0     1843\n",
      "Name: count, dtype: int64\n",
      "!!!!!!!!!!!\n",
      "diagchro\n",
      "0.0    46693\n",
      "1.0     4873\n",
      "Name: count, dtype: int64\n",
      "!!!!!!!!!!!\n",
      "diagcopd\n",
      "0.0    49040\n",
      "1.0     2526\n",
      "Name: count, dtype: int64\n",
      "!!!!!!!!!!!\n",
      "diagdiab\n",
      "0.0    46572\n",
      "1.0     4994\n",
      "Name: count, dtype: int64\n",
      "!!!!!!!!!!!\n",
      "diagemph\n",
      "0.0    47684\n",
      "1.0     3882\n",
      "Name: count, dtype: int64\n",
      "!!!!!!!!!!!\n",
      "diagfibr\n",
      "0.0    51442\n",
      "1.0      124\n",
      "Name: count, dtype: int64\n",
      "!!!!!!!!!!!\n",
      "diaghear\n",
      "0.0    44993\n",
      "1.0     6573\n",
      "Name: count, dtype: int64\n",
      "!!!!!!!!!!!\n",
      "diaghype\n",
      "0.0    33250\n",
      "1.0    18316\n",
      "Name: count, dtype: int64\n",
      "!!!!!!!!!!!\n",
      "diagpneu\n",
      "0.0    40227\n",
      "1.0    11339\n",
      "Name: count, dtype: int64\n",
      "!!!!!!!!!!!\n",
      "diagsarc\n",
      "0.0    51473\n",
      "1.0       93\n",
      "Name: count, dtype: int64\n",
      "!!!!!!!!!!!\n",
      "diagsili\n",
      "0.0    51514\n",
      "1.0       52\n",
      "Name: count, dtype: int64\n",
      "!!!!!!!!!!!\n",
      "diagstro\n",
      "0.0    50122\n",
      "1.0     1444\n",
      "Name: count, dtype: int64\n",
      "!!!!!!!!!!!\n",
      "diagtube\n",
      "0.0    51007\n",
      "1.0      559\n",
      "Name: count, dtype: int64\n"
     ]
    }
   ],
   "source": [
    "temp_columns = df.columns.to_list()\n",
    "\n",
    "for c in features_disease_history:\n",
    "  if c in temp_columns:\n",
    "    print(\"!!!!!!!!!!!\")\n",
    "    print(df[c].value_counts())\n"
   ]
  },
  {
   "cell_type": "code",
   "execution_count": 196,
   "metadata": {},
   "outputs": [
    {
     "name": "stdout",
     "output_type": "stream",
     "text": [
      "!!!!!!!!!!!\n",
      "wrkasbe\n",
      "0.0    49152\n",
      "1.0     2414\n",
      "Name: count, dtype: int64\n",
      "!!!!!!!!!!!\n",
      "wrkbaki\n",
      "0.0    50476\n",
      "1.0     1090\n",
      "Name: count, dtype: int64\n",
      "!!!!!!!!!!!\n",
      "wrkbutc\n",
      "0.0    50459\n",
      "1.0     1107\n",
      "Name: count, dtype: int64\n",
      "!!!!!!!!!!!\n",
      "wrkchem\n",
      "0.0    48385\n",
      "1.0     3181\n",
      "Name: count, dtype: int64\n",
      "!!!!!!!!!!!\n",
      "wrkcoal\n",
      "0.0    51245\n",
      "1.0      321\n",
      "Name: count, dtype: int64\n",
      "!!!!!!!!!!!\n",
      "wrkcott\n",
      "0.0    51193\n",
      "1.0      373\n",
      "Name: count, dtype: int64\n",
      "!!!!!!!!!!!\n",
      "wrkfarm\n",
      "0.0    46105\n",
      "1.0     5461\n",
      "Name: count, dtype: int64\n",
      "!!!!!!!!!!!\n",
      "wrkfire\n",
      "0.0    50613\n",
      "1.0      953\n",
      "Name: count, dtype: int64\n",
      "!!!!!!!!!!!\n",
      "wrkflou\n",
      "0.0    51011\n",
      "1.0      555\n",
      "Name: count, dtype: int64\n",
      "!!!!!!!!!!!\n",
      "wrkfoun\n",
      "0.0    49403\n",
      "1.0     2163\n",
      "Name: count, dtype: int64\n",
      "!!!!!!!!!!!\n",
      "wrkhard\n",
      "0.0    51168\n",
      "1.0      398\n",
      "Name: count, dtype: int64\n",
      "!!!!!!!!!!!\n",
      "wrkpain\n",
      "0.0    48901\n",
      "1.0     2665\n",
      "Name: count, dtype: int64\n",
      "!!!!!!!!!!!\n",
      "wrksand\n",
      "0.0    50702\n",
      "1.0      864\n",
      "Name: count, dtype: int64\n",
      "!!!!!!!!!!!\n",
      "wrkweld\n",
      "0.0    48730\n",
      "1.0     2836\n",
      "Name: count, dtype: int64\n"
     ]
    }
   ],
   "source": [
    "temp_columns = df.columns.to_list()\n",
    "\n",
    "for c in features_work_history:\n",
    "  if c in temp_columns:\n",
    "    print(\"!!!!!!!!!!!\")\n",
    "    print(df[c].value_counts())\n"
   ]
  },
  {
   "cell_type": "code",
   "execution_count": 197,
   "metadata": {},
   "outputs": [
    {
     "name": "stdout",
     "output_type": "stream",
     "text": [
      "!!!!!!!!!!!\n",
      "cigar\n",
      "0.0    40468\n",
      "1.0    11098\n",
      "Name: count, dtype: int64\n",
      "!!!!!!!!!!!\n",
      "cigsmok\n",
      "0    26737\n",
      "1    24829\n",
      "Name: count, dtype: int64\n",
      "!!!!!!!!!!!\n",
      "pipe\n",
      "0.0    39578\n",
      "1.0    11988\n",
      "Name: count, dtype: int64\n",
      "!!!!!!!!!!!\n",
      "pkyr\n",
      "40.00     2002\n",
      "45.00     1533\n",
      "42.00     1506\n",
      "39.00     1494\n",
      "35.00     1297\n",
      "          ... \n",
      "49.60        1\n",
      "56.55        1\n",
      "122.00       1\n",
      "199.50       1\n",
      "95.40        1\n",
      "Name: count, Length: 556, dtype: int64\n",
      "!!!!!!!!!!!\n",
      "smokeage\n",
      "18.0    7505\n",
      "16.0    7460\n",
      "15.0    6549\n",
      "17.0    4738\n",
      "14.0    4584\n",
      "20.0    4036\n",
      "13.0    3195\n",
      "19.0    3051\n",
      "12.0    2440\n",
      "21.0    2051\n",
      "22.0    1019\n",
      "10.0     819\n",
      "25.0     705\n",
      "11.0     655\n",
      "23.0     496\n",
      "9.0      350\n",
      "24.0     315\n",
      "8.0      265\n",
      "30.0     235\n",
      "26.0     179\n",
      "7.0      137\n",
      "27.0     136\n",
      "28.0     114\n",
      "6.0      104\n",
      "5.0       74\n",
      "35.0      66\n",
      "29.0      42\n",
      "31.0      41\n",
      "32.0      41\n",
      "40.0      29\n",
      "33.0      25\n",
      "34.0      24\n",
      "36.0      15\n",
      "38.0      14\n",
      "4.0       10\n",
      "37.0       8\n",
      "2.0        7\n",
      "42.0       6\n",
      "39.0       6\n",
      "3.0        5\n",
      "44.0       4\n",
      "45.0       4\n",
      "43.0       2\n",
      "41.0       1\n",
      "50.0       1\n",
      "48.0       1\n",
      "46.0       1\n",
      "56.0       1\n",
      "Name: count, dtype: int64\n",
      "!!!!!!!!!!!\n",
      "smokeday\n",
      "20     21864\n",
      "30     11180\n",
      "40      8462\n",
      "25      2457\n",
      "60      1617\n",
      "       ...  \n",
      "258        1\n",
      "82         1\n",
      "205        1\n",
      "69         1\n",
      "68         1\n",
      "Name: count, Length: 66, dtype: int64\n",
      "!!!!!!!!!!!\n",
      "smokelive\n",
      "1.0    45125\n",
      "0.0     6441\n",
      "Name: count, dtype: int64\n",
      "!!!!!!!!!!!\n",
      "smokework\n",
      "1.0    44306\n",
      "0.0     7260\n",
      "Name: count, dtype: int64\n",
      "!!!!!!!!!!!\n",
      "smokeyr\n",
      "40    4115\n",
      "42    2820\n",
      "41    2801\n",
      "39    2619\n",
      "38    2545\n",
      "43    2540\n",
      "35    2539\n",
      "37    2379\n",
      "45    2363\n",
      "44    2333\n",
      "36    2129\n",
      "30    1914\n",
      "34    1769\n",
      "46    1735\n",
      "33    1618\n",
      "32    1518\n",
      "47    1436\n",
      "50    1374\n",
      "48    1334\n",
      "31    1275\n",
      "49    1064\n",
      "51     752\n",
      "52     703\n",
      "29     638\n",
      "28     609\n",
      "53     553\n",
      "27     472\n",
      "25     470\n",
      "54     453\n",
      "26     420\n",
      "55     394\n",
      "24     270\n",
      "56     247\n",
      "57     211\n",
      "23     189\n",
      "20     156\n",
      "22     153\n",
      "58     149\n",
      "21     105\n",
      "60      96\n",
      "59      88\n",
      "18      38\n",
      "19      29\n",
      "61      27\n",
      "15      26\n",
      "17      19\n",
      "62      17\n",
      "16      14\n",
      "63      14\n",
      "13       7\n",
      "64       7\n",
      "12       6\n",
      "65       5\n",
      "14       3\n",
      "10       2\n",
      "67       2\n",
      "66       1\n",
      "68       1\n",
      "Name: count, dtype: int64\n"
     ]
    }
   ],
   "source": [
    "temp_columns = df.columns.to_list()\n",
    "\n",
    "for c in features_smoking:\n",
    "  if c in temp_columns:\n",
    "    print(\"!!!!!!!!!!!\")\n",
    "    print(df[c].value_counts())\n"
   ]
  },
  {
   "cell_type": "code",
   "execution_count": 198,
   "metadata": {},
   "outputs": [
    {
     "name": "stdout",
     "output_type": "stream",
     "text": [
      "!!!!!!!!!!!\n",
      "age\n",
      "55    5224\n",
      "56    5010\n",
      "57    4249\n",
      "59    3892\n",
      "60    3851\n",
      "58    3769\n",
      "61    3393\n",
      "62    3049\n",
      "63    2844\n",
      "64    2644\n",
      "65    2394\n",
      "66    1934\n",
      "67    1793\n",
      "68    1641\n",
      "69    1364\n",
      "70    1274\n",
      "71    1047\n",
      "72     926\n",
      "73     769\n",
      "74     490\n",
      "75       3\n",
      "50       1\n",
      "52       1\n",
      "43       1\n",
      "49       1\n",
      "54       1\n",
      "79       1\n",
      "Name: count, dtype: int64\n",
      "!!!!!!!!!!!\n",
      "weight\n",
      "180.0    2123\n",
      "200.0    1913\n",
      "190.0    1876\n",
      "160.0    1834\n",
      "170.0    1782\n",
      "         ... \n",
      "411.0       1\n",
      "329.0       1\n",
      "446.0       1\n",
      "348.0       1\n",
      "328.0       1\n",
      "Name: count, Length: 282, dtype: int64\n",
      "!!!!!!!!!!!\n",
      "height\n",
      "70.0    5354\n",
      "68.0    4529\n",
      "72.0    4429\n",
      "71.0    4403\n",
      "66.0    4314\n",
      "69.0    4077\n",
      "67.0    4050\n",
      "64.0    3792\n",
      "65.0    3355\n",
      "63.0    2800\n",
      "62.0    2576\n",
      "73.0    2129\n",
      "74.0    1760\n",
      "61.0    1194\n",
      "60.0     869\n",
      "75.0     807\n",
      "76.0     462\n",
      "59.0     233\n",
      "77.0     188\n",
      "78.0      83\n",
      "58.0      60\n",
      "79.0      27\n",
      "57.0      19\n",
      "80.0      15\n",
      "83.0      10\n",
      "81.0       8\n",
      "82.0       4\n",
      "55.0       3\n",
      "53.0       3\n",
      "49.0       3\n",
      "54.0       2\n",
      "48.0       1\n",
      "51.0       1\n",
      "40.0       1\n",
      "52.0       1\n",
      "84.0       1\n",
      "32.0       1\n",
      "56.0       1\n",
      "87.0       1\n",
      "Name: count, dtype: int64\n",
      "!!!!!!!!!!!\n",
      "gender\n",
      "1    30527\n",
      "2    21039\n",
      "Name: count, dtype: int64\n",
      "!!!!!!!!!!!\n",
      "educat\n",
      "3     12232\n",
      "5     11942\n",
      "6      8739\n",
      "7      7419\n",
      "4      7152\n",
      "2      2393\n",
      "8       926\n",
      "1       706\n",
      "99       57\n",
      "Name: count, dtype: int64\n",
      "!!!!!!!!!!!\n",
      "ethnic\n",
      "2     50470\n",
      "1       900\n",
      "99      188\n",
      "7         6\n",
      "98        2\n",
      "Name: count, dtype: int64\n",
      "!!!!!!!!!!!\n",
      "race\n",
      "1     47006\n",
      "2      2273\n",
      "3      1074\n",
      "6       655\n",
      "5       190\n",
      "4       182\n",
      "7       105\n",
      "99       76\n",
      "96        3\n",
      "98        2\n",
      "Name: count, dtype: int64\n"
     ]
    }
   ],
   "source": [
    "temp_columns = df.columns.to_list()\n",
    "\n",
    "for c in features_demographic:\n",
    "  if c in temp_columns:\n",
    "    print(\"!!!!!!!!!!!\")\n",
    "    print(df[c].value_counts())\n"
   ]
  },
  {
   "cell_type": "markdown",
   "metadata": {},
   "source": [
    "## Downsample the negative samples to balance the dataset"
   ]
  },
  {
   "cell_type": "code",
   "execution_count": 199,
   "metadata": {},
   "outputs": [],
   "source": [
    "# # Determines how many negative samples to include in the dataset\n",
    "# # The frac value determines the percent of negative values that are excluded\n",
    "# print(df)\n",
    "# df = df.drop(df.query('lung_cancer == 0').sample(frac=.95).index)\n",
    "# print(df)\n",
    "\n",
    "# df = df[df[dataset_columns] >= 0]\n",
    "# print(\"##############\")\n",
    "# print(df)\n",
    "\n",
    "# print(\"!!!!!!!!!!!!!!!!!!!!!\")\n",
    "\n",
    "# for i in df.columns.to_list():\n",
    "#   if df[i].isna().sum() > 500:\n",
    "#     print(i)\n",
    "\n",
    "# print(\"$$$$$$$$$$$$$\")\n",
    "\n",
    "# df = df.dropna()\n",
    "# print(df)\n"
   ]
  },
  {
   "cell_type": "markdown",
   "metadata": {},
   "source": [
    "## Duplicate the positive examples to balance the dataset"
   ]
  },
  {
   "cell_type": "code",
   "execution_count": 200,
   "metadata": {},
   "outputs": [],
   "source": [
    "# Duplicate the positive samples to balance the dataset\n",
    "\n",
    "# df_positives = df[df['lung_cancer'] == 1]\n",
    "# print(df_positives)\n",
    "# print(len(df_positives['lung_cancer'].to_list()))\n",
    "\n",
    "# while len(df[df['lung_cancer'] == 1]['lung_cancer'].to_list()) < len(df[df['lung_cancer'] == 0]['lung_cancer'].to_list()):\n",
    "#   df = pd.concat([df, df_positives])\n",
    "\n",
    "# print(df)\n",
    "# print(\"positive: \", len(df['lung_cancer'].loc[df['lung_cancer'] == 1].to_list()), \" negative: \", len(df['lung_cancer'].loc[df['lung_cancer'] == 0].to_list()))\n"
   ]
  },
  {
   "cell_type": "markdown",
   "metadata": {},
   "source": [
    "## Define models"
   ]
  },
  {
   "cell_type": "code",
   "execution_count": 201,
   "metadata": {},
   "outputs": [],
   "source": [
    "from imblearn.over_sampling import RandomOverSampler\n"
   ]
  },
  {
   "cell_type": "code",
   "execution_count": 202,
   "metadata": {},
   "outputs": [],
   "source": [
    "import matplotlib.pyplot as plt\n",
    "import seaborn as sns\n",
    "import numpy as np\n",
    "from matplotlib.colors import ListedColormap\n",
    "\n",
    "from sklearn.metrics import accuracy_score\n",
    "from sklearn.metrics import confusion_matrix, ConfusionMatrixDisplay\n",
    "\n",
    "from sklearn.datasets import make_circles, make_classification, make_moons\n",
    "from sklearn.discriminant_analysis import QuadraticDiscriminantAnalysis\n",
    "from sklearn.ensemble import AdaBoostClassifier, RandomForestClassifier\n",
    "from sklearn.gaussian_process import GaussianProcessClassifier\n",
    "from sklearn.gaussian_process.kernels import RBF\n",
    "from sklearn.inspection import DecisionBoundaryDisplay\n",
    "from sklearn.model_selection import train_test_split\n",
    "from sklearn.naive_bayes import GaussianNB, MultinomialNB\n",
    "from sklearn.neighbors import KNeighborsClassifier\n",
    "from sklearn.neural_network import MLPClassifier\n",
    "from sklearn.pipeline import make_pipeline\n",
    "from sklearn.preprocessing import StandardScaler\n",
    "from sklearn.svm import SVC\n",
    "from sklearn.tree import DecisionTreeClassifier\n",
    "from sklearn.linear_model import LogisticRegression\n",
    "\n",
    "# Model names\n",
    "names = [\n",
    "    \"Nearest Neighbors\",\n",
    "    \"Linear SVM\",\n",
    "    # \"RBF SVM\",\n",
    "    # \"Gaussian Process\",\n",
    "    \"Decision Tree\",\n",
    "    # \"Random Forest\",\n",
    "    # \"Neural Net\",\n",
    "    # \"AdaBoost\",\n",
    "    \"Naive Bayes\",\n",
    "    \"Logistic Regression\"\n",
    "    # \"QDA\",\n",
    "]\n",
    "\n",
    "# Models\n",
    "classifiers = [\n",
    "    KNeighborsClassifier(3),\n",
    "    SVC(kernel=\"linear\", C=0.025, random_state=42),\n",
    "    # SVC(gamma=2, C=1, random_state=42),\n",
    "    # GaussianProcessClassifier(1.0 * RBF(1.0), random_state=42),\n",
    "    DecisionTreeClassifier(max_depth=5, random_state=42),\n",
    "    # RandomForestClassifier(\n",
    "    #     max_depth=5, n_estimators=10, max_features=1, random_state=42\n",
    "    # ),\n",
    "    # MLPClassifier(alpha=1, max_iter=1000, random_state=42),\n",
    "    # AdaBoostClassifier(algorithm=\"SAMME\", random_state=42),\n",
    "    GaussianNB(),\n",
    "    LogisticRegression(random_state=0)\n",
    "    # QuadraticDiscriminantAnalysis(),\n",
    "]\n"
   ]
  },
  {
   "cell_type": "markdown",
   "metadata": {},
   "source": [
    "## Build training and test sets"
   ]
  },
  {
   "cell_type": "code",
   "execution_count": 203,
   "metadata": {},
   "outputs": [],
   "source": [
    "# Use predict lung_cancer column\n",
    "# X = df[['age', 'weight', 'height', \"cigar\",\"cigsmok\",\"pipe\",\"pkyr\",\"smokeage\",\"smokeday\",\"smokelive\",\"smokework\",\"smokeyr\",\"num_screens\"]]\n",
    "X = df[dataset_columns[:-1]]\n",
    "y = df[['lung_cancer']]\n",
    "\n",
    "# Split training and test sets\n",
    "X_train, X_test, y_train, y_test = train_test_split(\n",
    "    X, y, test_size=0.4, random_state=42\n",
    ")\n"
   ]
  },
  {
   "cell_type": "markdown",
   "metadata": {},
   "source": [
    "## Balance the dataset to improve positive accuracy"
   ]
  },
  {
   "cell_type": "markdown",
   "metadata": {},
   "source": [
    "### Oversample the imbalanced data with imbalance-learn library"
   ]
  },
  {
   "cell_type": "code",
   "execution_count": 204,
   "metadata": {},
   "outputs": [],
   "source": [
    "# ros = RandomOverSampler(random_state=0)\n",
    "# X_train, y_train = ros.fit_resample(X_train, y_train)\n",
    "\n",
    "# from imblearn.over_sampling import SMOTE, ADASYN\n",
    "# # X_train, y_train = SMOTE().fit_resample(X_train, y_train)\n",
    "# # X_train, y_train = ADASYN().fit_resample(X_train, y_train)\n"
   ]
  },
  {
   "cell_type": "markdown",
   "metadata": {},
   "source": [
    "### Or oversample positive samples manually by duplicating them in the training set"
   ]
  },
  {
   "cell_type": "code",
   "execution_count": 205,
   "metadata": {},
   "outputs": [],
   "source": [
    "# X_train_positives = []\n",
    "# X_test_positives = []\n",
    "# y_train_positives = []\n",
    "# y_test_positives = []\n",
    "\n",
    "# train_temp = pd.concat([X_train, y_train['lung_cancer']], axis=1)\n",
    "# test_temp = pd.concat([X_test, y_test['lung_cancer']], axis=1)\n",
    "\n",
    "# df_train_positives = train_temp[train_temp['lung_cancer'] == 1]\n",
    "# print(df_train_positives)\n",
    "# print(len(df_train_positives['lung_cancer'].to_list()))\n",
    "\n",
    "# while len(train_temp[train_temp['lung_cancer'] == 1]['lung_cancer'].to_list()) < len(train_temp[train_temp['lung_cancer'] == 0]['lung_cancer'].to_list()):\n",
    "#   train_temp = pd.concat([train_temp, df_train_positives])\n",
    "\n",
    "# print(train_temp)\n",
    "# print(\"positive: \", len(train_temp['lung_cancer'].loc[train_temp['lung_cancer'] == 1].to_list()), \" negative: \", len(train_temp['lung_cancer'].loc[train_temp['lung_cancer'] == 0].to_list()))\n",
    "\n",
    "# ##########\n",
    "\n",
    "# df_test_positives = test_temp[test_temp['lung_cancer'] == 1]\n",
    "# print(df_test_positives)\n",
    "# print(len(df_test_positives['lung_cancer'].to_list()))\n",
    "\n",
    "# while len(test_temp[test_temp['lung_cancer'] == 1]['lung_cancer'].to_list()) < len(test_temp[test_temp['lung_cancer'] == 0]['lung_cancer'].to_list()):\n",
    "#   test_temp = pd.concat([test_temp, df_test_positives])\n",
    "\n",
    "# print(test_temp)\n",
    "# print(\"positive: \", len(test_temp['lung_cancer'].loc[test_temp['lung_cancer'] == 1].to_list()), \" negative: \", len(test_temp['lung_cancer'].loc[test_temp['lung_cancer'] == 0].to_list()))\n",
    "\n",
    "\n",
    "# y_train = pd.DataFrame({'lung_cancer': train_temp['lung_cancer']})\n",
    "\n",
    "# print(\"TRAIN TEMP\")\n",
    "# print(train_temp)\n",
    "# train_temp = train_temp.drop('lung_cancer', axis=1)\n",
    "# X_train = train_temp\n",
    "\n",
    "# y_test = pd.DataFrame({'lung_cancer': test_temp['lung_cancer']})\n",
    "\n",
    "# test_temp = test_temp.drop('lung_cancer', axis=1)\n",
    "# X_test = test_temp\n"
   ]
  },
  {
   "cell_type": "code",
   "execution_count": 206,
   "metadata": {},
   "outputs": [
    {
     "name": "stdout",
     "output_type": "stream",
     "text": [
      "       lung_cancer\n",
      "10166            0\n",
      "6957             0\n",
      "45071            0\n",
      "16615            0\n",
      "21606            0\n",
      "...            ...\n",
      "11596            0\n",
      "46259            0\n",
      "39348            0\n",
      "885              0\n",
      "16219            0\n",
      "\n",
      "[30939 rows x 1 columns]\n",
      "       lung_cancer\n",
      "27733            0\n",
      "33886            0\n",
      "49872            0\n",
      "19367            0\n",
      "38422            0\n",
      "...            ...\n",
      "4632             0\n",
      "13891            0\n",
      "7365             0\n",
      "46374            0\n",
      "18485            0\n",
      "\n",
      "[20627 rows x 1 columns]\n",
      "positive training sample:  1203\n",
      "negative training sample:  29736\n",
      "positive training sample:  767\n",
      "negative training sample:  19860\n"
     ]
    }
   ],
   "source": [
    "print(y_train)\n",
    "print(y_test)\n",
    "\n",
    "print(\"positive training sample: \", len(list(filter(lambda x: x == 1.0, y_train['lung_cancer'].to_list()))))\n",
    "print(\"negative training sample: \", len(list(filter(lambda x: x == 0.0, y_train['lung_cancer'].to_list()))))\n",
    "print(\"positive training sample: \", len(list(filter(lambda x: x == 1.0, y_test['lung_cancer'].to_list()))))\n",
    "print(\"negative training sample: \", len(list(filter(lambda x: x == 0.0, y_test['lung_cancer'].to_list()))))\n"
   ]
  },
  {
   "cell_type": "markdown",
   "metadata": {},
   "source": [
    "## Test models and plot confusion matrices\n",
    "\n",
    "The goal is to minimize the number of false negative predictions."
   ]
  },
  {
   "cell_type": "code",
   "execution_count": 207,
   "metadata": {},
   "outputs": [],
   "source": [
    "# for name, clf in zip(names, classifiers):\n",
    "#   clf = make_pipeline(StandardScaler(), clf)\n",
    "#   clf.fit(normalize(X_train), y_train)\n",
    "#   y_pred = clf.predict(normalize(X_test))\n",
    "\n",
    "#   score = accuracy_score(y_test, y_pred)\n",
    "#   conf_matrix = confusion_matrix(y_test, y_pred)\n",
    "#   disp = ConfusionMatrixDisplay(confusion_matrix=conf_matrix, display_labels=clf.classes_)\n",
    "#   disp.plot()\n",
    "#   print(\"Model: \", name, \" score: \", score)\n",
    "\n",
    "\n",
    "\n",
    "# for name, m in zip(names, classifiers):\n",
    "#   # clf = m = SVC(kernel=\"linear\", C=0.025, random_state=42, probability=True)\n",
    "#   clf = make_pipeline(StandardScaler(), m)\n",
    "#   clf.fit(normalize(X_train), y_train)\n",
    "#   y_pred = clf.predict(normalize(X_test))\n",
    "#   # y_pred_prob = clf.predict_proba(X_test)\n",
    "\n",
    "#   print(name)\n",
    "#   # print(y_pred_prob)\n",
    "\n",
    "#   score = accuracy_score(y_test, y_pred)\n",
    "#   conf_matrix = confusion_matrix(y_test, y_pred)\n",
    "#   print(conf_matrix)\n",
    "#   print(f\"Accuracy on positive samples: {conf_matrix[1][1] / (conf_matrix[1][0] + conf_matrix[1][1])}\")\n",
    "#   print(f\"Accuracy on negative samples: {conf_matrix[0][0] / (conf_matrix[0][0] + conf_matrix[0][1])}\")\n",
    "#   disp = ConfusionMatrixDisplay(confusion_matrix=conf_matrix, display_labels=clf.classes_)\n",
    "#   disp.plot()\n",
    "#   print(\"Model: \", name, \" score: \", score)\n"
   ]
  },
  {
   "cell_type": "markdown",
   "metadata": {},
   "source": [
    "## Get confidence of each prediction with `predict_proba()`"
   ]
  },
  {
   "cell_type": "code",
   "execution_count": 208,
   "metadata": {},
   "outputs": [
    {
     "name": "stderr",
     "output_type": "stream",
     "text": [
      "/home/codespace/.python/current/lib/python3.10/site-packages/sklearn/cluster/_kmeans.py:1416: FutureWarning: The default value of `n_init` will change from 10 to 'auto' in 1.4. Set the value of `n_init` explicitly to suppress the warning\n",
      "  super()._check_params_vs_input(X, default_n_init=10)\n",
      "/home/codespace/.python/current/lib/python3.10/site-packages/sklearn/utils/validation.py:1183: DataConversionWarning: A column-vector y was passed when a 1d array was expected. Please change the shape of y to (n_samples, ), for example using ravel().\n",
      "  y = column_or_1d(y, warn=True)\n"
     ]
    },
    {
     "name": "stdout",
     "output_type": "stream",
     "text": [
      "[[0.49507928 0.50492072]\n",
      " [0.63649408 0.36350592]\n",
      " [0.53824037 0.46175963]\n",
      " ...\n",
      " [0.40434202 0.59565798]\n",
      " [0.49210556 0.50789444]\n",
      " [0.34622465 0.65377535]]\n",
      "[[ 8665 11195]\n",
      " [  151   616]]\n",
      "Accuracy on positive samples: 0.803129074315515\n",
      "Accuracy on negative samples: 0.43630412890231624\n",
      "Model:  Logistic Regression  score:  0.4499442478305134\n"
     ]
    },
    {
     "data": {
      "image/png": "[encoded data removed]",
      "text/plain": [
       "<Figure size 640x480 with 2 Axes>"
      ]
     },
     "metadata": {},
     "output_type": "display_data"
    }
   ],
   "source": [
    "from imblearn.pipeline import make_pipeline\n",
    "from imblearn.under_sampling import RandomUnderSampler\n",
    "from imblearn.over_sampling import SMOTE, ADASYN\n",
    "from imblearn.under_sampling import ClusterCentroids\n",
    "from imblearn.under_sampling import RandomUnderSampler\n",
    "from imblearn.under_sampling import NearMiss\n",
    "import pickle\n",
    "\n",
    "# # X_train, y_train = SMOTE().fit_resample(X_train, y_train)\n",
    "# # X_train, y_train = ADASYN().fit_resample(X_train, y_train)\n",
    "m = LogisticRegression(random_state=0)\n",
    "clf = make_pipeline(\n",
    "    ClusterCentroids(random_state=0), # good\n",
    "    # SMOTE(), # good\n",
    "    # ADASYN(),\n",
    "    m\n",
    ")\n",
    "\n",
    "# clf = m = SVC(kernel=\"linear\", C=0.025, random_state=42, probability=True)\n",
    "# clf = make_pipeline(StandardScaler(), clf)\n",
    "clf.fit(normalize(X_train), y_train)\n",
    "\n",
    "with open('screening_classifier.pkl','wb') as f:\n",
    "  pickle.dump(clf,f)\n",
    "\n",
    "y_pred = clf.predict(normalize(X_test))\n",
    "y_pred_prob = clf.predict_proba(normalize(X_test))\n",
    "\n",
    "print(y_pred_prob)\n",
    "\n",
    "# skew results\n",
    "for i in range(len(y_pred)):\n",
    "  if y_pred[i] == 0 and y_pred_prob[i][0] <= 0.52:\n",
    "    y_pred[i] = 1\n",
    "\n",
    "score = accuracy_score(y_test, y_pred)\n",
    "conf_matrix = confusion_matrix(y_test, y_pred)\n",
    "print(conf_matrix)\n",
    "print(f\"Accuracy on positive samples: {conf_matrix[1][1] / (conf_matrix[1][0] + conf_matrix[1][1])}\")\n",
    "print(f\"Accuracy on negative samples: {conf_matrix[0][0] / (conf_matrix[0][0] + conf_matrix[0][1])}\")\n",
    "disp = ConfusionMatrixDisplay(confusion_matrix=conf_matrix, display_labels=clf.classes_)\n",
    "disp.plot()\n",
    "print(\"Model: \", \"Logistic Regression\", \" score: \", score)\n"
   ]
  },
  {
   "cell_type": "markdown",
   "metadata": {},
   "source": [
    "## Rank features used "
   ]
  },
  {
   "cell_type": "code",
   "execution_count": 209,
   "metadata": {},
   "outputs": [
    {
     "name": "stdout",
     "output_type": "stream",
     "text": [
      "[('smokeyr', 5.346500339509188), ('smokeday', -3.6648876838893854), ('pkyr', 3.1453599447545213), ('weight', 2.3649028560890093), ('smokeage', -1.4802856755496967), ('ethnic', -1.458913585013767), ('educat', -1.4453652028435744), ('race', -1.3583065970699408), ('age', 0.5943781897933539), ('gender', -0.20900737487949467), ('cigsmok', 0.19891452565188275), ('diagemph', 0.11717690124504304), ('diagcopd', 0.09508172956359226), ('height', 0.08294863675580925), ('diaghear', 0.06579066839835894), ('pipe', 0.05432237697757261), ('diaghype', -0.03570425981902484), ('wrkweld', 0.0315791887702001), ('smokework', 0.02878931206311766), ('wrkasbe', 0.02850227322478505), ('wrkchem', 0.027505448840167), ('smokelive', -0.024833762508941485), ('diagasbe', 0.023845153247197295), ('diagpneu', 0.019781738553009524), ('diagbron', 0.019432362362461642), ('diagchro', 0.019414369828671917), ('wrkfire', 0.01891395770527059), ('diagadas', -0.015760170012195245), ('wrkfoun', 0.015001865645625799), ('diagchas', 0.013172233062104787), ('wrkbaki', -0.011811147587912482), ('wrksand', 0.009660882543650311), ('diagstro', -0.009484882318821351), ('wrkcoal', 0.00740040900937383), ('wrkbutc', -0.007161902919750317), ('diagdiab', -0.006224896766649082), ('diagsarc', 0.004396882653153967), ('wrkpain', 0.0042934866774801995), ('diagtube', 0.004121750535631764), ('wrkflou', 0.0030838507186213156), ('wrkcott', 0.0024201979851130487), ('cigar', -0.002319719934772026), ('wrkhard', -0.001570997263512152), ('diagsili', 0.0008670939918174533), ('wrkfarm', 0.0007956987602972612), ('diagfibr', 0.0006228035808987988)]\n"
     ]
    }
   ],
   "source": [
    "# Create lists of feature names and coefficients\n",
    "column_labels = X_train.columns.tolist()\n",
    "coef = m.coef_.squeeze().tolist()\n",
    "\n",
    "# Zip together\n",
    "labels_coef = list(zip(column_labels, coef))\n",
    "# Order by most significant features (positive or negative)\n",
    "feature_ranks = sorted(labels_coef, key=lambda x: abs(x[1]), reverse=True)\n",
    "\n",
    "print(feature_ranks)\n"
   ]
  },
  {
   "cell_type": "markdown",
   "metadata": {},
   "source": [
    "## Compare compare the probabilities of false positives and false negatives to true positives and true negatives"
   ]
  },
  {
   "cell_type": "code",
   "execution_count": 210,
   "metadata": {},
   "outputs": [],
   "source": [
    "true_negative_probs = []\n",
    "false_negative_probs = []\n",
    "true_positive_probs = []\n",
    "false_positive_probs = []\n",
    "\n",
    "y_pred_list = y_pred.tolist()\n",
    "y_pred_prob_list = y_pred_prob.tolist()\n",
    "y_test_list = y_test['lung_cancer'].tolist()\n",
    "\n",
    "for i in range(len(y_test)):\n",
    "  # true negative\n",
    "  if y_pred_list[i] == 0 and y_test_list[i] == 0:\n",
    "    true_negative_probs.append(y_pred_prob_list[i][0])\n",
    "  # false negative\n",
    "  elif y_pred_list[i] == 0 and y_test_list[i] == 1:\n",
    "    false_negative_probs.append(y_pred_prob_list[i][0])\n",
    "  # true positive\n",
    "  elif y_pred_list[i] == 1 and y_test_list[i] == 1:\n",
    "    true_positive_probs.append(y_pred_prob_list[i][1])\n",
    "  # false positive\n",
    "  else:\n",
    "    false_positive_probs.append(y_pred_prob_list[i][1])\n"
   ]
  },
  {
   "cell_type": "markdown",
   "metadata": {},
   "source": [
    "## Plot the confidence intervals that led to the different predictions. "
   ]
  },
  {
   "cell_type": "code",
   "execution_count": 211,
   "metadata": {},
   "outputs": [
    {
     "data": {
      "image/png": "[encoded data removed]",
      "text/plain": [
       "<Figure size 640x480 with 1 Axes>"
      ]
     },
     "metadata": {},
     "output_type": "display_data"
    }
   ],
   "source": [
    "data = {'false negative': false_negative_probs,\n",
    "               'true negative': true_negative_probs,\n",
    "               'false positive': false_positive_probs,\n",
    "               'true positive': true_positive_probs,\n",
    "              }\n",
    "cols = ['false negative', 'true negative', 'false positive', 'true positive']\n",
    "\n",
    "df = pd.DataFrame.from_dict(\n",
    "    data=dict(data),\n",
    "    orient='index',\n",
    ").T\n",
    "\n",
    "fig, ax = plt.subplots()\n",
    "\n",
    "ax = sns.stripplot(data=df)\n",
    "ax.set_ylim(0, 1)\n",
    "\n",
    "plt.show()\n"
   ]
  },
  {
   "cell_type": "code",
   "execution_count": 212,
   "metadata": {},
   "outputs": [
    {
     "name": "stderr",
     "output_type": "stream",
     "text": [
      "/home/codespace/.python/current/lib/python3.10/site-packages/sklearn/neighbors/_classification.py:233: DataConversionWarning: A column-vector y was passed when a 1d array was expected. Please change the shape of y to (n_samples,), for example using ravel().\n",
      "  return self._fit(X, y)\n"
     ]
    },
    {
     "name": "stdout",
     "output_type": "stream",
     "text": [
      "Model:  KNN  score:  0.5730353420274398\n"
     ]
    },
    {
     "data": {
      "image/png": "[encoded data removed]",
      "text/plain": [
       "<Figure size 640x480 with 2 Axes>"
      ]
     },
     "metadata": {},
     "output_type": "display_data"
    }
   ],
   "source": [
    "from imblearn.pipeline import make_pipeline\n",
    "from imblearn.under_sampling import RandomUnderSampler\n",
    "from imblearn.over_sampling import SMOTE, ADASYN\n",
    "from imblearn.under_sampling import ClusterCentroids\n",
    "from imblearn.under_sampling import RandomUnderSampler\n",
    "from imblearn.under_sampling import NearMiss\n",
    "\n",
    "m = KNeighborsClassifier(3)\n",
    "clf = make_pipeline(\n",
    "    RandomUnderSampler(random_state=0),\n",
    "    # ClusterCentroids(random_state=0), # good\n",
    "    # NearMiss(version=1),\n",
    "    # SMOTE(), # good\n",
    "    # ADASYN(),\n",
    "    m\n",
    ")\n",
    "# clf = make_pipeline(StandardScaler(), clf)\n",
    "clf.fit(normalize(X_train), y_train)\n",
    "y_pred = clf.predict(normalize(X_test))\n",
    "y_pred_prob = clf.predict_proba(normalize(X_test))\n",
    "\n",
    "score = accuracy_score(y_test, y_pred)\n",
    "conf_matrix = confusion_matrix(y_test, y_pred)\n",
    "disp = ConfusionMatrixDisplay(confusion_matrix=conf_matrix, display_labels=clf.classes_)\n",
    "disp.plot()\n",
    "print(\"Model: \", \"KNN\", \" score: \", score)\n",
    "\n",
    "# # Fit logistic regression model\n",
    "# model2 = KNeighborsClassifier(3)\n",
    "# model2.fit(X_train, y_train)\n",
    "\n",
    "# # Get confidence intervals for each prediction\n",
    "# y_pred_prob = model2.predict_proba(X_test)\n",
    "# # Get predicted values\n",
    "# y_pred = model2.predict(normalize(X_test))\n",
    "\n",
    "# # Get prediction accuracy\n",
    "# score = accuracy_score(y_test, y_pred)\n",
    "# # Get breakdown of false/true positives and false/true negatives\n",
    "# conf_matrix = confusion_matrix(y_test, y_pred)\n",
    "\n",
    "# # Display results\n",
    "# disp = ConfusionMatrixDisplay(confusion_matrix=conf_matrix, display_labels=clf.classes_)\n",
    "# disp.plot()\n",
    "# print(\"Model: \", \"KNN\", \" score: \", score)\n"
   ]
  },
  {
   "cell_type": "code",
   "execution_count": 213,
   "metadata": {},
   "outputs": [
    {
     "name": "stderr",
     "output_type": "stream",
     "text": [
      "/home/codespace/.python/current/lib/python3.10/site-packages/sklearn/base.py:1152: DataConversionWarning: A column-vector y was passed when a 1d array was expected. Please change the shape of y to (n_samples,), for example using ravel().\n",
      "  return fit_method(estimator, *args, **kwargs)\n"
     ]
    },
    {
     "name": "stdout",
     "output_type": "stream",
     "text": [
      "Model:  Random Forest  score:  0.6167159548165027\n"
     ]
    },
    {
     "data": {
      "image/png": "[encoded data removed]",
      "text/plain": [
       "<Figure size 640x480 with 2 Axes>"
      ]
     },
     "metadata": {},
     "output_type": "display_data"
    }
   ],
   "source": [
    "m = RandomForestClassifier()\n",
    "clf = make_pipeline(\n",
    "    RandomUnderSampler(random_state=0),\n",
    "    # ClusterCentroids(random_state=0), # good\n",
    "    # NearMiss(version=1),\n",
    "    # SMOTE(), # good\n",
    "    # ADASYN(),\n",
    "    m\n",
    ")\n",
    "# clf = make_pipeline(StandardScaler(), clf)\n",
    "clf.fit(normalize(X_train), y_train)\n",
    "y_pred = clf.predict(normalize(X_test))\n",
    "y_pred_prob = clf.predict_proba(normalize(X_test))\n",
    "\n",
    "score = accuracy_score(y_test, y_pred)\n",
    "conf_matrix = confusion_matrix(y_test, y_pred)\n",
    "disp = ConfusionMatrixDisplay(confusion_matrix=conf_matrix, display_labels=clf.classes_)\n",
    "disp.plot()\n",
    "print(\"Model: \", \"Random Forest\", \" score: \", score)\n"
   ]
  },
  {
   "cell_type": "code",
   "execution_count": 214,
   "metadata": {},
   "outputs": [
    {
     "name": "stdout",
     "output_type": "stream",
     "text": [
      "[('smokeyr', 0.0825536661981066), ('pkyr', 0.08246876256689324), ('weight', 0.07493711633068192), ('educat', 0.060549119062219985), ('age', 0.06024522788254442), ('smokeage', 0.05770357987882861), ('smokeday', 0.057232876085815766), ('height', 0.05330882288596152), ('ethnic', 0.050758294462722196), ('gender', 0.049053395903547736), ('race', 0.04788274280446253), ('smokework', 0.0448448021305362), ('smokelive', 0.04288271600870918), ('cigsmok', 0.03386641395090164), ('diaghype', 0.02795351742935192), ('diagpneu', 0.018872689903078672), ('pipe', 0.01509756356808675), ('cigar', 0.014112124521007099), ('diaghear', 0.013663717003423958), ('diagemph', 0.011945098219118551), ('diagcopd', 0.01009205733716882), ('diagchro', 0.009482455736536563), ('wrkfarm', 0.009196440196738482), ('diagdiab', 0.008313265196598276), ('diagadas', 0.0069835147451962655), ('wrkchem', 0.006701514523346633), ('wrkasbe', 0.005603561130986578), ('diagchas', 0.005500164132424915), ('wrkpain', 0.005093047261444916), ('diagbron', 0.004857194157891607), ('wrkweld', 0.0047114831904342585), ('wrkfoun', 0.004300466492672109), ('diagstro', 0.003348518113896393), ('wrkbutc', 0.002964186962995861), ('wrkbaki', 0.0026871141896894998), ('wrkfire', 0.001984615650955909), ('diagtube', 0.0017303344057808831), ('wrksand', 0.001496744723667743), ('wrkflou', 0.0013523974433269817), ('diagasbe', 0.0013367436955312667), ('wrkcoal', 0.000769840971420267), ('wrkcott', 0.0006880399050904798), ('wrkhard', 0.0004920658071998824), ('diagsarc', 0.0001567780601117077), ('diagfibr', 0.00012659110997097702), ('diagsili', 9.86180629243501e-05)]\n"
     ]
    }
   ],
   "source": [
    "# Create lists of feature names and coefficients\n",
    "column_labels = X_train.columns.tolist()\n",
    "coef = m.feature_importances_\n",
    "\n",
    "# Zip together\n",
    "labels_coef = list(zip(column_labels, coef))\n",
    "# Order by most significant features (positive or negative)\n",
    "feature_ranks = sorted(labels_coef, key=lambda x: abs(x[1]), reverse=True)\n",
    "\n",
    "print(feature_ranks)\n"
   ]
  },
  {
   "cell_type": "code",
   "execution_count": 215,
   "metadata": {},
   "outputs": [],
   "source": [
    "true_negative_probs = []\n",
    "false_negative_probs = []\n",
    "true_positive_probs = []\n",
    "false_positive_probs = []\n",
    "\n",
    "y_pred_list = y_pred.tolist()\n",
    "y_pred_prob_list = y_pred_prob.tolist()\n",
    "y_test_list = y_test['lung_cancer'].tolist()\n",
    "\n",
    "for i in range(len(y_test)):\n",
    "  # true negative\n",
    "  if y_pred_list[i] == 0 and y_test_list[i] == 0:\n",
    "    true_negative_probs.append(y_pred_prob_list[i][0])\n",
    "  # false negative\n",
    "  elif y_pred_list[i] == 0 and y_test_list[i] == 1:\n",
    "    false_negative_probs.append(y_pred_prob_list[i][0])\n",
    "  # true positive\n",
    "  elif y_pred_list[i] == 1 and y_test_list[i] == 1:\n",
    "    true_positive_probs.append(y_pred_prob_list[i][1])\n",
    "  # false positive\n",
    "  else:\n",
    "    false_positive_probs.append(y_pred_prob_list[i][1])\n"
   ]
  },
  {
   "cell_type": "code",
   "execution_count": 216,
   "metadata": {},
   "outputs": [
    {
     "data": {
      "image/png": "[encoded data removed]",
      "text/plain": [
       "<Figure size 640x480 with 1 Axes>"
      ]
     },
     "metadata": {},
     "output_type": "display_data"
    }
   ],
   "source": [
    "data = {'false negative': false_negative_probs,\n",
    "               'true negative': true_negative_probs,\n",
    "               'false positive': false_positive_probs,\n",
    "               'true positive': true_positive_probs,\n",
    "              }\n",
    "cols = ['false negative', 'true negative', 'false positive', 'true positive']\n",
    "\n",
    "df = pd.DataFrame.from_dict(\n",
    "    data=dict(data),\n",
    "    orient='index',\n",
    ").T\n",
    "\n",
    "fig, ax = plt.subplots()\n",
    "\n",
    "ax = sns.stripplot(data=df)\n",
    "ax.set_ylim(0, 1)\n",
    "\n",
    "plt.show()\n"
   ]
  },
  {
   "cell_type": "code",
   "execution_count": 217,
   "metadata": {},
   "outputs": [],
   "source": [
    "# from sklearn.model_selection import cross_val_score\n",
    "# scores = cross_val_score(clf, X, y, cv=10)\n",
    "# print(scores)\n"
   ]
  },
  {
   "cell_type": "code",
   "execution_count": null,
   "metadata": {},
   "outputs": [],
   "source": []
  },
  {
   "cell_type": "code",
   "execution_count": 218,
   "metadata": {},
   "outputs": [],
   "source": [
    "# from sklearn.svm import OneClassSVM\n",
    "\n",
    "# clf = OneClassSVM(gamma='auto').fit(X_train)\n",
    "\n",
    "# output = clf.predict(X_train)\n",
    "\n",
    "# print()\n"
   ]
  },
  {
   "cell_type": "code",
   "execution_count": 219,
   "metadata": {},
   "outputs": [],
   "source": [
    "# print(output)\n",
    "\n",
    "# print(len(output))\n",
    "# print(len(y_train))\n",
    "\n",
    "# print(y_train)\n",
    "\n",
    "# false_pos = 0\n",
    "# false_neg = 0\n",
    "# true_pos = 0\n",
    "# true_neg = 0\n",
    "\n",
    "# for i in range(len(output)):\n",
    "#   if output[i] == 1 and y_train.iloc[i]['lung_cancer'] == 0:\n",
    "#     true_neg += 1\n",
    "#   elif output[i] == 1 and y_train.iloc[i]['lung_cancer'] == 1:\n",
    "#     false_neg += 1\n",
    "#   elif output[i] == -1 and y_train.iloc[i]['lung_cancer'] == 0:\n",
    "#     false_pos += 1\n",
    "#   else:\n",
    "#     true_pos += 1\n",
    "\n",
    "# print(\"false_pos: \", false_pos, \" true_pos \", true_pos, \" false_neg \", false_neg, \" true_neg \", true_neg)\n"
   ]
  },
  {
   "cell_type": "code",
   "execution_count": 220,
   "metadata": {},
   "outputs": [],
   "source": [
    "# scores = clf.score_samples(X_train)\n"
   ]
  },
  {
   "cell_type": "code",
   "execution_count": 221,
   "metadata": {},
   "outputs": [],
   "source": [
    "# print(sorted(scores, reverse=True))\n",
    "\n",
    "# new_output = output[:]\n",
    "\n",
    "# for i in range(len(new_output)):\n",
    "#   if scores[i] < 2 and new_output[i] == -1:\n",
    "#     new_output[i] = 1\n",
    "#   elif scores[i] >= 2 and new_output[i] == 1:\n",
    "#     new_output[i] = -1\n",
    "\n",
    "# false_pos = 0\n",
    "# false_neg = 0\n",
    "# true_pos = 0\n",
    "# true_neg = 0\n",
    "\n",
    "# for i in range(len(output)):\n",
    "#   if new_output[i] == 1 and y_train.iloc[i]['lung_cancer'] == 0:\n",
    "#     true_neg += 1\n",
    "#   elif new_output[i] == 1 and y_train.iloc[i]['lung_cancer'] == 1:\n",
    "#     false_neg += 1\n",
    "#   elif new_output[i] == -1 and y_train.iloc[i]['lung_cancer'] == 0:\n",
    "#     false_pos += 1\n",
    "#   else:\n",
    "#     true_pos += 1\n",
    "\n",
    "# print(\"false_pos: \", false_pos, \" true_pos \", true_pos, \" false_neg \", false_neg, \" true_neg \", true_neg)\n"
   ]
  }
 ],
 "metadata": {
  "kernelspec": {
   "display_name": "Python 3 (ipykernel)",
   "language": "python",
   "name": "python3"
  },
  "language_info": {
   "codemirror_mode": {
    "name": "ipython",
    "version": 3
   },
   "file_extension": ".py",
   "mimetype": "text/x-python",
   "name": "python",
   "nbconvert_exporter": "python",
   "pygments_lexer": "ipython3",
   "version": "3.10.13"
  }
 },
 "nbformat": 4,
 "nbformat_minor": 2
}
